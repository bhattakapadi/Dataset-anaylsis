{
 "cells": [
  {
   "cell_type": "code",
   "execution_count": 1,
   "metadata": {},
   "outputs": [],
   "source": [
    "from deepface import DeepFace\n",
    "import face_recognition\n",
    "from PIL import Image\n",
    "import os\n",
    "from os import listdir\n",
    "#from multiprocessing import Pool #mission impossible currently"
   ]
  },
  {
   "cell_type": "code",
   "execution_count": 2,
   "metadata": {},
   "outputs": [],
   "source": [
    "import torch\n",
    "import torchvision.transforms as transforms\n",
    "import numpy as np\n",
    "from numpy import asarray\n",
    "import torch.nn.functional as F\n",
    "from emotion_detection.fer_data_utils import SkResize, HistEq, AddChannel, ToRGB\n",
    "from vision_utils.custom_architectures import SepConvModel\n",
    "#extra added\n",
    "from vision_utils.custom_architectures import SepConvModel, initialize_model, PretrainedMT\n",
    "from multitask_rag.evaluate import predict_utk as test_image"
   ]
  },
  {
   "cell_type": "code",
   "execution_count": 3,
   "metadata": {},
   "outputs": [],
   "source": [
    "import pandas as pd\n",
    "import urllib\n",
    "import requests\n",
    "\n",
    "import certifi\n",
    "import ssl\n",
    "import gc"
   ]
  },
  {
   "cell_type": "code",
   "execution_count": 4,
   "metadata": {},
   "outputs": [],
   "source": [
    "#for the downloading of images from the link\n",
    "user_agent = 'Mozilla/5.0 (Windows; U; Windows NT 5.1; en-US; rv:1.9.0.7) Gecko/2009021910 Firefox/3.0.7'\n",
    "headers={'User-Agent':user_agent,} \n",
    "context = ssl._create_unverified_context()"
   ]
  },
  {
   "cell_type": "code",
   "execution_count": 5,
   "metadata": {},
   "outputs": [],
   "source": [
    "PATHSEPCONV='/home/manish//Documents/democlassi/emotion-detection/sepconv_model_55_val_loss=1.175765.pth'\n",
    "PATHRESNETAGR='/home/manish/Documents/democlassi/other/resnet_model_21_val_loss=4.275671.pth'"
   ]
  },
  {
   "cell_type": "code",
   "execution_count": 6,
   "metadata": {},
   "outputs": [
    {
     "data": {
      "text/plain": [
       "<All keys matched successfully>"
      ]
     },
     "execution_count": 6,
     "metadata": {},
     "output_type": "execute_result"
    }
   ],
   "source": [
    "#emotion\n",
    "model = SepConvModel()\n",
    "model.load_state_dict(torch.load(PATHSEPCONV, map_location=\"cpu\"))\n",
    "\n",
    "#age-race-gender\n",
    "resnet_model_agr = PretrainedMT(model_name='resnet')\n",
    "resnet_model_agr.load_state_dict(torch.load(PATHRESNETAGR, map_location=\"cpu\"))"
   ]
  },
  {
   "cell_type": "code",
   "execution_count": 7,
   "metadata": {},
   "outputs": [],
   "source": [
    "data_transforms = transforms.Compose([\n",
    "    #transforms.Resize((500,500),Image.Resampling.LANCZOS),\n",
    "    transforms.Resize((200,200),Image.Resampling.LANCZOS),\n",
    "    transforms.ToTensor()\n",
    "])"
   ]
  },
  {
   "cell_type": "code",
   "execution_count": 8,
   "metadata": {},
   "outputs": [],
   "source": [
    "def democlassiEvaluate(pil_image,):\n",
    "    \n",
    "    img_tensor= data_transforms(pil_image) \n",
    "    imge = pil_image.convert('L')\n",
    "    img = imge.resize((120,120),Image.Resampling.LANCZOS)\n",
    "    numpydata = asarray(img)\n",
    "    res1=predict_fer(numpydata,model,True)\n",
    "    # with resent model--age--race--gender\n",
    "    #res2=test_image(img_tensor,resnet_model)\n",
    "    #with sep_conv_model --age--gender---race\n",
    "    #res2=test_image(img_tensor,sep_conv_model)\n",
    "    #with VGG model ---age--race--gender\n",
    "    #res2=test_image(img_tensor,vgg_model_agr)\n",
    "    \n",
    "    #for resnet model\n",
    "    res2 = test_image(img_tensor,resnet_model_agr)\n",
    "    \n",
    "    #for sepconv_ model\n",
    "    #res2 = test_image(img_tensor,sepconv_model_agr)\n",
    "    return res1,res2 "
   ]
  },
  {
   "cell_type": "code",
   "execution_count": 9,
   "metadata": {},
   "outputs": [],
   "source": [
    "def deepfaceOutput(obj1):\n",
    "    print(\"Deepface comparision\")\n",
    "    print(\"----Deepface---\")\n",
    "    print(\"Age:---\",{obj1['age']},\"---\")\n",
    "    print(\"Gender:---\",{obj1['gender']},\"---\")\n",
    "    print(\"Race:---\",{obj1['dominant_race']},\"---\")\n",
    "    print(\"Emotion:---\",{obj1['dominant_emotion']},\"---\")\n",
    "    print('------------------------------------------- ')\n"
   ]
  },
  {
   "cell_type": "code",
   "execution_count": 10,
   "metadata": {},
   "outputs": [],
   "source": [
    "def predict_fer(image, model, transf_learn=True):\n",
    "\n",
    "    # process image\n",
    "    image = preprocess_fer(image, transf_learn)\n",
    "    \n",
    "    # prepare model\n",
    "    device = torch.device('cuda' if torch.cuda.is_available() else 'cpu')\n",
    "    model.eval()\n",
    "    model = model.to(device)\n",
    "    image = image.to(device)\n",
    "\n",
    "    # predict probabilities\n",
    "    emotion = F.softmax(model(image), dim=1).detach().to('cpu').numpy()[0]\n",
    "    target_names = ['Angry', 'Disgusted', 'Afraid', 'Happy', 'Sad', 'Surprised', 'Neutral']\n",
    "    pred_label = target_names[np.argmax(emotion)]\n",
    "\n",
    "    emotion_probs = dict(zip(target_names, emotion))\n",
    "\n",
    "    return emotion_probs, pred_label"
   ]
  },
  {
   "cell_type": "code",
   "execution_count": 11,
   "metadata": {},
   "outputs": [],
   "source": [
    "def preprocess_fer(image, transf_learn):\n",
    "    if transf_learn:\n",
    "        transf = transforms.Compose([\n",
    "            transforms.ToTensor()\n",
    "        ])\n",
    "    else:\n",
    "        transf = transforms.Compose([\n",
    "            HistEq(),\n",
    "            AddChannel(),\n",
    "            transforms.ToTensor()\n",
    "        ])\n",
    "        print(transf(image))  \n",
    "\n",
    "    return transf(image).to(torch.float32).unsqueeze_(0)\n"
   ]
  },
  {
   "cell_type": "code",
   "execution_count": 12,
   "metadata": {},
   "outputs": [],
   "source": [
    "#evalution stats"
   ]
  },
  {
   "cell_type": "code",
   "execution_count": 13,
   "metadata": {},
   "outputs": [],
   "source": [
    "# create outer class\n",
    "class Stats:\n",
    "\tdef __init__(self,framework,gender):\n",
    "\t\tself.framework = framework\n",
    "\t\tself.gender = gender\n",
    "\t\tself.probability = 0\n",
    "\t\tself.picAnalysed = 0\n",
    "\t\tself.age = 0\n",
    "        \n",
    "\n",
    "\t# create a 1st Inner class\n",
    "\tclass Race:\n",
    "\t\tdef __init__(self):\n",
    "\t\t\tself.white = 0\n",
    "\t\t\tself.black = 0\n",
    "\t\t\tself.asian = 0\n",
    "\t\t\tself.indian = 0\n",
    "\t\t\tself.unknown = 0\n",
    "\n",
    "\n",
    "\t# create a 2nd Inner class\n",
    "\tclass Emotion:\n",
    "\t\tdef __init__(self):\n",
    "\t\t\tself.angry = 0\n",
    "\t\t\tself.disgust = 0\n",
    "\t\t\tself.fear = 0\n",
    "\t\t\tself.happy = 0\n",
    "\t\t\tself.sad = 0\n",
    "\t\t\tself.suprise = 0\n",
    "\t\t\tself.neutral = 0"
   ]
  },
  {
   "cell_type": "code",
   "execution_count": 14,
   "metadata": {},
   "outputs": [],
   "source": [
    "def printDemoClassiOutput(res1,res2):\n",
    "    print(\"Democlassi comparision\")\n",
    "    print(\"---Democlassi---\")\n",
    "    print(\"Age:---\",{round(res2[0], 0)},\"---\")\n",
    "    print(\"Gender:---\",{res2[2]},\"---\")\n",
    "    print(\"Race:---\",{res2[4]},\"---\")\n",
    "    print(\"Emotion:---\",{res1[1]},\"---\") #res1 for emotion"
   ]
  },
  {
   "cell_type": "code",
   "execution_count": 15,
   "metadata": {},
   "outputs": [],
   "source": [
    "def deepfaceStats(stats,obj,prob):\n",
    "    stats.age = stats.age + obj['age']\n",
    "    stats.probability = stats.probability + prob\n",
    "    stats.picAnalysed= stats.picAnalysed + 1 \n",
    "    \n",
    "    if obj['dominant_race'] == \"white\":\n",
    "        stats.race.white = stats.race.white+1\n",
    "    elif obj['dominant_race']  == \"black\":\n",
    "        stats.race.black = stats.race.black+1\n",
    "    elif obj['dominant_race']  == \"asian\":\n",
    "        stats.race.asian = stats.race.asian+1\n",
    "    elif obj['dominant_race']  == \"indian\":\n",
    "        stats.race.indian = stats.race.indian+1\n",
    "    else:\n",
    "        stats.race.unknown = stats.race.unknown+1\n",
    "        \n",
    "        \n",
    "    if obj['dominant_emotion']== \"angry\":\n",
    "        stats.emotion.angry= stats.emotion.angry+1\n",
    "    elif obj ['dominant_emotion'] == \"disgust\":\n",
    "        stats.emotion.disgust = stats.emotion.disgust+1\n",
    "    elif obj['dominant_emotion']== \"afraid\":\n",
    "        stats.emotion.afraid = stats.emotion.afraid+1\n",
    "    elif obj['dominant_emotion']== \"happy\":\n",
    "        stats.emotion.happy = stats.emotion.happy+1\n",
    "    elif obj['dominant_emotion'] == \"sad\":\n",
    "        stats.emotion.sad = stats.emotion.sad+1\n",
    "    elif obj['dominant_emotion'] == \"surprised\":\n",
    "        stats.emotion.suprise = stats.emotion.suprise+1\n",
    "    else:\n",
    "        stats.emotion.neutral = stats.emotion.neutral+1"
   ]
  },
  {
   "cell_type": "code",
   "execution_count": 16,
   "metadata": {},
   "outputs": [],
   "source": [
    "def classiStats(stats,res1,res2,prob):\n",
    "    stats.age = stats.age + round(res2[0],0)\n",
    "    stats.probability = stats.probability + prob\n",
    "    stats.picAnalysed = stats.picAnalysed + 1 \n",
    "    \n",
    "    if res2[4] == \"White\":\n",
    "        stats.race.white = stats.race.white+1\n",
    "    elif res2[4] == \"Black\":\n",
    "        stats.race.black = stats.race.black+1\n",
    "    elif res2[4] == \"Asian\":\n",
    "        stats.race.asian = stats.race.asian+1\n",
    "    elif res2[4] == \"Indian\":\n",
    "        stats.race.indian = stats.race.indian+1\n",
    "    else:\n",
    "        stats.race.unknown = stats.race.unknown+1\n",
    "        \n",
    "        \n",
    "    if res1[1] == \"Angry\":\n",
    "        stats.emotion.angry= stats.emotion.angry+1\n",
    "    elif res1[1] == \"Disgusted\":\n",
    "        stats.emotion.disgust = stats.emotion.disgust+1\n",
    "    elif res1[1] == \"Afraid\":\n",
    "        stats.emotion.afraid = stats.emotion.afraid+1\n",
    "    elif res1[1] == \"Happy\":\n",
    "        stats.emotion.happy = stats.emotion.happy+1\n",
    "    elif res1[1] == \"Sad\":\n",
    "        stats.emotion.sad = stats.emotion.sad+1\n",
    "    elif res1[1] == \"Surprised\":\n",
    "        stats.emotion.suprise = stats.emotion.suprise+1\n",
    "    else:\n",
    "        stats.emotion.neutral = stats.emotion.neutral+1"
   ]
  },
  {
   "cell_type": "code",
   "execution_count": 17,
   "metadata": {},
   "outputs": [],
   "source": [
    "def evaluateDemoclassi(folder_dir, save_dir,statsmen,statswomen):\n",
    "    for images in os.listdir(folder_dir):\n",
    "        if (images.endswith(\".png\") or images.endswith(\".jpg\")or images.endswith(\".jpeg\")):\n",
    "            new=folder_dir+\"/\"+images\n",
    "            print(new)\n",
    "            try: \n",
    "                image = face_recognition.load_image_file(new)\n",
    "                face_locations = face_recognition.face_locations(image, number_of_times_to_upsample=0, model=\"resnet\")\n",
    "                if len(face_locations) != 0 :\n",
    "                    nofpeople=len(face_locations)\n",
    "                    for face_location in face_locations:\n",
    "                        top, right, bottom, left = face_location\n",
    "                        face_image = image[top:bottom,left:right]\n",
    "                        pil_img = Image.fromarray(face_image)\n",
    "                        pil_image = pil_img.resize((400,400),Image.Resampling.LANCZOS)\n",
    "                        res1, res2 = democlassiEvaluate(pil_image)\n",
    "\n",
    "                        #probability of the person \n",
    "                        if nofpeople == 1 :\n",
    "                            prob = 1\n",
    "                        else:\n",
    "                            prob = 1/nofpeople\n",
    "\n",
    "                        if res2[2].lower() == \"man\" :\n",
    "                            classiStats(statsmen,res1,res2,prob)\n",
    "                        else:\n",
    "                            classiStats(statswomen,res1,res2,prob)\n",
    "                        #democlassiOutput(res1,res2)\n",
    "            except:\n",
    "                continue"
   ]
  },
  {
   "cell_type": "code",
   "execution_count": 18,
   "metadata": {},
   "outputs": [],
   "source": [
    "def evaluateDeepface(folder_dir, save_dir,deepstatsMen,deepstatsWomen):\n",
    "    for images in os.listdir(folder_dir):\n",
    "        if (images.endswith(\".png\") or images.endswith(\".jpg\")or images.endswith(\".jpeg\")):\n",
    "            new=folder_dir+\"/\"+images\n",
    "            print(new)\n",
    "            try: \n",
    "                image = face_recognition.load_image_file(new)\n",
    "                face_locations = face_recognition.face_locations(image, number_of_times_to_upsample=0, model=\"resnet\")\n",
    "                if len(face_locations) != 0 :\n",
    "                    nofpeople=len(face_locations)\n",
    "                    print(\"Number of people: \"+str(nofpeople))\n",
    "                    for face_location in face_locations:\n",
    "                        top, right, bottom, left = face_location\n",
    "                        face_image = image[top:bottom,left:right]\n",
    "                        pil_img = Image.fromarray(face_image)\n",
    "                        pil_image = pil_img.resize((400,400),Image.Resampling.LANCZOS)\n",
    "\n",
    "                        fileLocation=save_dir+'/'+'tmp.jpg' #temporary saves the data\n",
    "                        pil_image.save(fileLocation,\"JPEG\")\n",
    "                        obj= DeepFace.analyze(img_path=fileLocation, enforce_detection=False)\n",
    "\n",
    "                        #probability of the person \n",
    "                        prob = 1/nofpeople\n",
    "\n",
    "\n",
    "                        if obj[\"gender\"] == \"Man\" :\n",
    "                            deepfaceStats(deepstatsMen,obj,prob)\n",
    "                        else:\n",
    "                            deepfaceStats(deepstatsWomen,obj,prob)\n",
    "\n",
    "                        deepfaceOutput(obj)\n",
    "            except: \n",
    "                continue\n",
    "                        \n",
    "                    #printDemoClassiOutput(obj)\n",
    "    #print('++++++++++++++++++++++++++++++++++++++++++')  "
   ]
  },
  {
   "cell_type": "code",
   "execution_count": 19,
   "metadata": {},
   "outputs": [],
   "source": [
    "def printStats(stats):\n",
    "    if stats.picAnalysed  != 0 :\n",
    "        print(\" Number of image analyzed: \" + str(stats.picAnalysed))\n",
    "        averageAge = stats.age / stats.picAnalysed \n",
    "        print(\"average age:\" + str(averageAge))\n",
    "        print(\"probability:  \" + str(stats.probability ))\n",
    "\n",
    "\n",
    "        print(\"-----------------Race------------------\")\n",
    "        print(\"White: \"+ str(stats.race.white))\n",
    "        print(\"Black: \" + str(stats.race.black))\n",
    "        print(\"Asian:\" +str(stats.race.asian))\n",
    "        print(\"Indian: \" + str(stats.race.indian))\n",
    "        print(\"Unknown: \" + str(stats.race.unknown))\n",
    "\n",
    "        print(\"---------Emotion------------------\")\n",
    "        print(\"Angry: \" + str(stats.emotion.angry))\n",
    "        print(\"Disgust: \" + str(stats.emotion.disgust))\n",
    "        print(\"fear: \" + str(stats.emotion.fear))\n",
    "        print(\"Hppy: \" + str(stats.emotion.happy))\n",
    "        print(\"sad: \" + str(stats.emotion.sad))\n",
    "        print(\"Suprise:\" + str(stats.emotion.suprise))\n",
    "        print(\"neutral: \" + str(stats.emotion.neutral) )\n",
    "    else: \n",
    "        print(\"no stats for detected\"+stats.framework +\" for \"+ stats.gender)\n",
    "\n",
    "\n"
   ]
  },
  {
   "cell_type": "code",
   "execution_count": 20,
   "metadata": {
    "scrolled": false
   },
   "outputs": [
    {
     "name": "stdout",
     "output_type": "stream",
     "text": [
      "datasetName: /home/manish/Documents/dataset/part-00039-5d6701c4-b238-4c0a-84e4-fe8e9daea963-c000.snappy.parquet\n",
      "url: https://nampapolice.org/ImageRepository/Document?documentID=7689\n",
      "+--------------------------------------+\n",
      "Text: Several Nampa Police Officers in uniform in front of the Nampa Police Station and the words press re\n",
      "url: https://portal-images.azureedge.net/auctions-2021/dix-no10154/images/9acd0fe3-89b8-40fc-b8fd-ad3d00f513e1.jpg\n",
      "+--------------------------------------+\n",
      "Text: A small Collection of Scottish Police Badges\n",
      "url: https://www.dailyherald.com/storyimage/DA/20131126/news/711269819/EP/1/1/EP-711269819.jpg&amp;updated=201311261625&amp;MaxW=800&amp;maxH=800&amp;noborder\n",
      "+--------------------------------------+\n",
      "Text: Bob Chwedyk/bchwedyk@dailyherald.comFremont Township Highway Commissioner Bill Grinnell, right, is helped by Jose Mendoza of Elly's Pancake House to load turkeys into his vehicle for the Fremont Township Food Pantry. Fremont Township joined the Mundelein Police Department and Elly's on Tuesday to provide Thanksgiving meals to local families in need.\n",
      "url: https://i.ebayimg.com/images/g/QYQAAOSw-olaNlJ4/s-l1600.jpg\n",
      "+--------------------------------------+\n",
      "Text: Matchbox Superfast 24e Datsun 280zx Japanese Police Car - Mint Boxed\n",
      "url: https://www.shannons.com.au/library/images/auctions/D6590E70G857NYA4/1600x1066/pedal-car-police-highway-patrol-by-novelty-burns-90cm-length.jpg\n",
      "+--------------------------------------+\n",
      "Text: Pedal Car - Police Highway Patrol by Novelty Burns (90cm length)\n",
      "url: https://images.tagotee.com/2021/09/In-This-House-We-Value-Our-Police-Religious-Liberty-Free-Speech-Strong-Borders-Yard-Sign.jpg\n",
      "+--------------------------------------+\n",
      "Text: In This House We Value Our Police Religious Liberty Free Speech Strong Borders Yard Sign\n",
      "url: https://tridentnewspaper.com/wp-content/uploads/2017/08/Police-dog-DSC_0110-1.jpg\n",
      "+--------------------------------------+\n",
      "Text: Sgt and police dog\n",
      "url: https://www.telegraph.co.uk/content/dam/football/2019/05/09/TELEMMGLPICT000196486125_trans%2B%2BLeUJvOJqnV613e1NxllMSYIixnj0N-lTmS4HQcSqwKA.jpeg\n",
      "+--------------------------------------+\n",
      "Text: Exclusive: Uefa and police plan biggest ever security\n",
      "url: https://idsb.tmgrup.com.tr/ly/uploads/images/2020/10/15/thumbs/800x531/65375.jpg?v=1602774660\n",
      "+--------------------------------------+\n",
      "Text: A Roma family stands outside their makeshift shelter built after police seized their caravan two weeks earlier in an illegal camp in Roubaix, near Lille, northern France, Aug. 17, 2010. (Reuters Photo)\n",
      "url: https://static.actu.fr/uploads/2018/12/CHA_7092_censored.jpg\n",
      "+--------------------------------------+\n",
      "Text: Les renforts de police venaient de toutes les Yvelines. (© Le Courrier de Mantes)\n",
      "url: https://www.dailyherald.com/storyimage/DA/20130302/news/703029913/AR/0/AR-703029913.jpg&amp;updated=201303020003&amp;MaxW=800&amp;maxH=800&amp;noborder\n",
      "+--------------------------------------+\n",
      "Text: Columbia College television instructor Matt Till directs Morgan Niesen, left, and Riley Doyle, both seventh-graders at Woodland Middle School in Gurnee, while they acted in a video produced there Feb. 15. Gurnee police will use the video to help school employees who were hired in the middle of an academic year and didn't receive lockdown training.\n",
      "url: https://kiddicolour.com/wp-content/uploads/2019/06/voiture-de-police-coloriage-dessin-image-%C3%A0-colorier-01H.png\n",
      "+--------------------------------------+\n",
      "Text: voiture de police coloriage dessin image à colorier 01H\n",
      "url: https://www.muraldecal.com/en/img/magk017_2-jpg/folder/products-detalle-muestras-grandes/wall-stickers-for-kids-kit-police-2.jpg\n",
      "+--------------------------------------+\n",
      "Text: Stickers for Kids: Kit Police 2\n",
      "url: http://static-25.sinclairstoryline.com/resources/media/c0a5ddc1-3bed-49b8-afa4-7c95585ff787-AP_18019772953949.jpg\n",
      "+--------------------------------------+\n",
      "Text: This Oct. 2017 photo released by the Las Vegas Metropolitan Police Department Force Investigation Team Report showing the interior of Las Vegas shooter Stephen Paddock's 32nd floor room of the Mandalay Bay hotel, an evidence imaged released as part of a preliminary report by Clark County Sheriff Joe Lombardo on Friday, Jan. 19, 2018, in Las Vegas. Paddock began shooting into the crowd attending the Route 91 Music Festival from his hotel room into a crowd of 22,000 people attending the Route 91 Harvest Festival music below on Oct. 1, 2017.  (Las Vegas Metropolitan Police Department via AP)\n",
      "url: https://www.maxplay.co.il/images/thumbs/000/0006873_lego-city-police-patrol-boat-60277.jpeg\n",
      "+--------------------------------------+\n",
      "Text: Lego City - Police Patrol Boat 60277\n",
      "url: https://i.insider.com/575b0c05910584e73c8c804a?width=2400\n",
      "+--------------------------------------+\n",
      "Text: In this Nov. 24, 2014, file photo, students, parents and grandparents hold signs during a protest across the street from Norman High School in Norman, Okla. Police say they have arrested Tristen Kole Killman-Hardin, 18, a former Norman High School student, and accused him of raping an unconscious girl, alleging he's responsible for an attack that helped trigger protests by his former classmates. (AP Photo/Sue Ogrocki, File)\n",
      "url: https://matrixmedia.marismatrix.com/MediaServer/GetMedia.ashx?Key=80969922&TableID=5&Type=1&Number=0&Size=7&exk=66061bdd5be19b3cf9f35166aeb88540\n",
      "+--------------------------------------+\n",
      "Text: Imagine owning a historic home in fashionable Washington Terrace that embodies everything exciting about CWE living- historic, grand homes with an ideal location. Easily walk to Forest Park, Metro Link, restaurants, a movie theater & more. This manse features impeccable millwork, stained glass, fireplaces, and a grand staircase. Gracious dining room with fireplace. Living room with pocket doors that lead to a family room, both with impressive fireplaces. The kitchen has been updated with granite counters, center island, newer appliances & breakfast room/ butler's pantry. Primary suite with an updated bathroom featuring a soaking tub, separate shower & double vanity. Carriage house with 2-car garage and apartment. Heated swimming pool. Fun facts: Bob Cassilly (City Museum founder) designed the privacy wall, department store scion Julius Baer once lived here, and Washington Terrace is on the National Registry of Historic Places with a police substation in the famous gatehouse.\n",
      "url: https://www.dailyherald.com/storyimage/DA/20130716/news/707169721/EP/1/4/EP-707169721.jpg&amp;updated=201307161649&amp;MaxW=800&amp;maxH=800&amp;updated=201307161649&amp;noborder\n",
      "+--------------------------------------+\n",
      "Text: Elgin Police SWAT members do a room by room sweep during a security exercise involving a simulated shooting Tuesday at Abbott Middle School.\n",
      "url: https://www.cville.kyschools.us:443/userfiles/1159/my%20files/ces%20assembly%20police%20officers%202.jpg?id=35723&amp;width=400\n",
      "+--------------------------------------+\n",
      "Text: Campbellsville Police officers Jake Hedgespeth, at left, and David Tucker greet CES students during their Friday morning assembly.\n",
      "url: https://img.huffingtonpost.com/asset/5cda281f2100005800d0c1ac.jpeg?cache=jlajasmzyw&amp;ops=620_349\n",
      "+--------------------------------------+\n",
      "Text: NEW YORK, NY - DECEMBER 4:  A woman holds a sign as she takes part in a protest following yesterday's decision by a Staten Island grand jury not to indict a police officer who used a chokehold in the death of Eric Garner in July, in Foley Square on December 4, 2014  in New York City.  The grand jury declined to indict New York City Police Officer Daniel Pantaleo in Garner's death.  (Photo by Kena Betancur/Getty Images)\n",
      "url: http://www.atkinsondrive.com/wp-content/uploads/2014/09/PoliceCostumeSquare.jpg\n",
      "+--------------------------------------+\n",
      "Text: Homemade #Halloween Police Officer #Costume by Atkinson Drive  sc 1 st  Atkinson Drive & Homemade Halloween: Police Officer Costume | Atkinson Drive\n",
      "url: https://s3.us-east-2.amazonaws.com/dealer-inspire-vps-vehicle-images/11002341/1HD1FMC10JB656430/462265641dd8ee27c4f0d217a666c119.jpg\n",
      "+--------------------------------------+\n",
      "Text: Pre-Owned 2018 Harley-Davidson Electra Glide Police FLHTP\n"
     ]
    },
    {
     "name": "stdout",
     "output_type": "stream",
     "text": [
      "url: https://media.pri.org/s3fs-public/story/images/RTX13TNN.jpg\n",
      "+--------------------------------------+\n",
      "Text: A Kenyan police officer tries to secure an area inside the Westgate Shopping Centre after a militant siege.\n",
      "url: https://collections.ushmm.org/iiif-b/assets/761581\n",
      "+--------------------------------------+\n",
      "Text: Civilians arrested by German police are held prisoner in the courtyard of the Montelupich prison in Krakow.\n",
      "url: https://assets.telegraphindia.com/telegraph/9075993c-12f6-4cba-8440-0b4c0291b8a7.jpg\n",
      "+--------------------------------------+\n",
      "Text: A police officer stops Rahul Gandhi and Priyanka Gandhi Vadra from entering Meerut on Tuesday. Barred by Uttar Pradesh police, Rahul and Priyanka talked to the families on the phone and returned to Delhi.\n",
      "url: https://vid.alarabiya.net/images/2018/03/21/d21723d7-9b05-42e3-975b-7874751239f1/d21723d7-9b05-42e3-975b-7874751239f1.jpg\n",
      "+--------------------------------------+\n",
      "Text: Indian para-military force soldiers push exiled Tibetan activists into a police bus during a protest outside the Chinese Embassy, in New Delhi, on March 9, 2018. (AP)\n",
      "url: https://production.cdn.uklocal.tv/wp-content/uploads/sites/5/2021/03/30163855/Snapshot-30-03-2021-1612-scaled.jpg\n",
      "+--------------------------------------+\n",
      "Text: DRINK & DRUG DRIVERS: Police issue warning after spike in suspected drink & drug drivers\n",
      "url: https://cdn.shopify.com/s/files/1/0070/3001/4015/products/20200214-185322_1024x1024@2x.jpg?q=v%3D1581722791\n",
      "+--------------------------------------+\n",
      "Text: Tiny Ford Transit Mk2 Am8100 Royal Hong Kong Police Eu Speed 70\n",
      "url: https://www.gannett-cdn.com/presto/2018/10/29/PASH/cb78ea87-75df-477c-a357-f1d01e6a7468-Bingaman_Dedication_023.JPG?crop=3204,2399,x143,y0&amp;width=80&amp;height=60&amp;fit=bounds\n",
      "+--------------------------------------+\n",
      "Text: Framed signs mirroring the one that will be placed on Old Haywood Road to dedicate the road to Asheville police officer Robert Bingaman are presented to his parents and widow during a ceremony at the Traffic Safety Office on the five-year-anniversary of his death on Oct. 29, 2018.\n",
      "url: https://playshop.co.il/images/thumbs/000/0006569_lego-city-police-prisoner-transport.jpeg\n",
      "+--------------------------------------+\n",
      "Text: Lego City Police Prisoner Transport\n",
      "url: https://sarifm.org/wp-content/uploads/2020/12/unnamed-7.jpg\n",
      "+--------------------------------------+\n",
      "Text: How the Telangana Police is targeting Adivasi students, lawyers and activists\n",
      "url: https://i.ebayimg.com/images/g/QyEAAOSwF1tb-87S/s-l1600.jpg\n",
      "+--------------------------------------+\n",
      "Text: 60141 LEGO City Police Police Station 894 Pieces Age 6-12 New Release for 2017\n",
      "url: http://monticelloexpress.com/sites/default/files/Austin%27s%20halloween%204.JPG\n",
      "+--------------------------------------+\n",
      "Text: \"The Third Annual Austin's Halloween Fun Night was held at the Berndes Center on Oct. 26. A costume contest was held that evening, with guest judges Monticello Police Officer Erik Honda, Monticello Firefighter Nick Kahler, and Ambulance Director Dawn Brus. Here, Kahler and entertainer Toby \"\"Kid\"\" present a kid's bike to second-place finisher Elora Rance. The top four included: Beckett Dietz, first place; Rance, second; Roman Yager, third; and Tyler Soppe, fourth. (Photos by Kim Brooks)\"\n",
      "url: https://pro2-bar-s3-cdn-cf2.myportfolio.com/fe06ca1f54fd69d27377e7e5fff7c290/31365dbd76a9c3d59b1faf1b_rw_1920.jpg?h=c283c860e538c00109fe294c25595f27\n",
      "+--------------------------------------+\n",
      "Text: ethics discretion and professionalism in policing The return of police professionalism 6 7 2 | new perspectives in policing cooperation with the public and, to facilitate that consultation and cooperation, authority within.\n",
      "url: http://img1.wsimg.com/isteam/ip/1b1d9cb8-71c1-4f28-965b-faa8d9d01b58/05b0b0f3-9a02-49a3-bf80-0f5b2cd27eca.jpg\n",
      "+--------------------------------------+\n",
      "Text: About Us | Rhode Island Cold Case by Pawtucket Police Department\n",
      "url: https://image.jimcdn.com/app/cms/image/transf/none/path/s1fd90a3b4507ef6c/image/i1537781a48b31b00/version/1521968518/image.jpg\n",
      "+--------------------------------------+\n",
      "Text: Eine AS365 der Kuwait Police im Hangar.\n",
      "url: https://static-35.sinclairstoryline.com/resources/media/2e356a2e-de56-4a34-856b-3ff3882988b5-AP18201560931609.jpg\n",
      "+--------------------------------------+\n",
      "Text: Hans-Joachim Grote, left, Minister of the Interior of Schleswig-Holstein, and Jan Lindenau, Mayor of Luebeck, get informed by police at the scene of a knife attack. (Markus Scholz/dpa via AP)\n",
      "url: https://cdn.shopify.com/s/files/1/1139/3234/products/Sportivo-ss-0019_2048x2048.jpg?v=1591195114\n",
      "+--------------------------------------+\n",
      "Text: Komma police records t-shirt white\n",
      "url: https://images.weserv.nl/?url=img.staticbg.com/thumb/large/oaupload/banggood/images/5E/95/6c68e18d-ba29-4547-8e89-bd206c2bd8d1.jpg&q=80\n",
      "+--------------------------------------+\n",
      "Text: 200W 9 Sound Tones Car Truck Warning Alarm Police Siren Horn Speaker MIC System\n",
      "url: https://cdn3.creativecirclemedia.com/liherald/original/1501262135_2f55.jpg\n",
      "+--------------------------------------+\n",
      "Text: Nassau County police on the scene at Sonny O's Pub on March 13, where a man was shot and killed.\n",
      "url: https://cdnblog.picsart.com/2016/05/VTS02-03-14LN-superJumbo.jpg\n",
      "+--------------------------------------+\n",
      "Text: Riot Police in Foam at a Protest in Belgium | Photo by Yves Herman | Photojournalism Tips\n",
      "url: https://dynaimage.cdn.cnn.com/cnn/digital-images/org/93e6b3a8-4659-4155-832c-d0640c77e3fd.jpg\n",
      "+--------------------------------------+\n",
      "Text: Protesters march across the Brooklyn Bridge as part of a solidarity rally June 9, calling for justice over the death of George Floyd, and to highlight police brutality nationwide.\n",
      "url: https://cdp.azureedge.net/products-private/prod/d3bca852-5d8b-4960-8e29-1e9f89f9d95d/a5e900c8-22eb-44a9-8593-eb58e497fa36/00000000-0000-0000-0000-000000000000/074be04a-02a2-4128-b29a-a14600f46842/7f3dbc51-d73b-49c1-a823-a82a011d03f1/6000000002.jpg\n",
      "+--------------------------------------+\n",
      "Text: 2012 Harley-Davidson Police Road King® in Fredericksburg, Virginia\n",
      "url: https://www.trussvilletribune.com/wp-content/uploads/2019/12/LEEDS-WANTED.png\n",
      "+--------------------------------------+\n",
      "Text: Leeds Police asking for help identifying 3 people accused of theft\n",
      "url: https://cdn.shoplightspeed.com/shops/634877/files/20556863/1600x2048x1/ravensburger-2x24-police-at-work.jpg\n",
      "+--------------------------------------+\n",
      "Text: Ravensburger 2x24 Police at Work\n",
      "url: https://www.publicsafetyapp.com/images/customer-departments/dept997/POLICE_PATCH_2012.jpg\n",
      "+--------------------------------------+\n",
      "Text: Havre Police Department , MT Public Safety Jobs\n",
      "url: https://clipartart.com/images/clipart-of-police-car-5.png\n",
      "+--------------------------------------+\n",
      "Text: Ambulance car clipart vector freeuse stock Police car Clip art - Ambulance police car 2244*1868 transprent Png ... vector freeuse stock\n",
      "url: https://cloud.visura.co/661715.xx_large.jpg\n",
      "+--------------------------------------+\n",
      "Text: Army and police confiscate a man who violates the curfew in the peripheral neighborhoods of the city on Friday, May 8, 2020 in Quito - Ecuador. Johis Alarcón for The New York Times\n",
      "url: https://media.visio-net.fr/oscommerce/images/viewerxxl/police-Brooklyn-2-SPL362-0700-55_1/police-Brooklyn-2-SPL362-0700-55_1_1.jpg\n",
      "+--------------------------------------+\n",
      "Text: lunettes de soleil police spl 362 0700 noir pas cher visionet. Black Bedroom Furniture Sets. Home Design Ideas\n",
      "url: https://www.johnheath.com/content/uploads/2013/04/dubai_lamborghini.jpg\n",
      "+--------------------------------------+\n",
      "Text: Dubai Police - Lamborghini\n",
      "url: https://4dhm2deucu5yphr93fnr1c2c-wpengine.netdna-ssl.com/wp-content/uploads/2021/04/24770679_web1_CASTONGUAY_Yves_Gerard.jpg\n",
      "+--------------------------------------+\n",
      "Text: Yves Castonguay, 47, is wanted on hate crime and mischief charges in connection to vandalism at the Chinese Cultural Centre in April 2020. (Vancouver Police Department)\n",
      "url: https://is4-ssl.mzstatic.com/image/thumb/Purple69/v4/61/e7/60/61e76039-2436-26a3-14e1-516466b8c048/source/2208x1242bb.jpg\n",
      "+--------------------------------------+\n",
      "Text: Subway Police Dog Simulator – Cop dogs chase simulation game Screenshot\n",
      "url: http://d3n8a8pro7vhmx.cloudfront.net/labourclp156/pages/425/attachments/original/1395741123/00e77c88-0d69-fd24-791f-5264453c5dcd.jpg?1395741123\n",
      "+--------------------------------------+\n",
      "Text: Merseyside Police and Crime Commissioner Jane Kennedy and Sefton Area Police Commander Chief Superintendent Nikki Holland with The Terriers cast members and pupils after the performance at Maghull High.\n"
     ]
    },
    {
     "name": "stdout",
     "output_type": "stream",
     "text": [
      "url: https://clipartart.com/images/police-officer-face-clipart-5.jpg\n",
      "+--------------------------------------+\n",
      "Text: Police officer face clipart clip download Clipart of a Happy Caucasian Male Police Officer Face - Royalty ... clip download\n",
      "url: https://www.ekathimerini.com/wp-content/uploads/2021/06/Mitsotakis_Volkswagen_Astypalea_reuters.jpg?1622655869147\n",
      "+--------------------------------------+\n",
      "Text: Greek Prime Minister Kyriakos Mitsotakis looks at a Volkswagen ID.4 electric car, during a delivery ceremony of service cars and chargers to the police and the port authority of the island of Astypalea, Greece, June 2, 2021. [Alexandros Vlachos/Pool via Reuters]\n",
      "url: https://www.gannett-cdn.com/presto/2018/09/29/PSAY/112be1fd-0ea4-432d-a7a5-adef6c8ce218-H2Oi-13.jpg?crop=6071,4548,x0,y0&amp;width=80&amp;height=60&amp;fit=bounds\n",
      "+--------------------------------------+\n",
      "Text: The streets of Ocean City were full of cars, crowds and a heavy police presence on Friday, Sept 28, 2018. Popular car show H2Oi  was traditionally held nearby and though it has now moved to Atlantic City attendees continue to flock to Ocean City.\n",
      "url: https://c8.alamy.com/comp/PKFF1A/officer-david-maulen-of-lakewood-police-department-trains-on-responding-to-an-active-shooter-scenario-alongside-fellow-pierce-county-first-responders-and-military-law-enforcement-on-joint-base-lewis-mcchord-wash-august-1-2018-PKFF1A.jpg\n",
      "+--------------------------------------+\n",
      "Text: Officer David Maulen of Lakewood Police Department trains on\n",
      "url: http://publicradio1.wpengine.netdna-cdn.com/newscut/files/2015/07/AP_552129378654.jpg\n",
      "+--------------------------------------+\n",
      "Text: In this July 18, 2015 photo provided by Rob Godfrey, police officer Leroy Smith, left, helps a man wearing National Socialist Movement attire up the stairs during a rally in Columbia, S.C. Smith, the director of South Carolina's public safety agency, said Monday, July 20, 2015, he hopes the photo that shows him helping the white man wearing a racist T-shirt will be a catalyst for people to work toward overcoming hate and violence. (Rob Godfrey via AP, file)\n",
      "url: https://static-25.sinclairstoryline.com/resources/media/9fd272f6-5467-4cad-9524-fa02eb51f3f4-CarintoHillsboroapartment3.jpg\n",
      "+--------------------------------------+\n",
      "Text: A car crashed into a Hillsboro apartment complex on April 17, 2019. Photo courtesy Hillsboro Police Department\n",
      "url: https://www.zefflawfirm.com/wp-content/uploads/2021/05/Deadly-NJ-police-chases-kill-innocent-victims-catch-few-crooks-1024x1024.png\n",
      "+--------------------------------------+\n",
      "Text: Deadly NJ police chases kill innocent victims, catch few crooks\n",
      "url: https://www.trailtimes.ca/wp-content/uploads/2021/04/24914804_web1_RCMP_Stock_McLachlan_New_Sept25-2020-PGM_1150.jpg\n",
      "+--------------------------------------+\n",
      "Text: The IIO is investigating after a police dog bit a man during a traffic stop near Ladysmith on April 17, 2021. (Black Press Media stock photo)\n",
      "url: https://a57.foxnews.com/a57.foxnews.com/static.foxnews.com/foxnews.com/content/uploads/2018/09/640/320/1862/1048/0327-eddie-johnson.jpg?ve=1&tl=1?ve=1&tl=1\n",
      "+--------------------------------------+\n",
      "Text: Sept. 3, 2013: Chicago Police Superintendent Garry McCarthy (L) speaks to First Deputy Superintendent Al Wysinger (2nd L), Deputy Chief of Area Central Patrol Eddie Johnson (2nd R) and Bureau of Patrol Chief Wayne Gulliford after a news conference on Chicago Police having seized more than 4,800 illegal firearms in 2013 in Chicago, Illinois,\n",
      "url: https://www.maxplay.co.il/images/thumbs/000/0006860_lego-city-police-patrol-boat-60277.jpeg\n",
      "+--------------------------------------+\n",
      "Text: Lego City - Police Patrol Boat 60277\n",
      "url: https://i.ebayimg.com/00/s/MTUwMFgxNTAw/z/HSsAAOSw175b6HPV/$_57.JPG\n",
      "+--------------------------------------+\n",
      "Text: Tactical Police 13000Lumens T6 5Modes LED Flashlight Aluminum Torch Zoomable USA Camping & Hiking\n",
      "url: https://s3.amazonaws.com/freshdaily-images/prism-images/static/articles/20200214-valencrimes.jpg--resize_then_crop--w__2048--h__1365--q__70.jpg\n",
      "+--------------------------------------+\n",
      "Text: calgary police valentine's\n",
      "url: https://static-13.sinclairstoryline.com/resources/media/aff09292-c9e0-49bb-a65f-c951601bcf04-AP18202436671867.jpg\n",
      "+--------------------------------------+\n",
      "Text: FILE - In this Wednesday April 26, 2017 file photo, Emmanuel Macron, right, is flanked by his bodyguard, Alexandre Benalla, left, outside the Whirlpool home appliance factory, in Amiens, northern France. Investigators have detained for questioning on Friday, July 20, 2018 one of President Emmanuel Macron's top security aides caught on camera beating a protester in May, a turn of events now evolving into a major political crisis for the president. The presidential Elysee Palace said it is taking steps to fire Alexandre Benalla, who was identified earlier this week by the newspaper Le Monde for beating a young protester during May Day protests while wearing a police helmet (AP Photo/Thibault Camus, File)\n",
      "url: https://www.wallpaperup.com/uploads/wallpapers/2013/03/05/48283/6fa4e8fd44b63989d5f0f35dc20e68a8.jpg\n",
      "+--------------------------------------+\n",
      "Text: riot drawing anarchy police wallpaper | 2560x1600 | 48283 | wallpaperup\n",
      "url: https://internationalfingerprinting.com/wp-content/uploads/2015/12/Flow-Chart1.png\n",
      "+--------------------------------------+\n",
      "Text: Expedited Canadian Police Clearance\n",
      "url: https://c8.alamy.com/comp/WB514T/london-uk-24th-august-2019-anti-fascists-hold-placards-and-flares-as-they-oppose-a-protest-at-the-bbc-by-tommy-robinson-supporters-who-claim-he-is-in-jail-for-journalism-he-was-sentenced-to-9-months-for-3-offences-outside-leeds-crown-court-which-could-have-led-to-the-collapse-of-a-grooming-gang-trial-and-has-previous-convictions-for-violence-financial-and-immigration-frauds-drug-possession-and-public-order-offences-police-kept-the-two-groups-apart-robinson-supporters-were-later-joined-by-marchers-from-trafalgar-square-and-a-larger-group-from-stand-up-to-racism-came-to-join-antifa-pe-WB514T.jpg\n",
      "+--------------------------------------+\n",
      "Text: London, UK. 24th August 2019. Anti-fascists hold placards and flares as they oppose a protest at the BBC by Tommy Robinson supporters who claim he is in jail for journalism. He was sentenced to 9 months for 3 offences outside Leeds Crown Court which could have led to the collapse of a grooming gang trial, and has previous convictions for violence, financial and immigration frauds, drug possession and public order offences. Police kept the two groups apart. Robinson supporters were later joined by marchers from Trafalgar Square, and a larger group from Stand Up to Racism came to join Antifa. Pe Stock Photo\n",
      "url: https://cdn-japantimes.com/wp-content/uploads/2018/12/f-rohingya-a-20181205.jpg\n",
      "+--------------------------------------+\n",
      "Text: Myanmar Navy personnel escort Rohingya Muslims back to their camp in Sittwe, Rakhine state, on Friday. Nearly 100 Rohingya Muslims were forced back to Rakhine state after being detained at sea en route to Malaysia, police said on Nov. 28, stirring fears of a fresh refugee boat crisis.   AFP-JIJI\n",
      "url: https://i.pinimg.com/originals/fd/87/97/fd87973140e05172821c20ac422d64c4.jpg\n",
      "+--------------------------------------+\n",
      "Text: need for speed hot pursuit police cars\n",
      "url: http://www.trbimg.com/img-1340829099000/turbine/sfl-fort-lauderdale-suspicious-death-photo--20120627\n",
      "+--------------------------------------+\n",
      "Text: Investigators with the Fort Lauderdale Police and the Broward Medical Examiner's office work a suspicious death at the 1100 block of Southwest 16th Avenue.\n",
      "url: https://fijisun.com.fj/wp-content/uploads/2020/02/Jacinda-@-GPH1-copy.jpg\n",
      "+--------------------------------------+\n",
      "Text: New Zealand Prime Minister Jacinda Ardern with Police Commissioner Sitiveni Qiliho at Grand Pacific Hotel on February 25, 2020. Photo: Ronald Kumar.\n",
      "url: https://image.shutterstock.com/shutterstock/photos/1211486266/display_1500/stock-photo-marseille-france-october-police-send-tear-gas-bombs-at-young-protesters-during-1211486266.jpg\n",
      "+--------------------------------------+\n",
      "Text: Marseille France October 13 2018 Police Stock Photo Edit Now\n",
      "url: http://www.ibrickcity.com/wp-content/uploads/2012/10/lego-10229-suggestions-Christmas-gift-ibrickcity.jpg\n",
      "+--------------------------------------+\n",
      "Text: Lego 7498 Police Station – One of the most sold buildings in history ...\n"
     ]
    },
    {
     "name": "stdout",
     "output_type": "stream",
     "text": [
      "url: https://a57.foxnews.com/a57.foxnews.com/static.foxnews.com/foxnews.com/content/uploads/2018/09/640/320/1862/1048/nigeria_youth_vigilantes.jpg?ve=1&amp;tl=1?ve=1&amp;tl=1\n",
      "+--------------------------------------+\n",
      "Text: June 11, 2013: In this photo taken with a mobile phone, vigilante youths pose for a photographs in Maiduguri, Nigeria. As soldiers continue an offensive against radical Islamic extremists in northeast Nigeria, young men armed with machetes and sticks have now entered the streets of the regions biggest city, targeting suspected fighters. The members of the Civilian JTF, a play off the acronym used to describe the joint military and police taskforce in the region, already have come under attack from extremists for pointing out suspects to soldiers. However, it remains unclear what happens to those the group points out, as some suspects in Maiduguri have already been shot dead by security forces and left rotting in ditches in the city.\n",
      "url: https://d.newsweek.com/en/full/457225/somalia-bomb-site-police-tape.jpg\n",
      "+--------------------------------------+\n",
      "Text: Somalia bomb site police tape\n",
      "url: https://s.hdnux.com/photos/55/27/10/11891240/3/1200x0.jpg\n",
      "+--------------------------------------+\n",
      "Text: Glen Carbon Village Clerk Peggy Goudy swears in new police officer Jeffrey Hartsoe.\n",
      "url: http://www.royalstateofmind.com/wp-content/uploads/2016/07/police.jpg\n",
      "+--------------------------------------+\n",
      "Text: Members of Baltimore's police department. (Photo: John Taggart, EPA)\n",
      "url: https://media2.ledevoir.com/images_galerie/nwd_19386_30174/image.jpg\n",
      "+--------------------------------------+\n",
      "Text: Le ministre de la Sécurité publique, Jacques Dupuis, a annoncé l'octroi de six millions à la police de Montréal pour lutter contre les gangs de rue.\n",
      "url: https://ddhfs03kp1zcg.cloudfront.net/uploads/image/4704/508-every-signature-represented-an-act-of-courage-1.jpg\n",
      "+--------------------------------------+\n",
      "Text: University students from the Free Papua Organization and the Papua Student Alliance resist police using water cannons during a protest in Jakarta, 1 December 2016.\n",
      "url: http://i0.wp.com/cs4.gtaall.com/screenshots/4dc09/2016-03/original/e771e8c4018c9f5312e216be787fa03c1ee1c1a7/327304-gta-sa-2016-03-21-17-48-30-30.jpg\n",
      "+--------------------------------------+\n",
      "Text: Police Car Lights Wallpaper Bmw 330xd Romania Police For Gta San Andreas\n",
      "url: https://www.jeuneafrique.com/medias/2021/07/13/sipa_ap22585558_000005-scaled.jpg\n",
      "+--------------------------------------+\n",
      "Text: La police surveille des pilleurs arrêtés dans un centre commercial du canton d'Alexandra, à Johannesburg, en Afrique du Sud, le 12 juillet 2021.\n",
      "url: https://media.npr.org/assets/img/2019/08/26/ap_19237452578498-d828d7af25d47b9582ff72b7c96179cdbc9dbbfd.jpg\n",
      "+--------------------------------------+\n",
      "Text: Hong Kong Police Fire Warning Shot During Night Of Violent Clashes With Protesters\n",
      "url: http://mrodemblems.com/images/hancockmd.jpg\n",
      "+--------------------------------------+\n",
      "Text: Hancock Police MD Train\n",
      "url: https://icdn-0.motor1.com/images/mgl/0YM8z/s1/the-2017-ford-police-interceptor-utility-is-going-stealth.jpg\n",
      "+--------------------------------------+\n",
      "Text: the 2017 ford police interceptor utility is going stealth rh motor1 com 2014 Ford Interceptor SUV Specs SUV Interceptor Push Bar\n",
      "url: https://i5.walmartimages.com/asr/000a8140-bc97-427f-8dd5-a643152775b2_1.14e5e728d2115c0455f356c3052af072.jpeg\n",
      "+--------------------------------------+\n",
      "Text: Policeman Police Uniform Long Sleeve Creeper Brown Hair inktastic Cute Boy\n",
      "url: https://mymovies.vishalkranti.com/wp-content/uploads/2021/09/Bhoot-Police-Movie.jpg\n",
      "+--------------------------------------+\n",
      "Text: Bhoot Police Movie\n",
      "url: https://images-na.ssl-images-amazon.com/images/I/61c0l1KllLL._AC_SL1417_.jpg\n",
      "+--------------------------------------+\n",
      "Text: Doctor Who Cabine t/él/éphonique de Police Portefeuille Bleu\n",
      "url: https://assets.teenvogue.com/photos/6090661356885802d336de1f/1:1/w_1600%2Cc_limit/GettyImages-1216620279.jpg\n",
      "+--------------------------------------+\n",
      "Text: A Miami Police officer watches protestors from a armored vehicle during a rally in response to the recent death of...\n",
      "url: https://loloscakesandsweets.files.wordpress.com/2011/06/iphone-pics-047.jpg\n",
      "+--------------------------------------+\n",
      "Text: Cake Decorations For Police Cake : Police themed cupcakes Lolo s Cakes & Sweets\n",
      "url: https://a57.foxnews.com/a57.foxnews.com/static.foxnews.com/foxnews.com/content/uploads/2018/09/640/320/1862/1048/Somalia-Reporter-Released-1.jpg?ve=1&tl=1?ve=1&tl=1\n",
      "+--------------------------------------+\n",
      "Text: Sept. 23, 2012: In this file photo, masked Somali pirate Hassan stands near a Taiwanese fishing vessel that washed up on shore after the pirates were paid a ransom and released the crew, in the once-bustling pirate den of Hobyo, Somalia. Three Somali pirates were killed in a fight over the ransom paid to free the German-American journalist Michael Scott Moore who was released this week after two years and eight months of captivity, a Somali police official said Friday, Sept. 26, 2014.\n",
      "url: https://www.gannett-cdn.com/presto/2019/02/17/PALE/d173af2a-45d2-4dca-af65-cd22e9d0aa3e-DSC_0173.JPG?crop=5340,3999,x239,y0&amp;width=80&amp;height=60&amp;fit=bounds\n",
      "+--------------------------------------+\n",
      "Text: \"\"\"A free \"\"\"\"Stranger Danger\"\"\"\" defense class for children ages 7-12 was held Saturday, Feb. 16, 2019 at Master Rousseau's Taekwondo located on Jackson Street. Children were taught self-defense techniques to use if they to be grabbed by someone they did not know. They were advised to fight back and yell loudly. Also on hand to talk to the children were Rapides DARE officers Derek Parker with the Pineville Police Department and Vern Rennier with the Alexandria Police Department.\"\"\"\n",
      "url: https://cdn.shopify.com/s/files/1/0264/9059/products/youre_bracelet_1024x1024.jpg?v=1409189938\n",
      "+--------------------------------------+\n",
      "Text: Grammar Police - *you're - A Hand Stamped Bracelet in Aluminum or Sterling Silver\n",
      "url: https://www.essence.com/wp-content/uploads/2018/03/1521825567/GettyImages-936734438.jpg\n",
      "+--------------------------------------+\n",
      "Text: The Supreme Court Made It Harder For Victims of Police Brutality To Sue\n",
      "url: https://s1.cdn.autoevolution.com/images/news/gallery/dodge-updates-2017-charger-pursuit-with-complimentary-officer-protection-package_7.jpg\n",
      "+--------------------------------------+\n",
      "Text: Tesla Model S Police Car Could Come To Silicon Valley\n",
      "url: https://cms.qz.com/wp-content/uploads/2017/03/gummy-bears.jpg?quality=80&\n",
      "+--------------------------------------+\n",
      "Text: Marijuana-infused sour gummy bear candies (L) are shown next to regular ones at right in a photo illustration in Golden, Colorado October 17, 2014. As children around the country prepare their costumes in anticipation of Halloween goodies on Oct. 31, police in Colorado are warning parents that some treats may not be all they seem. Since Colorado and Washington this year became the first U.S. states to allow recreational sales of pot to adults, much of the public debate has focused on marijuana-infused products such as chocolates, cookies and candies, given their potential to attract children or be eaten accidentally.\n",
      "url: https://talentrecap.com/wp-content/uploads/2020/05/Live-Footage-Of-Police-Precinct-In-Minneapolis-Set-On-Fire-Has-Twitter-Reacting-scaled.jpg\n",
      "+--------------------------------------+\n",
      "Text: Live Footage Of Police Precinct In Minneapolis Set On Fire Has Twitter Reacting\n",
      "url: https://c8.alamy.com/comp/D3GWRN/english-spy-arrested-by-french-police-officers-on-belle-le-island-D3GWRN.jpg\n",
      "+--------------------------------------+\n",
      "Text: English Spy Arrested by French Police Officers on Belle-Île Island Brittany (June 1904) - Stock Image\n",
      "url: https://images.squarespace-cdn.com/content/v1/54111203e4b0bc67f010216e/1427689780765-C26QD0JZK2A5ZD556JPO/ke17ZwdGBToddI8pDm48kLkXF2pIyv_F2eUT9F60jBl7gQa3H78H3Y0txjaiv_0fDoOvxcdMmMKkDsyUqMSsMWxHk725yiiHCCLfrh8O1z4YTzHvnKhyp6Da-NYroOW3ZGjoBKy3azqku80C789l0iyqMbMesKd95J-X4EagrgU9L3Sa3U8cogeb0tjXbfawd0urKshkc5MgdBeJmALQKw/150306-F-PM645-037.jpg\n",
      "+--------------------------------------+\n",
      "Text: (Left to right) Airman 1st Class Steven Taylor, 374th Civil Engineer Squadron firefighter, and Yuki Yoshizawa, Tokyo Fire Department Fussa Fire Station firefighter, are elevated 100 feet by a Tokyo FD fire ladder truck, during the safety festival at Yokota Air Base, Japan, March 6, 2015. The 374th Airlift Wing Safety Office provided Yokota residents with various events such as the Tokyo Metropolitan Police Department motorcycle unit demonstration, traffic safety demonstration, earthquake and smoke house, firefighting experience, fire ladder trucks experience, 374th Security Forces Squadron patrol vehicle ride, seatbelt simulator and child car seat checks. (U.S. Air Force photo by Osakabe Yasuo/Released)\n"
     ]
    },
    {
     "name": "stdout",
     "output_type": "stream",
     "text": [
      "url: https://www.odmp.org/media/image/officer/1087/orig/akins%2C-harry-1962.jpg\n",
      "+--------------------------------------+\n",
      "Text: Patrolman Harry H. Akins | Chatham County Police Department, Georgia\n",
      "url: https://www.ktsm.com/wp-content/uploads/sites/38/2016/11/NMSU20Police20Lights_1479220487348_12900547_ver1.0.jpg?w=1920&h=1080&crop=1\n",
      "+--------------------------------------+\n",
      "Text: NMSU Police Lights_1479220487348.jpg\n",
      "url: https://i.pinimg.com/originals/10/63/96/106396f770d71fe58a4913ef56e84d5e.jpg\n",
      "+--------------------------------------+\n",
      "Text: Children S Road Carpet Kids Cars Carpet Police Fire Station 3mt X\n",
      "url: https://www.parkcity.org/Home/ShowImage?id=38710&t=636717411617070000\n",
      "+--------------------------------------+\n",
      "Text: Mayor Beerman Swearing in New Police Officers\n",
      "url: https://im-media.voltron.voanews.com/Drupal/01live-166/styles/892x501/s3/2019-04/93DC5FF4-23DD-47B7-9241-D365F6D10859.jpg?itok=MM6kXvhJ\n",
      "+--------------------------------------+\n",
      "Text: Police officers search documents in Rome in this handout video grab provided by the Italian Police on January 10, 2017.\n",
      "url: https://cdn.winknews.com/wp-content/uploads/2019/04/NFMManWOmanMUGS.jpg\n",
      "+--------------------------------------+\n",
      "Text: 195b0a882c3 Cape Coral police arrest two with fentanyl in Kohl s parking lot\n",
      "url: https://www.thesun.co.uk/wp-content/uploads/2017/04/nintchdbpict000314880387.jpg?strip%5Cu003dall%5Cu0026w%5Cu003d737%5Cu0026quality%5Cu003d100\n",
      "+--------------------------------------+\n",
      "Text: Big ass police women\n",
      "url: https://ktla.com/wp-content/uploads/sites/4/2018/11/gettyimages-780175.jpg?w=2560&h=1440&crop=1\n",
      "+--------------------------------------+\n",
      "Text: Eric Adams, a lieutenant in the New York Police Department and co-founder of 100 Black Men in Law Enforcement organization, holds up a toy gun, left, and a real gun to show the similarity between the two during a press conference in the Ocean Hill Brownsville neighborhood of Brooklyn. (Credit: by Chris Hondros)\n",
      "url: https://a57.foxnews.com/a57.foxnews.com/static.foxnews.com/foxnews.com/content/uploads/2018/09/640/320/1862/1048/germany-attacks.jpg?ve=1&amp;tl=1?ve=1&amp;tl=1\n",
      "+--------------------------------------+\n",
      "Text: Sept. 10, 2016: Police officers take a man into custody during a gathering on a square at the Kornmarkt in Bautzen, Germany.\n",
      "url: https://www.dailyherald.com/storyimage/DA/20130618/entlife/706189883/AR/0/AR-706189883.jpg&amp;updated=201306180945&amp;MaxW=800&amp;maxH=800&amp;updated=201306180945&amp;noborder\n",
      "+--------------------------------------+\n",
      "Text: English food writer, journalist and broadcaster, Nigella Lawson. British police say they are investigating after a newspaper published photos of Nigella Lawson's husband Charles Saatchi with his hands around the celebrity chef's throat. The Sunday People newspaper ran pictures of what it said was the couple's violent argument at a London restaurant on June 9, 2013.\n",
      "url: https://wtop.com/wp-content/uploads/2016/09/suspicious-package-Penn-Ave-NIA-1863x1254.jpg\n",
      "+--------------------------------------+\n",
      "Text: Numerous police cars fill Pennsylvania Avenue near the new Trump hotel as they investigated a suspicious package. The Warner Theatre and other nearby buildings were evacuated and entrances to the Metro Center Station were closed. Related road closures brought traffic to a near halt downtown as the morning commute was wrapping up on Tuesayd. Sept. 20, 2016. (WTOP/Nick Iannelli)\n",
      "datasetName: /home/manish/Documents/dataset/part-00001-5d6701c4-b238-4c0a-84e4-fe8e9daea963-c000.snappy.parquet\n",
      "datasetName: /home/manish/Documents/dataset/part-00100-5d6701c4-b238-4c0a-84e4-fe8e9daea963-c000.snappy.parquet\n",
      "datasetName: /home/manish/Documents/dataset/part-00000-5d6701c4-b238-4c0a-84e4-fe8e9daea963-c000.snappy.parquet\n",
      "datasetName: /home/manish/Documents/dataset/part-00127-5d6701c4-b238-4c0a-84e4-fe8e9daea963-c000.snappy.parquet\n",
      "datasetName: /home/manish/Documents/dataset/part-00084-5d6701c4-b238-4c0a-84e4-fe8e9daea963-c000.snappy.parquet\n",
      "/home/manish/Documents/police/image25.jpg\n",
      "/home/manish/Documents/police/image71.jpg\n",
      "/home/manish/Documents/police/image20.jpg\n",
      "/home/manish/Documents/police/image4.jpg\n",
      "/home/manish/Documents/police/image98.jpg\n",
      "/home/manish/Documents/police/image51.jpg\n",
      "/home/manish/Documents/police/image94.jpg\n",
      "/home/manish/Documents/police/image66.jpg\n",
      "/home/manish/Documents/police/image32.jpg\n",
      "/home/manish/Documents/police/image24.jpg\n",
      "/home/manish/Documents/police/image26.jpg\n",
      "/home/manish/Documents/police/image80.jpg\n",
      "/home/manish/Documents/police/image58.jpg\n",
      "/home/manish/Documents/police/image33.jpg\n",
      "/home/manish/Documents/police/image1.jpg\n",
      "/home/manish/Documents/police/image44.jpg\n",
      "/home/manish/Documents/police/image31.jpg\n",
      "/home/manish/Documents/police/image54.jpg\n",
      "/home/manish/Documents/police/image22.jpg\n",
      "/home/manish/Documents/police/image52.jpg\n",
      "/home/manish/Documents/police/image3.jpg\n",
      "/home/manish/Documents/police/image21.jpg\n",
      "/home/manish/Documents/police/image60.jpg\n",
      "/home/manish/Documents/police/image42.jpg\n",
      "/home/manish/Documents/police/image27.jpg\n",
      "/home/manish/Documents/police/image45.jpg\n",
      "/home/manish/Documents/police/image68.jpg\n",
      "/home/manish/Documents/police/image18.jpg\n",
      "/home/manish/Documents/police/image43.jpg\n",
      "/home/manish/Documents/police/image28.jpg\n",
      "/home/manish/Documents/police/image88.jpg\n",
      "/home/manish/Documents/police/image38.jpg\n",
      "/home/manish/Documents/police/image35.jpg\n",
      "/home/manish/Documents/police/image9.jpg\n",
      "/home/manish/Documents/police/image99.jpg\n",
      "/home/manish/Documents/police/image41.jpg\n",
      "/home/manish/Documents/police/image7.jpg\n",
      "/home/manish/Documents/police/image49.jpg\n",
      "/home/manish/Documents/police/image46.jpg\n",
      "/home/manish/Documents/police/image83.jpg\n",
      "/home/manish/Documents/police/image69.jpg\n",
      "/home/manish/Documents/police/image86.jpg\n",
      "/home/manish/Documents/police/image65.jpg\n",
      "/home/manish/Documents/police/image64.jpg\n",
      "/home/manish/Documents/police/image2.jpg\n",
      "/home/manish/Documents/police/image0.jpg\n",
      "/home/manish/Documents/police/image47.jpg\n",
      "/home/manish/Documents/police/image8.jpg\n",
      "/home/manish/Documents/police/image75.jpg\n",
      "/home/manish/Documents/police/image39.jpg\n",
      "/home/manish/Documents/police/image10.jpg\n",
      "/home/manish/Documents/police/image19.jpg\n",
      "/home/manish/Documents/police/image63.jpg\n",
      "/home/manish/Documents/police/image97.jpg\n",
      "/home/manish/Documents/police/image30.jpg\n",
      "/home/manish/Documents/police/image72.jpg\n",
      "/home/manish/Documents/police/image78.jpg\n",
      "/home/manish/Documents/police/image5.jpg\n",
      "/home/manish/Documents/police/image11.jpg\n",
      "/home/manish/Documents/police/image95.jpg\n",
      "/home/manish/Documents/police/image67.jpg\n",
      "/home/manish/Documents/police/image59.jpg\n",
      "/home/manish/Documents/police/image53.jpg\n",
      "/home/manish/Documents/police/image87.jpg\n",
      "/home/manish/Documents/police/image36.jpg\n",
      "/home/manish/Documents/police/image23.jpg\n",
      "/home/manish/Documents/police/image55.jpg\n",
      "/home/manish/Documents/police/image57.jpg\n",
      "/home/manish/Documents/police/image12.jpg\n",
      "/home/manish/Documents/police/image73.jpg\n",
      "/home/manish/Documents/police/image6.jpg\n",
      "/home/manish/Documents/police/image62.jpg\n",
      "/home/manish/Documents/police/image74.jpg\n",
      "/home/manish/Documents/police/image56.jpg\n",
      "/home/manish/Documents/police/image17.jpg\n",
      "/home/manish/Documents/police/image37.jpg\n",
      "/home/manish/Documents/police/image76.jpg\n",
      "/home/manish/Documents/police/image14.jpg\n",
      "/home/manish/Documents/police/image34.jpg\n",
      "/home/manish/Documents/police/image84.jpg\n",
      "/home/manish/Documents/police/image85.jpg\n",
      "/home/manish/Documents/police/image61.jpg\n",
      "/home/manish/Documents/police/image48.jpg\n",
      "/home/manish/Documents/police/image89.jpg\n",
      "/home/manish/Documents/police/image40.jpg\n",
      "/home/manish/Documents/police/image70.jpg\n",
      "/home/manish/Documents/police/image81.jpg\n",
      "/home/manish/Documents/police/image92.jpg\n",
      "/home/manish/Documents/police/image15.jpg\n",
      "/home/manish/Documents/police/image50.jpg\n",
      "/home/manish/Documents/police/image13.jpg\n",
      "/home/manish/Documents/police/image93.jpg\n",
      "/home/manish/Documents/police/image16.jpg\n",
      "/home/manish/Documents/police/image29.jpg\n",
      "/home/manish/Documents/police/image77.jpg\n",
      "/home/manish/Documents/police/image96.jpg\n",
      "/home/manish/Documents/police/image91.jpg\n",
      "/home/manish/Documents/police/image90.jpg\n",
      "/home/manish/Documents/police/image82.jpg\n",
      "/home/manish/Documents/police/image79.jpg\n",
      " Number of image analyzed: 55\n",
      "average age:29.10909090909091\n",
      "probability:  27.05\n",
      "-----------------Race------------------\n",
      "White: 34\n",
      "Black: 19\n",
      "Asian:2\n",
      "Indian: 0\n",
      "Unknown: 0\n",
      "---------Emotion------------------\n",
      "Angry: 26\n",
      "Disgust: 0\n",
      "fear: 0\n",
      "Hppy: 8\n",
      "sad: 21\n",
      "Suprise:0\n",
      "neutral: 0\n",
      " Number of image analyzed: 25\n",
      "average age:28.8\n",
      "probability:  9.950000000000001\n",
      "-----------------Race------------------\n",
      "White: 20\n",
      "Black: 4\n",
      "Asian:0\n",
      "Indian: 1\n",
      "Unknown: 0\n",
      "---------Emotion------------------\n",
      "Angry: 17\n",
      "Disgust: 0\n",
      "fear: 0\n",
      "Hppy: 2\n",
      "sad: 6\n",
      "Suprise:0\n",
      "neutral: 0\n",
      "Time taken by democlassi  is : 76seconds\n",
      "/home/manish/Documents/police/image25.jpg\n",
      "/home/manish/Documents/police/image71.jpg\n"
     ]
    },
    {
     "name": "stdout",
     "output_type": "stream",
     "text": [
      "/home/manish/Documents/police/image20.jpg\n",
      "Number of people: 2\n"
     ]
    },
    {
     "name": "stderr",
     "output_type": "stream",
     "text": [
      "Action: emotion:   0%|          | 0/4 [00:00<?, ?it/s]"
     ]
    },
    {
     "name": "stdout",
     "output_type": "stream",
     "text": [
      "1/1 [==============================] - 1s 639ms/step\n"
     ]
    },
    {
     "name": "stderr",
     "output_type": "stream",
     "text": [
      "Action: age:  25%|██▌       | 1/4 [00:06<00:20,  6.95s/it]    "
     ]
    },
    {
     "name": "stdout",
     "output_type": "stream",
     "text": [
      "1/1 [==============================] - 10s 10s/step\n"
     ]
    },
    {
     "name": "stderr",
     "output_type": "stream",
     "text": [
      "Action: gender:  50%|█████     | 2/4 [00:17<00:18,  9.16s/it]"
     ]
    },
    {
     "name": "stdout",
     "output_type": "stream",
     "text": [
      "1/1 [==============================] - 6s 6s/step\n"
     ]
    },
    {
     "name": "stderr",
     "output_type": "stream",
     "text": [
      "Action: race:  75%|███████▌  | 3/4 [00:23<00:07,  7.56s/it]  "
     ]
    },
    {
     "name": "stdout",
     "output_type": "stream",
     "text": [
      "1/1 [==============================] - 3s 3s/step\n"
     ]
    },
    {
     "name": "stderr",
     "output_type": "stream",
     "text": [
      "Action: race: 100%|██████████| 4/4 [00:26<00:00,  6.53s/it]\n"
     ]
    },
    {
     "name": "stdout",
     "output_type": "stream",
     "text": [
      "Deepface comparision\n",
      "----Deepface---\n",
      "Age:--- {25} ---\n",
      "Gender:--- {'Man'} ---\n",
      "Race:--- {'asian'} ---\n",
      "Emotion:--- {'fear'} ---\n",
      "------------------------------------------- \n"
     ]
    },
    {
     "name": "stderr",
     "output_type": "stream",
     "text": [
      "Action: emotion:   0%|          | 0/4 [00:00<?, ?it/s]"
     ]
    },
    {
     "name": "stdout",
     "output_type": "stream",
     "text": [
      "1/1 [==============================] - 0s 47ms/step\n"
     ]
    },
    {
     "name": "stderr",
     "output_type": "stream",
     "text": [
      "Action: age:  25%|██▌       | 1/4 [00:00<00:00,  3.67it/s]    "
     ]
    },
    {
     "name": "stdout",
     "output_type": "stream",
     "text": [
      "1/1 [==============================] - 1s 1s/step\n"
     ]
    },
    {
     "name": "stderr",
     "output_type": "stream",
     "text": [
      "Action: gender:  50%|█████     | 2/4 [00:01<00:02,  1.00s/it]"
     ]
    },
    {
     "name": "stdout",
     "output_type": "stream",
     "text": [
      "1/1 [==============================] - 1s 989ms/step\n"
     ]
    },
    {
     "name": "stderr",
     "output_type": "stream",
     "text": [
      "Action: race:  75%|███████▌  | 3/4 [00:02<00:01,  1.06s/it]  "
     ]
    },
    {
     "name": "stdout",
     "output_type": "stream",
     "text": [
      "1/1 [==============================] - 1s 716ms/step\n"
     ]
    },
    {
     "name": "stderr",
     "output_type": "stream",
     "text": [
      "Action: race: 100%|██████████| 4/4 [00:03<00:00,  1.07it/s]"
     ]
    },
    {
     "name": "stdout",
     "output_type": "stream",
     "text": [
      "Deepface comparision\n",
      "----Deepface---\n",
      "Age:--- {27} ---\n",
      "Gender:--- {'Man'} ---\n",
      "Race:--- {'black'} ---\n",
      "Emotion:--- {'happy'} ---\n",
      "------------------------------------------- \n",
      "/home/manish/Documents/police/image4.jpg\n"
     ]
    },
    {
     "name": "stderr",
     "output_type": "stream",
     "text": [
      "\n"
     ]
    },
    {
     "name": "stdout",
     "output_type": "stream",
     "text": [
      "Number of people: 1\n"
     ]
    },
    {
     "name": "stderr",
     "output_type": "stream",
     "text": [
      "Action: emotion:   0%|          | 0/4 [00:00<?, ?it/s]"
     ]
    },
    {
     "name": "stdout",
     "output_type": "stream",
     "text": [
      "1/1 [==============================] - 0s 41ms/step\n"
     ]
    },
    {
     "name": "stderr",
     "output_type": "stream",
     "text": [
      "Action: age:  25%|██▌       | 1/4 [00:00<00:00,  4.95it/s]    "
     ]
    },
    {
     "name": "stdout",
     "output_type": "stream",
     "text": [
      "1/1 [==============================] - 1s 979ms/step\n"
     ]
    },
    {
     "name": "stderr",
     "output_type": "stream",
     "text": [
      "Action: gender:  50%|█████     | 2/4 [00:01<00:01,  1.28it/s]"
     ]
    },
    {
     "name": "stdout",
     "output_type": "stream",
     "text": [
      "1/1 [==============================] - 1s 707ms/step\n"
     ]
    },
    {
     "name": "stderr",
     "output_type": "stream",
     "text": [
      "Action: race:  75%|███████▌  | 3/4 [00:02<00:00,  1.25it/s]  "
     ]
    },
    {
     "name": "stdout",
     "output_type": "stream",
     "text": [
      "1/1 [==============================] - 1s 1s/step\n"
     ]
    },
    {
     "name": "stderr",
     "output_type": "stream",
     "text": [
      "Action: race: 100%|██████████| 4/4 [00:03<00:00,  1.20it/s]"
     ]
    },
    {
     "name": "stdout",
     "output_type": "stream",
     "text": [
      "Deepface comparision\n",
      "----Deepface---\n",
      "Age:--- {39} ---\n",
      "Gender:--- {'Man'} ---\n",
      "Race:--- {'white'} ---\n",
      "Emotion:--- {'happy'} ---\n",
      "------------------------------------------- \n",
      "/home/manish/Documents/police/image98.jpg\n"
     ]
    },
    {
     "name": "stderr",
     "output_type": "stream",
     "text": [
      "\n"
     ]
    },
    {
     "name": "stdout",
     "output_type": "stream",
     "text": [
      "Number of people: 1\n"
     ]
    },
    {
     "name": "stderr",
     "output_type": "stream",
     "text": [
      "Action: emotion:   0%|          | 0/4 [00:00<?, ?it/s]"
     ]
    },
    {
     "name": "stdout",
     "output_type": "stream",
     "text": [
      "1/1 [==============================] - 0s 36ms/step\n"
     ]
    },
    {
     "name": "stderr",
     "output_type": "stream",
     "text": [
      "Action: age:  25%|██▌       | 1/4 [00:00<00:00,  6.01it/s]    "
     ]
    },
    {
     "name": "stdout",
     "output_type": "stream",
     "text": [
      "1/1 [==============================] - 1s 746ms/step\n"
     ]
    },
    {
     "name": "stderr",
     "output_type": "stream",
     "text": [
      "Action: gender:  50%|█████     | 2/4 [00:01<00:01,  1.57it/s]"
     ]
    },
    {
     "name": "stdout",
     "output_type": "stream",
     "text": [
      "1/1 [==============================] - 1s 644ms/step\n"
     ]
    },
    {
     "name": "stderr",
     "output_type": "stream",
     "text": [
      "Action: race:  75%|███████▌  | 3/4 [00:01<00:00,  1.44it/s]  "
     ]
    },
    {
     "name": "stdout",
     "output_type": "stream",
     "text": [
      "1/1 [==============================] - 1s 680ms/step\n"
     ]
    },
    {
     "name": "stderr",
     "output_type": "stream",
     "text": [
      "Action: race: 100%|██████████| 4/4 [00:02<00:00,  1.49it/s]"
     ]
    },
    {
     "name": "stdout",
     "output_type": "stream",
     "text": [
      "Deepface comparision\n",
      "----Deepface---\n",
      "Age:--- {29} ---\n",
      "Gender:--- {'Woman'} ---\n",
      "Race:--- {'latino hispanic'} ---\n",
      "Emotion:--- {'happy'} ---\n",
      "------------------------------------------- \n",
      "/home/manish/Documents/police/image51.jpg\n"
     ]
    },
    {
     "name": "stderr",
     "output_type": "stream",
     "text": [
      "\n"
     ]
    },
    {
     "name": "stdout",
     "output_type": "stream",
     "text": [
      "/home/manish/Documents/police/image94.jpg\n",
      "Number of people: 2\n"
     ]
    },
    {
     "name": "stderr",
     "output_type": "stream",
     "text": [
      "Action: emotion:   0%|          | 0/4 [00:00<?, ?it/s]"
     ]
    },
    {
     "name": "stdout",
     "output_type": "stream",
     "text": [
      "1/1 [==============================] - 0s 23ms/step\n"
     ]
    },
    {
     "name": "stderr",
     "output_type": "stream",
     "text": [
      "Action: age:  25%|██▌       | 1/4 [00:00<00:00,  7.07it/s]    "
     ]
    },
    {
     "name": "stdout",
     "output_type": "stream",
     "text": [
      "1/1 [==============================] - 1s 671ms/step\n"
     ]
    },
    {
     "name": "stderr",
     "output_type": "stream",
     "text": [
      "Action: gender:  50%|█████     | 2/4 [00:01<00:01,  1.75it/s]"
     ]
    },
    {
     "name": "stdout",
     "output_type": "stream",
     "text": [
      "1/1 [==============================] - 1s 823ms/step\n"
     ]
    },
    {
     "name": "stderr",
     "output_type": "stream",
     "text": [
      "Action: race:  75%|███████▌  | 3/4 [00:01<00:00,  1.35it/s]  "
     ]
    },
    {
     "name": "stdout",
     "output_type": "stream",
     "text": [
      "1/1 [==============================] - 1s 752ms/step\n"
     ]
    },
    {
     "name": "stderr",
     "output_type": "stream",
     "text": [
      "Action: race: 100%|██████████| 4/4 [00:02<00:00,  1.42it/s]\n"
     ]
    },
    {
     "name": "stdout",
     "output_type": "stream",
     "text": [
      "Deepface comparision\n",
      "----Deepface---\n",
      "Age:--- {29} ---\n",
      "Gender:--- {'Man'} ---\n",
      "Race:--- {'white'} ---\n",
      "Emotion:--- {'fear'} ---\n",
      "------------------------------------------- \n"
     ]
    },
    {
     "name": "stderr",
     "output_type": "stream",
     "text": [
      "Action: emotion:   0%|          | 0/4 [00:00<?, ?it/s]"
     ]
    },
    {
     "name": "stdout",
     "output_type": "stream",
     "text": [
      "1/1 [==============================] - 0s 24ms/step\n"
     ]
    },
    {
     "name": "stderr",
     "output_type": "stream",
     "text": [
      "Action: age:  25%|██▌       | 1/4 [00:00<00:00,  5.34it/s]    "
     ]
    },
    {
     "name": "stdout",
     "output_type": "stream",
     "text": [
      "1/1 [==============================] - 1s 781ms/step\n"
     ]
    },
    {
     "name": "stderr",
     "output_type": "stream",
     "text": [
      "Action: gender:  50%|█████     | 2/4 [00:01<00:01,  1.57it/s]"
     ]
    },
    {
     "name": "stdout",
     "output_type": "stream",
     "text": [
      "1/1 [==============================] - 1s 766ms/step\n"
     ]
    },
    {
     "name": "stderr",
     "output_type": "stream",
     "text": [
      "Action: race:  75%|███████▌  | 3/4 [00:02<00:00,  1.35it/s]  "
     ]
    },
    {
     "name": "stdout",
     "output_type": "stream",
     "text": [
      "1/1 [==============================] - 1s 650ms/step\n"
     ]
    },
    {
     "name": "stderr",
     "output_type": "stream",
     "text": [
      "Action: race: 100%|██████████| 4/4 [00:02<00:00,  1.43it/s]"
     ]
    },
    {
     "name": "stdout",
     "output_type": "stream",
     "text": [
      "Deepface comparision\n",
      "----Deepface---\n",
      "Age:--- {24} ---\n",
      "Gender:--- {'Man'} ---\n",
      "Race:--- {'white'} ---\n",
      "Emotion:--- {'neutral'} ---\n",
      "------------------------------------------- \n",
      "/home/manish/Documents/police/image66.jpg\n"
     ]
    },
    {
     "name": "stderr",
     "output_type": "stream",
     "text": [
      "\n"
     ]
    },
    {
     "name": "stdout",
     "output_type": "stream",
     "text": [
      "Number of people: 5\n"
     ]
    },
    {
     "name": "stderr",
     "output_type": "stream",
     "text": [
      "Action: emotion:   0%|          | 0/4 [00:00<?, ?it/s]"
     ]
    },
    {
     "name": "stdout",
     "output_type": "stream",
     "text": [
      "1/1 [==============================] - 0s 23ms/step\n"
     ]
    },
    {
     "name": "stderr",
     "output_type": "stream",
     "text": [
      "Action: age:  25%|██▌       | 1/4 [00:00<00:00,  8.80it/s]    "
     ]
    },
    {
     "name": "stdout",
     "output_type": "stream",
     "text": [
      "1/1 [==============================] - 1s 685ms/step\n"
     ]
    },
    {
     "name": "stderr",
     "output_type": "stream",
     "text": [
      "Action: gender:  50%|█████     | 2/4 [00:00<00:01,  1.86it/s]"
     ]
    },
    {
     "name": "stdout",
     "output_type": "stream",
     "text": [
      "1/1 [==============================] - 1s 699ms/step\n"
     ]
    },
    {
     "name": "stderr",
     "output_type": "stream",
     "text": [
      "Action: race:  75%|███████▌  | 3/4 [00:01<00:00,  1.53it/s]  "
     ]
    },
    {
     "name": "stdout",
     "output_type": "stream",
     "text": [
      "1/1 [==============================] - 1s 687ms/step\n"
     ]
    },
    {
     "name": "stderr",
     "output_type": "stream",
     "text": [
      "Action: race: 100%|██████████| 4/4 [00:02<00:00,  1.57it/s]\n"
     ]
    },
    {
     "name": "stdout",
     "output_type": "stream",
     "text": [
      "Deepface comparision\n",
      "----Deepface---\n",
      "Age:--- {24} ---\n",
      "Gender:--- {'Man'} ---\n",
      "Race:--- {'black'} ---\n",
      "Emotion:--- {'neutral'} ---\n",
      "------------------------------------------- \n"
     ]
    },
    {
     "name": "stderr",
     "output_type": "stream",
     "text": [
      "Action: emotion:   0%|          | 0/4 [00:00<?, ?it/s]"
     ]
    },
    {
     "name": "stdout",
     "output_type": "stream",
     "text": [
      "1/1 [==============================] - 0s 24ms/step\n"
     ]
    },
    {
     "name": "stderr",
     "output_type": "stream",
     "text": [
      "Action: age:  25%|██▌       | 1/4 [00:00<00:00,  4.98it/s]    "
     ]
    },
    {
     "name": "stdout",
     "output_type": "stream",
     "text": [
      "1/1 [==============================] - 1s 716ms/step\n"
     ]
    },
    {
     "name": "stderr",
     "output_type": "stream",
     "text": [
      "Action: gender:  50%|█████     | 2/4 [00:01<00:01,  1.72it/s]"
     ]
    },
    {
     "name": "stdout",
     "output_type": "stream",
     "text": [
      "1/1 [==============================] - 1s 1s/step\n"
     ]
    },
    {
     "name": "stderr",
     "output_type": "stream",
     "text": [
      "Action: race:  75%|███████▌  | 3/4 [00:02<00:00,  1.16it/s]  "
     ]
    },
    {
     "name": "stdout",
     "output_type": "stream",
     "text": [
      "1/1 [==============================] - 1s 644ms/step\n"
     ]
    },
    {
     "name": "stderr",
     "output_type": "stream",
     "text": [
      "Action: race: 100%|██████████| 4/4 [00:03<00:00,  1.31it/s]\n"
     ]
    },
    {
     "name": "stdout",
     "output_type": "stream",
     "text": [
      "Deepface comparision\n",
      "----Deepface---\n",
      "Age:--- {28} ---\n",
      "Gender:--- {'Man'} ---\n",
      "Race:--- {'black'} ---\n",
      "Emotion:--- {'happy'} ---\n",
      "------------------------------------------- \n"
     ]
    },
    {
     "name": "stderr",
     "output_type": "stream",
     "text": [
      "Action: emotion:   0%|          | 0/4 [00:00<?, ?it/s]"
     ]
    },
    {
     "name": "stdout",
     "output_type": "stream",
     "text": [
      "1/1 [==============================] - 0s 29ms/step\n"
     ]
    },
    {
     "name": "stderr",
     "output_type": "stream",
     "text": [
      "Action: age:  25%|██▌       | 1/4 [00:00<00:00,  5.10it/s]    "
     ]
    },
    {
     "name": "stdout",
     "output_type": "stream",
     "text": [
      "1/1 [==============================] - 1s 624ms/step\n"
     ]
    },
    {
     "name": "stderr",
     "output_type": "stream",
     "text": [
      "Action: gender:  50%|█████     | 2/4 [00:00<00:01,  1.81it/s]"
     ]
    },
    {
     "name": "stdout",
     "output_type": "stream",
     "text": [
      "1/1 [==============================] - 1s 726ms/step\n"
     ]
    },
    {
     "name": "stderr",
     "output_type": "stream",
     "text": [
      "Action: race:  75%|███████▌  | 3/4 [00:01<00:00,  1.49it/s]  "
     ]
    },
    {
     "name": "stdout",
     "output_type": "stream",
     "text": [
      "1/1 [==============================] - 1s 691ms/step\n"
     ]
    },
    {
     "name": "stderr",
     "output_type": "stream",
     "text": [
      "Action: race: 100%|██████████| 4/4 [00:02<00:00,  1.53it/s]\n"
     ]
    },
    {
     "name": "stdout",
     "output_type": "stream",
     "text": [
      "Deepface comparision\n",
      "----Deepface---\n",
      "Age:--- {25} ---\n",
      "Gender:--- {'Man'} ---\n",
      "Race:--- {'black'} ---\n",
      "Emotion:--- {'surprise'} ---\n",
      "------------------------------------------- \n"
     ]
    },
    {
     "name": "stderr",
     "output_type": "stream",
     "text": [
      "Action: emotion:   0%|          | 0/4 [00:00<?, ?it/s]"
     ]
    },
    {
     "name": "stdout",
     "output_type": "stream",
     "text": [
      "1/1 [==============================] - 0s 47ms/step\n"
     ]
    },
    {
     "name": "stderr",
     "output_type": "stream",
     "text": [
      "Action: age:  25%|██▌       | 1/4 [00:00<00:00,  5.24it/s]    "
     ]
    },
    {
     "name": "stdout",
     "output_type": "stream",
     "text": [
      "1/1 [==============================] - 1s 687ms/step\n"
     ]
    },
    {
     "name": "stderr",
     "output_type": "stream",
     "text": [
      "Action: gender:  50%|█████     | 2/4 [00:01<00:01,  1.77it/s]"
     ]
    },
    {
     "name": "stdout",
     "output_type": "stream",
     "text": [
      "1/1 [==============================] - 1s 689ms/step\n"
     ]
    },
    {
     "name": "stderr",
     "output_type": "stream",
     "text": [
      "Action: race:  75%|███████▌  | 3/4 [00:01<00:00,  1.49it/s]  "
     ]
    },
    {
     "name": "stdout",
     "output_type": "stream",
     "text": [
      "1/1 [==============================] - 1s 683ms/step\n"
     ]
    },
    {
     "name": "stderr",
     "output_type": "stream",
     "text": [
      "Action: race: 100%|██████████| 4/4 [00:02<00:00,  1.54it/s]\n"
     ]
    },
    {
     "name": "stdout",
     "output_type": "stream",
     "text": [
      "Deepface comparision\n",
      "----Deepface---\n",
      "Age:--- {27} ---\n",
      "Gender:--- {'Man'} ---\n",
      "Race:--- {'black'} ---\n",
      "Emotion:--- {'sad'} ---\n",
      "------------------------------------------- \n"
     ]
    },
    {
     "name": "stderr",
     "output_type": "stream",
     "text": [
      "Action: emotion:   0%|          | 0/4 [00:00<?, ?it/s]"
     ]
    },
    {
     "name": "stdout",
     "output_type": "stream",
     "text": [
      "1/1 [==============================] - 0s 30ms/step\n"
     ]
    },
    {
     "name": "stderr",
     "output_type": "stream",
     "text": [
      "Action: age:  25%|██▌       | 1/4 [00:00<00:00,  5.57it/s]    "
     ]
    },
    {
     "name": "stdout",
     "output_type": "stream",
     "text": [
      "1/1 [==============================] - 1s 682ms/step\n"
     ]
    },
    {
     "name": "stderr",
     "output_type": "stream",
     "text": [
      "Action: gender:  50%|█████     | 2/4 [00:01<00:01,  1.76it/s]"
     ]
    },
    {
     "name": "stdout",
     "output_type": "stream",
     "text": [
      "1/1 [==============================] - 1s 684ms/step\n"
     ]
    },
    {
     "name": "stderr",
     "output_type": "stream",
     "text": [
      "Action: race:  75%|███████▌  | 3/4 [00:01<00:00,  1.50it/s]  "
     ]
    },
    {
     "name": "stdout",
     "output_type": "stream",
     "text": [
      "1/1 [==============================] - 1s 663ms/step\n"
     ]
    },
    {
     "name": "stderr",
     "output_type": "stream",
     "text": [
      "Action: race: 100%|██████████| 4/4 [00:02<00:00,  1.54it/s]"
     ]
    },
    {
     "name": "stdout",
     "output_type": "stream",
     "text": [
      "Deepface comparision\n",
      "----Deepface---\n",
      "Age:--- {31} ---\n",
      "Gender:--- {'Man'} ---\n",
      "Race:--- {'black'} ---\n",
      "Emotion:--- {'angry'} ---\n",
      "------------------------------------------- \n",
      "/home/manish/Documents/police/image32.jpg\n"
     ]
    },
    {
     "name": "stderr",
     "output_type": "stream",
     "text": [
      "\n"
     ]
    },
    {
     "name": "stdout",
     "output_type": "stream",
     "text": [
      "/home/manish/Documents/police/image24.jpg\n",
      "Number of people: 7\n"
     ]
    },
    {
     "name": "stderr",
     "output_type": "stream",
     "text": [
      "Action: emotion:   0%|          | 0/4 [00:00<?, ?it/s]"
     ]
    },
    {
     "name": "stdout",
     "output_type": "stream",
     "text": [
      "1/1 [==============================] - 0s 25ms/step\n"
     ]
    },
    {
     "name": "stderr",
     "output_type": "stream",
     "text": [
      "Action: age:  25%|██▌       | 1/4 [00:00<00:00,  6.07it/s]    "
     ]
    },
    {
     "name": "stdout",
     "output_type": "stream",
     "text": [
      "1/1 [==============================] - 1s 673ms/step\n"
     ]
    },
    {
     "name": "stderr",
     "output_type": "stream",
     "text": [
      "Action: gender:  50%|█████     | 2/4 [00:01<00:01,  1.66it/s]"
     ]
    },
    {
     "name": "stdout",
     "output_type": "stream",
     "text": [
      "1/1 [==============================] - 1s 677ms/step\n"
     ]
    },
    {
     "name": "stderr",
     "output_type": "stream",
     "text": [
      "Action: race:  75%|███████▌  | 3/4 [00:01<00:00,  1.45it/s]  "
     ]
    },
    {
     "name": "stdout",
     "output_type": "stream",
     "text": [
      "1/1 [==============================] - 1s 691ms/step\n"
     ]
    },
    {
     "name": "stderr",
     "output_type": "stream",
     "text": [
      "Action: race: 100%|██████████| 4/4 [00:02<00:00,  1.50it/s]\n"
     ]
    },
    {
     "name": "stdout",
     "output_type": "stream",
     "text": [
      "Deepface comparision\n",
      "----Deepface---\n",
      "Age:--- {29} ---\n",
      "Gender:--- {'Man'} ---\n",
      "Race:--- {'indian'} ---\n",
      "Emotion:--- {'neutral'} ---\n",
      "------------------------------------------- \n"
     ]
    },
    {
     "name": "stderr",
     "output_type": "stream",
     "text": [
      "Action: emotion:   0%|          | 0/4 [00:00<?, ?it/s]"
     ]
    },
    {
     "name": "stdout",
     "output_type": "stream",
     "text": [
      "1/1 [==============================] - 0s 27ms/step\n"
     ]
    },
    {
     "name": "stderr",
     "output_type": "stream",
     "text": [
      "Action: age:  25%|██▌       | 1/4 [00:00<00:00,  4.63it/s]    "
     ]
    },
    {
     "name": "stdout",
     "output_type": "stream",
     "text": [
      "1/1 [==============================] - 1s 667ms/step\n"
     ]
    },
    {
     "name": "stderr",
     "output_type": "stream",
     "text": [
      "Action: gender:  50%|█████     | 2/4 [00:01<00:01,  1.68it/s]"
     ]
    },
    {
     "name": "stdout",
     "output_type": "stream",
     "text": [
      "1/1 [==============================] - 1s 702ms/step\n"
     ]
    },
    {
     "name": "stderr",
     "output_type": "stream",
     "text": [
      "Action: race:  75%|███████▌  | 3/4 [00:01<00:00,  1.45it/s]  "
     ]
    },
    {
     "name": "stdout",
     "output_type": "stream",
     "text": [
      "1/1 [==============================] - 1s 875ms/step\n"
     ]
    },
    {
     "name": "stderr",
     "output_type": "stream",
     "text": [
      "Action: race: 100%|██████████| 4/4 [00:02<00:00,  1.39it/s]\n"
     ]
    },
    {
     "name": "stdout",
     "output_type": "stream",
     "text": [
      "Deepface comparision\n",
      "----Deepface---\n",
      "Age:--- {44} ---\n",
      "Gender:--- {'Man'} ---\n",
      "Race:--- {'white'} ---\n",
      "Emotion:--- {'happy'} ---\n",
      "------------------------------------------- \n"
     ]
    },
    {
     "name": "stderr",
     "output_type": "stream",
     "text": [
      "Action: emotion:   0%|          | 0/4 [00:00<?, ?it/s]"
     ]
    },
    {
     "name": "stdout",
     "output_type": "stream",
     "text": [
      "1/1 [==============================] - 0s 104ms/step\n"
     ]
    },
    {
     "name": "stderr",
     "output_type": "stream",
     "text": [
      "Action: age:  25%|██▌       | 1/4 [00:00<00:00,  3.15it/s]    "
     ]
    },
    {
     "name": "stdout",
     "output_type": "stream",
     "text": [
      "1/1 [==============================] - 1s 960ms/step\n"
     ]
    },
    {
     "name": "stderr",
     "output_type": "stream",
     "text": [
      "Action: gender:  50%|█████     | 2/4 [00:01<00:01,  1.15it/s]"
     ]
    },
    {
     "name": "stdout",
     "output_type": "stream",
     "text": [
      "1/1 [==============================] - 1s 696ms/step\n"
     ]
    },
    {
     "name": "stderr",
     "output_type": "stream",
     "text": [
      "Action: race:  75%|███████▌  | 3/4 [00:02<00:00,  1.18it/s]  "
     ]
    },
    {
     "name": "stdout",
     "output_type": "stream",
     "text": [
      "1/1 [==============================] - 1s 768ms/step\n"
     ]
    },
    {
     "name": "stderr",
     "output_type": "stream",
     "text": [
      "Action: race: 100%|██████████| 4/4 [00:03<00:00,  1.22it/s]\n"
     ]
    },
    {
     "name": "stdout",
     "output_type": "stream",
     "text": [
      "Deepface comparision\n",
      "----Deepface---\n",
      "Age:--- {38} ---\n",
      "Gender:--- {'Man'} ---\n",
      "Race:--- {'latino hispanic'} ---\n",
      "Emotion:--- {'neutral'} ---\n",
      "------------------------------------------- \n"
     ]
    },
    {
     "name": "stderr",
     "output_type": "stream",
     "text": [
      "Action: emotion:   0%|          | 0/4 [00:00<?, ?it/s]"
     ]
    },
    {
     "name": "stdout",
     "output_type": "stream",
     "text": [
      "1/1 [==============================] - 0s 25ms/step\n"
     ]
    },
    {
     "name": "stderr",
     "output_type": "stream",
     "text": [
      "Action: age:  25%|██▌       | 1/4 [00:00<00:00,  3.79it/s]    "
     ]
    },
    {
     "name": "stdout",
     "output_type": "stream",
     "text": [
      "1/1 [==============================] - 1s 708ms/step\n"
     ]
    },
    {
     "name": "stderr",
     "output_type": "stream",
     "text": [
      "Action: gender:  50%|█████     | 2/4 [00:01<00:01,  1.49it/s]"
     ]
    },
    {
     "name": "stdout",
     "output_type": "stream",
     "text": [
      "1/1 [==============================] - 1s 774ms/step\n"
     ]
    },
    {
     "name": "stderr",
     "output_type": "stream",
     "text": [
      "Action: race:  75%|███████▌  | 3/4 [00:02<00:00,  1.30it/s]  "
     ]
    },
    {
     "name": "stdout",
     "output_type": "stream",
     "text": [
      "1/1 [==============================] - 1s 748ms/step\n"
     ]
    },
    {
     "name": "stderr",
     "output_type": "stream",
     "text": [
      "Action: race: 100%|██████████| 4/4 [00:02<00:00,  1.34it/s]\n"
     ]
    },
    {
     "name": "stdout",
     "output_type": "stream",
     "text": [
      "Deepface comparision\n",
      "----Deepface---\n",
      "Age:--- {25} ---\n",
      "Gender:--- {'Man'} ---\n",
      "Race:--- {'white'} ---\n",
      "Emotion:--- {'neutral'} ---\n",
      "------------------------------------------- \n"
     ]
    },
    {
     "name": "stderr",
     "output_type": "stream",
     "text": [
      "Action: emotion:   0%|          | 0/4 [00:00<?, ?it/s]"
     ]
    },
    {
     "name": "stdout",
     "output_type": "stream",
     "text": [
      "1/1 [==============================] - 0s 34ms/step\n"
     ]
    },
    {
     "name": "stderr",
     "output_type": "stream",
     "text": [
      "Action: age:  25%|██▌       | 1/4 [00:00<00:00,  4.21it/s]    "
     ]
    },
    {
     "name": "stdout",
     "output_type": "stream",
     "text": [
      "1/1 [==============================] - 1s 730ms/step\n"
     ]
    },
    {
     "name": "stderr",
     "output_type": "stream",
     "text": [
      "Action: gender:  50%|█████     | 2/4 [00:01<00:01,  1.50it/s]"
     ]
    },
    {
     "name": "stdout",
     "output_type": "stream",
     "text": [
      "1/1 [==============================] - 1s 709ms/step\n"
     ]
    },
    {
     "name": "stderr",
     "output_type": "stream",
     "text": [
      "Action: race:  75%|███████▌  | 3/4 [00:01<00:00,  1.38it/s]  "
     ]
    },
    {
     "name": "stdout",
     "output_type": "stream",
     "text": [
      "1/1 [==============================] - 1s 698ms/step\n"
     ]
    },
    {
     "name": "stderr",
     "output_type": "stream",
     "text": [
      "Action: race: 100%|██████████| 4/4 [00:02<00:00,  1.43it/s]\n"
     ]
    },
    {
     "name": "stdout",
     "output_type": "stream",
     "text": [
      "Deepface comparision\n",
      "----Deepface---\n",
      "Age:--- {29} ---\n",
      "Gender:--- {'Man'} ---\n",
      "Race:--- {'indian'} ---\n",
      "Emotion:--- {'neutral'} ---\n",
      "------------------------------------------- \n"
     ]
    },
    {
     "name": "stderr",
     "output_type": "stream",
     "text": [
      "Action: emotion:   0%|          | 0/4 [00:00<?, ?it/s]"
     ]
    },
    {
     "name": "stdout",
     "output_type": "stream",
     "text": [
      "1/1 [==============================] - 0s 30ms/step\n"
     ]
    },
    {
     "name": "stderr",
     "output_type": "stream",
     "text": [
      "Action: age:  25%|██▌       | 1/4 [00:00<00:00,  3.77it/s]    "
     ]
    },
    {
     "name": "stdout",
     "output_type": "stream",
     "text": [
      "1/1 [==============================] - 1s 712ms/step\n"
     ]
    },
    {
     "name": "stderr",
     "output_type": "stream",
     "text": [
      "Action: gender:  50%|█████     | 2/4 [00:01<00:01,  1.51it/s]"
     ]
    },
    {
     "name": "stdout",
     "output_type": "stream",
     "text": [
      "1/1 [==============================] - 1s 793ms/step\n"
     ]
    },
    {
     "name": "stderr",
     "output_type": "stream",
     "text": [
      "Action: race:  75%|███████▌  | 3/4 [00:02<00:00,  1.30it/s]  "
     ]
    },
    {
     "name": "stdout",
     "output_type": "stream",
     "text": [
      "1/1 [==============================] - 1s 679ms/step\n"
     ]
    },
    {
     "name": "stderr",
     "output_type": "stream",
     "text": [
      "Action: race: 100%|██████████| 4/4 [00:02<00:00,  1.38it/s]\n"
     ]
    },
    {
     "name": "stdout",
     "output_type": "stream",
     "text": [
      "Deepface comparision\n",
      "----Deepface---\n",
      "Age:--- {25} ---\n",
      "Gender:--- {'Man'} ---\n",
      "Race:--- {'white'} ---\n",
      "Emotion:--- {'neutral'} ---\n",
      "------------------------------------------- \n"
     ]
    },
    {
     "name": "stderr",
     "output_type": "stream",
     "text": [
      "Action: emotion:   0%|          | 0/4 [00:00<?, ?it/s]"
     ]
    },
    {
     "name": "stdout",
     "output_type": "stream",
     "text": [
      "1/1 [==============================] - 0s 23ms/step\n"
     ]
    },
    {
     "name": "stderr",
     "output_type": "stream",
     "text": [
      "Action: age:  25%|██▌       | 1/4 [00:00<00:00,  3.85it/s]    "
     ]
    },
    {
     "name": "stdout",
     "output_type": "stream",
     "text": [
      "1/1 [==============================] - 1s 801ms/step\n"
     ]
    },
    {
     "name": "stderr",
     "output_type": "stream",
     "text": [
      "Action: gender:  50%|█████     | 2/4 [00:01<00:01,  1.36it/s]"
     ]
    },
    {
     "name": "stdout",
     "output_type": "stream",
     "text": [
      "1/1 [==============================] - 1s 764ms/step\n"
     ]
    },
    {
     "name": "stderr",
     "output_type": "stream",
     "text": [
      "Action: race:  75%|███████▌  | 3/4 [00:02<00:00,  1.22it/s]  "
     ]
    },
    {
     "name": "stdout",
     "output_type": "stream",
     "text": [
      "1/1 [==============================] - 1s 794ms/step\n"
     ]
    },
    {
     "name": "stderr",
     "output_type": "stream",
     "text": [
      "Action: race: 100%|██████████| 4/4 [00:03<00:00,  1.27it/s]"
     ]
    },
    {
     "name": "stdout",
     "output_type": "stream",
     "text": [
      "Deepface comparision\n",
      "----Deepface---\n",
      "Age:--- {38} ---\n",
      "Gender:--- {'Man'} ---\n",
      "Race:--- {'indian'} ---\n",
      "Emotion:--- {'happy'} ---\n",
      "------------------------------------------- \n",
      "/home/manish/Documents/police/image26.jpg\n"
     ]
    },
    {
     "name": "stderr",
     "output_type": "stream",
     "text": [
      "\n"
     ]
    },
    {
     "name": "stdout",
     "output_type": "stream",
     "text": [
      "Number of people: 4\n"
     ]
    },
    {
     "name": "stderr",
     "output_type": "stream",
     "text": [
      "Action: emotion:   0%|          | 0/4 [00:00<?, ?it/s]"
     ]
    },
    {
     "name": "stdout",
     "output_type": "stream",
     "text": [
      "1/1 [==============================] - 0s 24ms/step\n"
     ]
    },
    {
     "name": "stderr",
     "output_type": "stream",
     "text": [
      "Action: age:  25%|██▌       | 1/4 [00:00<00:00,  5.89it/s]    "
     ]
    },
    {
     "name": "stdout",
     "output_type": "stream",
     "text": [
      "1/1 [==============================] - 1s 740ms/step\n"
     ]
    },
    {
     "name": "stderr",
     "output_type": "stream",
     "text": [
      "Action: gender:  50%|█████     | 2/4 [00:01<00:01,  1.54it/s]"
     ]
    },
    {
     "name": "stdout",
     "output_type": "stream",
     "text": [
      "1/1 [==============================] - 1s 680ms/step\n"
     ]
    },
    {
     "name": "stderr",
     "output_type": "stream",
     "text": [
      "Action: race:  75%|███████▌  | 3/4 [00:01<00:00,  1.39it/s]  "
     ]
    },
    {
     "name": "stdout",
     "output_type": "stream",
     "text": [
      "1/1 [==============================] - 1s 743ms/step\n"
     ]
    },
    {
     "name": "stderr",
     "output_type": "stream",
     "text": [
      "Action: race: 100%|██████████| 4/4 [00:02<00:00,  1.41it/s]\n"
     ]
    },
    {
     "name": "stdout",
     "output_type": "stream",
     "text": [
      "Deepface comparision\n",
      "----Deepface---\n",
      "Age:--- {39} ---\n",
      "Gender:--- {'Man'} ---\n",
      "Race:--- {'white'} ---\n",
      "Emotion:--- {'fear'} ---\n",
      "------------------------------------------- \n"
     ]
    },
    {
     "name": "stderr",
     "output_type": "stream",
     "text": [
      "Action: emotion:   0%|          | 0/4 [00:00<?, ?it/s]"
     ]
    },
    {
     "name": "stdout",
     "output_type": "stream",
     "text": [
      "1/1 [==============================] - 0s 25ms/step\n"
     ]
    },
    {
     "name": "stderr",
     "output_type": "stream",
     "text": [
      "Action: age:  25%|██▌       | 1/4 [00:00<00:00,  4.86it/s]    "
     ]
    },
    {
     "name": "stdout",
     "output_type": "stream",
     "text": [
      "1/1 [==============================] - 1s 1s/step\n"
     ]
    },
    {
     "name": "stderr",
     "output_type": "stream",
     "text": [
      "Action: gender:  50%|█████     | 2/4 [00:01<00:01,  1.23it/s]"
     ]
    },
    {
     "name": "stdout",
     "output_type": "stream",
     "text": [
      "1/1 [==============================] - 1s 806ms/step\n"
     ]
    },
    {
     "name": "stderr",
     "output_type": "stream",
     "text": [
      "Action: race:  75%|███████▌  | 3/4 [00:02<00:00,  1.17it/s]  "
     ]
    },
    {
     "name": "stdout",
     "output_type": "stream",
     "text": [
      "1/1 [==============================] - 1s 789ms/step\n"
     ]
    },
    {
     "name": "stderr",
     "output_type": "stream",
     "text": [
      "Action: race: 100%|██████████| 4/4 [00:03<00:00,  1.23it/s]\n"
     ]
    },
    {
     "name": "stdout",
     "output_type": "stream",
     "text": [
      "Deepface comparision\n",
      "----Deepface---\n",
      "Age:--- {30} ---\n",
      "Gender:--- {'Man'} ---\n",
      "Race:--- {'white'} ---\n",
      "Emotion:--- {'sad'} ---\n",
      "------------------------------------------- \n"
     ]
    },
    {
     "name": "stderr",
     "output_type": "stream",
     "text": [
      "Action: emotion:   0%|          | 0/4 [00:00<?, ?it/s]"
     ]
    },
    {
     "name": "stdout",
     "output_type": "stream",
     "text": [
      "1/1 [==============================] - 0s 36ms/step\n"
     ]
    },
    {
     "name": "stderr",
     "output_type": "stream",
     "text": [
      "Action: age:  25%|██▌       | 1/4 [00:00<00:00,  4.65it/s]    "
     ]
    },
    {
     "name": "stdout",
     "output_type": "stream",
     "text": [
      "1/1 [==============================] - 1s 741ms/step\n"
     ]
    },
    {
     "name": "stderr",
     "output_type": "stream",
     "text": [
      "Action: gender:  50%|█████     | 2/4 [00:01<00:01,  1.63it/s]"
     ]
    },
    {
     "name": "stdout",
     "output_type": "stream",
     "text": [
      "1/1 [==============================] - 1s 786ms/step\n"
     ]
    },
    {
     "name": "stderr",
     "output_type": "stream",
     "text": [
      "Action: race:  75%|███████▌  | 3/4 [00:02<00:00,  1.35it/s]  "
     ]
    },
    {
     "name": "stdout",
     "output_type": "stream",
     "text": [
      "1/1 [==============================] - 1s 790ms/step\n"
     ]
    },
    {
     "name": "stderr",
     "output_type": "stream",
     "text": [
      "Action: race: 100%|██████████| 4/4 [00:02<00:00,  1.38it/s]\n"
     ]
    },
    {
     "name": "stdout",
     "output_type": "stream",
     "text": [
      "Deepface comparision\n",
      "----Deepface---\n",
      "Age:--- {27} ---\n",
      "Gender:--- {'Man'} ---\n",
      "Race:--- {'white'} ---\n",
      "Emotion:--- {'happy'} ---\n",
      "------------------------------------------- \n"
     ]
    },
    {
     "name": "stderr",
     "output_type": "stream",
     "text": [
      "Action: emotion:   0%|          | 0/4 [00:00<?, ?it/s]"
     ]
    },
    {
     "name": "stdout",
     "output_type": "stream",
     "text": [
      "1/1 [==============================] - 0s 27ms/step\n"
     ]
    },
    {
     "name": "stderr",
     "output_type": "stream",
     "text": [
      "Action: age:  25%|██▌       | 1/4 [00:00<00:00,  5.09it/s]    "
     ]
    },
    {
     "name": "stdout",
     "output_type": "stream",
     "text": [
      "1/1 [==============================] - 1s 752ms/step\n"
     ]
    },
    {
     "name": "stderr",
     "output_type": "stream",
     "text": [
      "Action: gender:  50%|█████     | 2/4 [00:01<00:01,  1.58it/s]"
     ]
    },
    {
     "name": "stdout",
     "output_type": "stream",
     "text": [
      "1/1 [==============================] - 1s 732ms/step\n"
     ]
    },
    {
     "name": "stderr",
     "output_type": "stream",
     "text": [
      "Action: race:  75%|███████▌  | 3/4 [00:01<00:00,  1.40it/s]  "
     ]
    },
    {
     "name": "stdout",
     "output_type": "stream",
     "text": [
      "1/1 [==============================] - 1s 837ms/step\n"
     ]
    },
    {
     "name": "stderr",
     "output_type": "stream",
     "text": [
      "Action: race: 100%|██████████| 4/4 [00:02<00:00,  1.37it/s]"
     ]
    },
    {
     "name": "stdout",
     "output_type": "stream",
     "text": [
      "Deepface comparision\n",
      "----Deepface---\n",
      "Age:--- {24} ---\n",
      "Gender:--- {'Man'} ---\n",
      "Race:--- {'asian'} ---\n",
      "Emotion:--- {'sad'} ---\n",
      "------------------------------------------- \n",
      "/home/manish/Documents/police/image80.jpg\n"
     ]
    },
    {
     "name": "stderr",
     "output_type": "stream",
     "text": [
      "\n"
     ]
    },
    {
     "name": "stdout",
     "output_type": "stream",
     "text": [
      "/home/manish/Documents/police/image58.jpg\n",
      "/home/manish/Documents/police/image33.jpg\n",
      "/home/manish/Documents/police/image1.jpg\n",
      "Number of people: 1\n"
     ]
    },
    {
     "name": "stderr",
     "output_type": "stream",
     "text": [
      "Action: emotion:   0%|          | 0/4 [00:00<?, ?it/s]"
     ]
    },
    {
     "name": "stdout",
     "output_type": "stream",
     "text": [
      "1/1 [==============================] - 0s 24ms/step\n"
     ]
    },
    {
     "name": "stderr",
     "output_type": "stream",
     "text": [
      "Action: age:  25%|██▌       | 1/4 [00:00<00:00,  4.95it/s]    "
     ]
    },
    {
     "name": "stdout",
     "output_type": "stream",
     "text": [
      "1/1 [==============================] - 1s 1s/step\n"
     ]
    },
    {
     "name": "stderr",
     "output_type": "stream",
     "text": [
      "Action: gender:  50%|█████     | 2/4 [00:01<00:01,  1.05it/s]"
     ]
    },
    {
     "name": "stdout",
     "output_type": "stream",
     "text": [
      "1/1 [==============================] - 1s 761ms/step\n"
     ]
    },
    {
     "name": "stderr",
     "output_type": "stream",
     "text": [
      "Action: race:  75%|███████▌  | 3/4 [00:02<00:00,  1.09it/s]  "
     ]
    },
    {
     "name": "stdout",
     "output_type": "stream",
     "text": [
      "1/1 [==============================] - 1s 836ms/step\n"
     ]
    },
    {
     "name": "stderr",
     "output_type": "stream",
     "text": [
      "Action: race: 100%|██████████| 4/4 [00:03<00:00,  1.14it/s]"
     ]
    },
    {
     "name": "stdout",
     "output_type": "stream",
     "text": [
      "Deepface comparision\n",
      "----Deepface---\n",
      "Age:--- {43} ---\n",
      "Gender:--- {'Man'} ---\n",
      "Race:--- {'asian'} ---\n",
      "Emotion:--- {'happy'} ---\n",
      "------------------------------------------- \n",
      "/home/manish/Documents/police/image44.jpg\n"
     ]
    },
    {
     "name": "stderr",
     "output_type": "stream",
     "text": [
      "\n"
     ]
    },
    {
     "name": "stdout",
     "output_type": "stream",
     "text": [
      "/home/manish/Documents/police/image31.jpg\n",
      "/home/manish/Documents/police/image54.jpg\n",
      "/home/manish/Documents/police/image22.jpg\n",
      "/home/manish/Documents/police/image52.jpg\n",
      "/home/manish/Documents/police/image3.jpg\n",
      "/home/manish/Documents/police/image21.jpg\n",
      "/home/manish/Documents/police/image60.jpg\n",
      "Number of people: 1\n"
     ]
    },
    {
     "name": "stderr",
     "output_type": "stream",
     "text": [
      "Action: emotion:   0%|          | 0/4 [00:00<?, ?it/s]"
     ]
    },
    {
     "name": "stdout",
     "output_type": "stream",
     "text": [
      "1/1 [==============================] - 0s 24ms/step\n"
     ]
    },
    {
     "name": "stderr",
     "output_type": "stream",
     "text": [
      "Action: age:  25%|██▌       | 1/4 [00:00<00:00,  9.39it/s]    "
     ]
    },
    {
     "name": "stdout",
     "output_type": "stream",
     "text": [
      "1/1 [==============================] - 1s 716ms/step\n"
     ]
    },
    {
     "name": "stderr",
     "output_type": "stream",
     "text": [
      "Action: gender:  50%|█████     | 2/4 [00:00<00:01,  1.83it/s]"
     ]
    },
    {
     "name": "stdout",
     "output_type": "stream",
     "text": [
      "1/1 [==============================] - 1s 724ms/step\n"
     ]
    },
    {
     "name": "stderr",
     "output_type": "stream",
     "text": [
      "Action: race:  75%|███████▌  | 3/4 [00:01<00:00,  1.47it/s]  "
     ]
    },
    {
     "name": "stdout",
     "output_type": "stream",
     "text": [
      "1/1 [==============================] - 1s 671ms/step\n"
     ]
    },
    {
     "name": "stderr",
     "output_type": "stream",
     "text": [
      "Action: race: 100%|██████████| 4/4 [00:02<00:00,  1.56it/s]"
     ]
    },
    {
     "name": "stdout",
     "output_type": "stream",
     "text": [
      "Deepface comparision\n",
      "----Deepface---\n",
      "Age:--- {36} ---\n",
      "Gender:--- {'Man'} ---\n",
      "Race:--- {'asian'} ---\n",
      "Emotion:--- {'angry'} ---\n",
      "------------------------------------------- \n",
      "/home/manish/Documents/police/image42.jpg\n"
     ]
    },
    {
     "name": "stderr",
     "output_type": "stream",
     "text": [
      "\n"
     ]
    },
    {
     "name": "stdout",
     "output_type": "stream",
     "text": [
      "/home/manish/Documents/police/image27.jpg\n",
      "Number of people: 2\n"
     ]
    },
    {
     "name": "stderr",
     "output_type": "stream",
     "text": [
      "Action: emotion:   0%|          | 0/4 [00:00<?, ?it/s]"
     ]
    },
    {
     "name": "stdout",
     "output_type": "stream",
     "text": [
      "1/1 [==============================] - 0s 28ms/step\n"
     ]
    },
    {
     "name": "stderr",
     "output_type": "stream",
     "text": [
      "Action: age:  25%|██▌       | 1/4 [00:00<00:00,  8.85it/s]    "
     ]
    },
    {
     "name": "stdout",
     "output_type": "stream",
     "text": [
      "1/1 [==============================] - 1s 718ms/step\n"
     ]
    },
    {
     "name": "stderr",
     "output_type": "stream",
     "text": [
      "Action: gender:  50%|█████     | 2/4 [00:00<00:01,  1.81it/s]"
     ]
    },
    {
     "name": "stdout",
     "output_type": "stream",
     "text": [
      "1/1 [==============================] - 1s 720ms/step\n"
     ]
    },
    {
     "name": "stderr",
     "output_type": "stream",
     "text": [
      "Action: race:  75%|███████▌  | 3/4 [00:01<00:00,  1.47it/s]  "
     ]
    },
    {
     "name": "stdout",
     "output_type": "stream",
     "text": [
      "1/1 [==============================] - 1s 681ms/step\n"
     ]
    },
    {
     "name": "stderr",
     "output_type": "stream",
     "text": [
      "Action: race: 100%|██████████| 4/4 [00:02<00:00,  1.54it/s]\n"
     ]
    },
    {
     "name": "stdout",
     "output_type": "stream",
     "text": [
      "Deepface comparision\n",
      "----Deepface---\n",
      "Age:--- {24} ---\n",
      "Gender:--- {'Man'} ---\n",
      "Race:--- {'middle eastern'} ---\n",
      "Emotion:--- {'fear'} ---\n",
      "------------------------------------------- \n"
     ]
    },
    {
     "name": "stderr",
     "output_type": "stream",
     "text": [
      "Action: emotion:   0%|          | 0/4 [00:00<?, ?it/s]"
     ]
    },
    {
     "name": "stdout",
     "output_type": "stream",
     "text": [
      "1/1 [==============================] - 0s 27ms/step\n"
     ]
    },
    {
     "name": "stderr",
     "output_type": "stream",
     "text": [
      "Action: age:  25%|██▌       | 1/4 [00:00<00:00,  4.31it/s]    "
     ]
    },
    {
     "name": "stdout",
     "output_type": "stream",
     "text": [
      "1/1 [==============================] - 1s 666ms/step\n"
     ]
    },
    {
     "name": "stderr",
     "output_type": "stream",
     "text": [
      "Action: gender:  50%|█████     | 2/4 [00:01<00:01,  1.62it/s]"
     ]
    },
    {
     "name": "stdout",
     "output_type": "stream",
     "text": [
      "1/1 [==============================] - 1s 660ms/step\n"
     ]
    },
    {
     "name": "stderr",
     "output_type": "stream",
     "text": [
      "Action: race:  75%|███████▌  | 3/4 [00:01<00:00,  1.45it/s]  "
     ]
    },
    {
     "name": "stdout",
     "output_type": "stream",
     "text": [
      "1/1 [==============================] - 1s 1s/step\n"
     ]
    },
    {
     "name": "stderr",
     "output_type": "stream",
     "text": [
      "Action: race: 100%|██████████| 4/4 [00:03<00:00,  1.27it/s]"
     ]
    },
    {
     "name": "stdout",
     "output_type": "stream",
     "text": [
      "Deepface comparision\n",
      "----Deepface---\n",
      "Age:--- {35} ---\n",
      "Gender:--- {'Man'} ---\n",
      "Race:--- {'black'} ---\n",
      "Emotion:--- {'fear'} ---\n",
      "------------------------------------------- \n",
      "/home/manish/Documents/police/image45.jpg\n"
     ]
    },
    {
     "name": "stderr",
     "output_type": "stream",
     "text": [
      "\n"
     ]
    },
    {
     "name": "stdout",
     "output_type": "stream",
     "text": [
      "Number of people: 10\n"
     ]
    },
    {
     "name": "stderr",
     "output_type": "stream",
     "text": [
      "Action: emotion:   0%|          | 0/4 [00:00<?, ?it/s]"
     ]
    },
    {
     "name": "stdout",
     "output_type": "stream",
     "text": [
      "1/1 [==============================] - 0s 24ms/step\n"
     ]
    },
    {
     "name": "stderr",
     "output_type": "stream",
     "text": [
      "Action: age:  25%|██▌       | 1/4 [00:00<00:00,  7.21it/s]    "
     ]
    },
    {
     "name": "stdout",
     "output_type": "stream",
     "text": [
      "1/1 [==============================] - 1s 778ms/step\n"
     ]
    },
    {
     "name": "stderr",
     "output_type": "stream",
     "text": [
      "Action: gender:  50%|█████     | 2/4 [00:01<00:01,  1.61it/s]"
     ]
    },
    {
     "name": "stdout",
     "output_type": "stream",
     "text": [
      "1/1 [==============================] - 1s 663ms/step\n"
     ]
    },
    {
     "name": "stderr",
     "output_type": "stream",
     "text": [
      "Action: race:  75%|███████▌  | 3/4 [00:01<00:00,  1.46it/s]  "
     ]
    },
    {
     "name": "stdout",
     "output_type": "stream",
     "text": [
      "1/1 [==============================] - 1s 695ms/step\n"
     ]
    },
    {
     "name": "stderr",
     "output_type": "stream",
     "text": [
      "Action: race: 100%|██████████| 4/4 [00:02<00:00,  1.51it/s]\n"
     ]
    },
    {
     "name": "stdout",
     "output_type": "stream",
     "text": [
      "Deepface comparision\n",
      "----Deepface---\n",
      "Age:--- {23} ---\n",
      "Gender:--- {'Woman'} ---\n",
      "Race:--- {'white'} ---\n",
      "Emotion:--- {'happy'} ---\n",
      "------------------------------------------- \n"
     ]
    },
    {
     "name": "stderr",
     "output_type": "stream",
     "text": [
      "Action: emotion:   0%|          | 0/4 [00:00<?, ?it/s]"
     ]
    },
    {
     "name": "stdout",
     "output_type": "stream",
     "text": [
      "1/1 [==============================] - 0s 22ms/step\n"
     ]
    },
    {
     "name": "stderr",
     "output_type": "stream",
     "text": [
      "Action: age:  25%|██▌       | 1/4 [00:00<00:00,  4.99it/s]    "
     ]
    },
    {
     "name": "stdout",
     "output_type": "stream",
     "text": [
      "1/1 [==============================] - 1s 625ms/step\n"
     ]
    },
    {
     "name": "stderr",
     "output_type": "stream",
     "text": [
      "Action: gender:  50%|█████     | 2/4 [00:01<00:01,  1.76it/s]"
     ]
    },
    {
     "name": "stdout",
     "output_type": "stream",
     "text": [
      "1/1 [==============================] - 1s 712ms/step\n"
     ]
    },
    {
     "name": "stderr",
     "output_type": "stream",
     "text": [
      "Action: race:  75%|███████▌  | 3/4 [00:01<00:00,  1.46it/s]  "
     ]
    },
    {
     "name": "stdout",
     "output_type": "stream",
     "text": [
      "1/1 [==============================] - 1s 673ms/step\n"
     ]
    },
    {
     "name": "stderr",
     "output_type": "stream",
     "text": [
      "Action: race: 100%|██████████| 4/4 [00:02<00:00,  1.52it/s]\n"
     ]
    },
    {
     "name": "stdout",
     "output_type": "stream",
     "text": [
      "Deepface comparision\n",
      "----Deepface---\n",
      "Age:--- {27} ---\n",
      "Gender:--- {'Man'} ---\n",
      "Race:--- {'white'} ---\n",
      "Emotion:--- {'happy'} ---\n",
      "------------------------------------------- \n"
     ]
    },
    {
     "name": "stderr",
     "output_type": "stream",
     "text": [
      "Action: emotion:   0%|          | 0/4 [00:00<?, ?it/s]"
     ]
    },
    {
     "name": "stdout",
     "output_type": "stream",
     "text": [
      "1/1 [==============================] - 0s 25ms/step\n"
     ]
    },
    {
     "name": "stderr",
     "output_type": "stream",
     "text": [
      "Action: age:  25%|██▌       | 1/4 [00:00<00:00,  5.95it/s]    "
     ]
    },
    {
     "name": "stdout",
     "output_type": "stream",
     "text": [
      "1/1 [==============================] - 1s 770ms/step\n"
     ]
    },
    {
     "name": "stderr",
     "output_type": "stream",
     "text": [
      "Action: gender:  50%|█████     | 2/4 [00:01<00:01,  1.50it/s]"
     ]
    },
    {
     "name": "stdout",
     "output_type": "stream",
     "text": [
      "1/1 [==============================] - 1s 734ms/step\n"
     ]
    },
    {
     "name": "stderr",
     "output_type": "stream",
     "text": [
      "Action: race:  75%|███████▌  | 3/4 [00:02<00:00,  1.34it/s]  "
     ]
    },
    {
     "name": "stdout",
     "output_type": "stream",
     "text": [
      "1/1 [==============================] - 1s 685ms/step\n"
     ]
    },
    {
     "name": "stderr",
     "output_type": "stream",
     "text": [
      "Action: race: 100%|██████████| 4/4 [00:02<00:00,  1.41it/s]\n"
     ]
    },
    {
     "name": "stdout",
     "output_type": "stream",
     "text": [
      "Deepface comparision\n",
      "----Deepface---\n",
      "Age:--- {24} ---\n",
      "Gender:--- {'Woman'} ---\n",
      "Race:--- {'white'} ---\n",
      "Emotion:--- {'happy'} ---\n",
      "------------------------------------------- \n"
     ]
    },
    {
     "name": "stderr",
     "output_type": "stream",
     "text": [
      "Action: emotion:   0%|          | 0/4 [00:00<?, ?it/s]"
     ]
    },
    {
     "name": "stdout",
     "output_type": "stream",
     "text": [
      "1/1 [==============================] - 0s 23ms/step\n"
     ]
    },
    {
     "name": "stderr",
     "output_type": "stream",
     "text": [
      "Action: age:  25%|██▌       | 1/4 [00:00<00:00,  5.19it/s]    "
     ]
    },
    {
     "name": "stdout",
     "output_type": "stream",
     "text": [
      "1/1 [==============================] - 1s 635ms/step\n"
     ]
    },
    {
     "name": "stderr",
     "output_type": "stream",
     "text": [
      "Action: gender:  50%|█████     | 2/4 [00:01<00:01,  1.79it/s]"
     ]
    },
    {
     "name": "stdout",
     "output_type": "stream",
     "text": [
      "1/1 [==============================] - 1s 640ms/step\n"
     ]
    },
    {
     "name": "stderr",
     "output_type": "stream",
     "text": [
      "Action: race:  75%|███████▌  | 3/4 [00:01<00:00,  1.54it/s]  "
     ]
    },
    {
     "name": "stdout",
     "output_type": "stream",
     "text": [
      "1/1 [==============================] - 1s 686ms/step\n"
     ]
    },
    {
     "name": "stderr",
     "output_type": "stream",
     "text": [
      "Action: race: 100%|██████████| 4/4 [00:02<00:00,  1.56it/s]\n"
     ]
    },
    {
     "name": "stdout",
     "output_type": "stream",
     "text": [
      "Deepface comparision\n",
      "----Deepface---\n",
      "Age:--- {25} ---\n",
      "Gender:--- {'Man'} ---\n",
      "Race:--- {'latino hispanic'} ---\n",
      "Emotion:--- {'sad'} ---\n",
      "------------------------------------------- \n"
     ]
    },
    {
     "name": "stderr",
     "output_type": "stream",
     "text": [
      "Action: emotion:   0%|          | 0/4 [00:00<?, ?it/s]"
     ]
    },
    {
     "name": "stdout",
     "output_type": "stream",
     "text": [
      "1/1 [==============================] - 0s 23ms/step\n"
     ]
    },
    {
     "name": "stderr",
     "output_type": "stream",
     "text": [
      "Action: age:  25%|██▌       | 1/4 [00:00<00:00,  6.08it/s]    "
     ]
    },
    {
     "name": "stdout",
     "output_type": "stream",
     "text": [
      "1/1 [==============================] - 1s 620ms/step\n"
     ]
    },
    {
     "name": "stderr",
     "output_type": "stream",
     "text": [
      "Action: gender:  50%|█████     | 2/4 [00:00<00:01,  1.81it/s]"
     ]
    },
    {
     "name": "stdout",
     "output_type": "stream",
     "text": [
      "1/1 [==============================] - 1s 933ms/step\n"
     ]
    },
    {
     "name": "stderr",
     "output_type": "stream",
     "text": [
      "Action: race:  75%|███████▌  | 3/4 [00:02<00:00,  1.27it/s]  "
     ]
    },
    {
     "name": "stdout",
     "output_type": "stream",
     "text": [
      "1/1 [==============================] - 1s 1s/step\n"
     ]
    },
    {
     "name": "stderr",
     "output_type": "stream",
     "text": [
      "Action: race: 100%|██████████| 4/4 [00:03<00:00,  1.19it/s]\n"
     ]
    },
    {
     "name": "stdout",
     "output_type": "stream",
     "text": [
      "Deepface comparision\n",
      "----Deepface---\n",
      "Age:--- {24} ---\n",
      "Gender:--- {'Man'} ---\n",
      "Race:--- {'white'} ---\n",
      "Emotion:--- {'neutral'} ---\n",
      "------------------------------------------- \n"
     ]
    },
    {
     "name": "stderr",
     "output_type": "stream",
     "text": [
      "Action: emotion:   0%|          | 0/4 [00:00<?, ?it/s]"
     ]
    },
    {
     "name": "stdout",
     "output_type": "stream",
     "text": [
      "1/1 [==============================] - 0s 30ms/step\n"
     ]
    },
    {
     "name": "stderr",
     "output_type": "stream",
     "text": [
      "Action: age:  25%|██▌       | 1/4 [00:00<00:00,  4.71it/s]    "
     ]
    },
    {
     "name": "stdout",
     "output_type": "stream",
     "text": [
      "1/1 [==============================] - 1s 1s/step\n"
     ]
    },
    {
     "name": "stderr",
     "output_type": "stream",
     "text": [
      "Action: gender:  50%|█████     | 2/4 [00:01<00:01,  1.18it/s]"
     ]
    },
    {
     "name": "stdout",
     "output_type": "stream",
     "text": [
      "1/1 [==============================] - 1s 908ms/step\n"
     ]
    },
    {
     "name": "stderr",
     "output_type": "stream",
     "text": [
      "Action: race:  75%|███████▌  | 3/4 [00:02<00:00,  1.06it/s]  "
     ]
    },
    {
     "name": "stdout",
     "output_type": "stream",
     "text": [
      "1/1 [==============================] - 1s 745ms/step\n"
     ]
    },
    {
     "name": "stderr",
     "output_type": "stream",
     "text": [
      "Action: race: 100%|██████████| 4/4 [00:03<00:00,  1.17it/s]\n"
     ]
    },
    {
     "name": "stdout",
     "output_type": "stream",
     "text": [
      "Deepface comparision\n",
      "----Deepface---\n",
      "Age:--- {21} ---\n",
      "Gender:--- {'Man'} ---\n",
      "Race:--- {'white'} ---\n",
      "Emotion:--- {'fear'} ---\n",
      "------------------------------------------- \n"
     ]
    },
    {
     "name": "stderr",
     "output_type": "stream",
     "text": [
      "Action: emotion:   0%|          | 0/4 [00:00<?, ?it/s]"
     ]
    },
    {
     "name": "stdout",
     "output_type": "stream",
     "text": [
      "1/1 [==============================] - 0s 33ms/step\n"
     ]
    },
    {
     "name": "stderr",
     "output_type": "stream",
     "text": [
      "Action: age:  25%|██▌       | 1/4 [00:00<00:00,  4.72it/s]    "
     ]
    },
    {
     "name": "stdout",
     "output_type": "stream",
     "text": [
      "1/1 [==============================] - 1s 699ms/step\n"
     ]
    },
    {
     "name": "stderr",
     "output_type": "stream",
     "text": [
      "Action: gender:  50%|█████     | 2/4 [00:01<00:01,  1.64it/s]"
     ]
    },
    {
     "name": "stdout",
     "output_type": "stream",
     "text": [
      "1/1 [==============================] - 1s 938ms/step\n"
     ]
    },
    {
     "name": "stderr",
     "output_type": "stream",
     "text": [
      "Action: race:  75%|███████▌  | 3/4 [00:02<00:00,  1.24it/s]  "
     ]
    },
    {
     "name": "stdout",
     "output_type": "stream",
     "text": [
      "1/1 [==============================] - 1s 783ms/step\n"
     ]
    },
    {
     "name": "stderr",
     "output_type": "stream",
     "text": [
      "Action: race: 100%|██████████| 4/4 [00:03<00:00,  1.32it/s]\n"
     ]
    },
    {
     "name": "stdout",
     "output_type": "stream",
     "text": [
      "Deepface comparision\n",
      "----Deepface---\n",
      "Age:--- {31} ---\n",
      "Gender:--- {'Woman'} ---\n",
      "Race:--- {'white'} ---\n",
      "Emotion:--- {'happy'} ---\n",
      "------------------------------------------- \n"
     ]
    },
    {
     "name": "stderr",
     "output_type": "stream",
     "text": [
      "Action: emotion:   0%|          | 0/4 [00:00<?, ?it/s]"
     ]
    },
    {
     "name": "stdout",
     "output_type": "stream",
     "text": [
      "1/1 [==============================] - 0s 38ms/step\n"
     ]
    },
    {
     "name": "stderr",
     "output_type": "stream",
     "text": [
      "Action: age:  25%|██▌       | 1/4 [00:00<00:00,  4.26it/s]    "
     ]
    },
    {
     "name": "stdout",
     "output_type": "stream",
     "text": [
      "1/1 [==============================] - 1s 645ms/step\n"
     ]
    },
    {
     "name": "stderr",
     "output_type": "stream",
     "text": [
      "Action: gender:  50%|█████     | 2/4 [00:01<00:01,  1.71it/s]"
     ]
    },
    {
     "name": "stdout",
     "output_type": "stream",
     "text": [
      "1/1 [==============================] - 1s 724ms/step\n"
     ]
    },
    {
     "name": "stderr",
     "output_type": "stream",
     "text": [
      "Action: race:  75%|███████▌  | 3/4 [00:01<00:00,  1.41it/s]  "
     ]
    },
    {
     "name": "stdout",
     "output_type": "stream",
     "text": [
      "1/1 [==============================] - 1s 741ms/step\n"
     ]
    },
    {
     "name": "stderr",
     "output_type": "stream",
     "text": [
      "Action: race: 100%|██████████| 4/4 [00:02<00:00,  1.44it/s]\n"
     ]
    },
    {
     "name": "stdout",
     "output_type": "stream",
     "text": [
      "Deepface comparision\n",
      "----Deepface---\n",
      "Age:--- {25} ---\n",
      "Gender:--- {'Man'} ---\n",
      "Race:--- {'white'} ---\n",
      "Emotion:--- {'happy'} ---\n",
      "------------------------------------------- \n"
     ]
    },
    {
     "name": "stderr",
     "output_type": "stream",
     "text": [
      "Action: emotion:   0%|          | 0/4 [00:00<?, ?it/s]"
     ]
    },
    {
     "name": "stdout",
     "output_type": "stream",
     "text": [
      "1/1 [==============================] - 0s 23ms/step\n"
     ]
    },
    {
     "name": "stderr",
     "output_type": "stream",
     "text": [
      "Action: age:  25%|██▌       | 1/4 [00:00<00:00,  3.73it/s]    "
     ]
    },
    {
     "name": "stdout",
     "output_type": "stream",
     "text": [
      "1/1 [==============================] - 1s 644ms/step\n"
     ]
    },
    {
     "name": "stderr",
     "output_type": "stream",
     "text": [
      "Action: gender:  50%|█████     | 2/4 [00:01<00:01,  1.61it/s]"
     ]
    },
    {
     "name": "stdout",
     "output_type": "stream",
     "text": [
      "1/1 [==============================] - 1s 755ms/step\n"
     ]
    },
    {
     "name": "stderr",
     "output_type": "stream",
     "text": [
      "Action: race:  75%|███████▌  | 3/4 [00:02<00:00,  1.36it/s]  "
     ]
    },
    {
     "name": "stdout",
     "output_type": "stream",
     "text": [
      "1/1 [==============================] - 1s 746ms/step\n"
     ]
    },
    {
     "name": "stderr",
     "output_type": "stream",
     "text": [
      "Action: race: 100%|██████████| 4/4 [00:02<00:00,  1.38it/s]\n"
     ]
    },
    {
     "name": "stdout",
     "output_type": "stream",
     "text": [
      "Deepface comparision\n",
      "----Deepface---\n",
      "Age:--- {35} ---\n",
      "Gender:--- {'Man'} ---\n",
      "Race:--- {'white'} ---\n",
      "Emotion:--- {'neutral'} ---\n",
      "------------------------------------------- \n"
     ]
    },
    {
     "name": "stderr",
     "output_type": "stream",
     "text": [
      "Action: emotion:   0%|          | 0/4 [00:00<?, ?it/s]"
     ]
    },
    {
     "name": "stdout",
     "output_type": "stream",
     "text": [
      "1/1 [==============================] - 0s 36ms/step\n"
     ]
    },
    {
     "name": "stderr",
     "output_type": "stream",
     "text": [
      "Action: age:  25%|██▌       | 1/4 [00:00<00:00,  4.86it/s]    "
     ]
    },
    {
     "name": "stdout",
     "output_type": "stream",
     "text": [
      "1/1 [==============================] - 1s 666ms/step\n"
     ]
    },
    {
     "name": "stderr",
     "output_type": "stream",
     "text": [
      "Action: gender:  50%|█████     | 2/4 [00:01<00:01,  1.62it/s]"
     ]
    },
    {
     "name": "stdout",
     "output_type": "stream",
     "text": [
      "1/1 [==============================] - 1s 781ms/step\n"
     ]
    },
    {
     "name": "stderr",
     "output_type": "stream",
     "text": [
      "Action: race:  75%|███████▌  | 3/4 [00:02<00:00,  1.33it/s]  "
     ]
    },
    {
     "name": "stdout",
     "output_type": "stream",
     "text": [
      "1/1 [==============================] - 1s 896ms/step\n"
     ]
    },
    {
     "name": "stderr",
     "output_type": "stream",
     "text": [
      "Action: race: 100%|██████████| 4/4 [00:03<00:00,  1.32it/s]"
     ]
    },
    {
     "name": "stdout",
     "output_type": "stream",
     "text": [
      "Deepface comparision\n",
      "----Deepface---\n",
      "Age:--- {22} ---\n",
      "Gender:--- {'Man'} ---\n",
      "Race:--- {'white'} ---\n",
      "Emotion:--- {'happy'} ---\n",
      "------------------------------------------- \n",
      "/home/manish/Documents/police/image68.jpg\n"
     ]
    },
    {
     "name": "stderr",
     "output_type": "stream",
     "text": [
      "\n"
     ]
    },
    {
     "name": "stdout",
     "output_type": "stream",
     "text": [
      "Number of people: 1\n"
     ]
    },
    {
     "name": "stderr",
     "output_type": "stream",
     "text": [
      "Action: emotion:   0%|          | 0/4 [00:00<?, ?it/s]"
     ]
    },
    {
     "name": "stdout",
     "output_type": "stream",
     "text": [
      "1/1 [==============================] - 0s 34ms/step\n"
     ]
    },
    {
     "name": "stderr",
     "output_type": "stream",
     "text": [
      "Action: age:  25%|██▌       | 1/4 [00:00<00:00,  7.62it/s]    "
     ]
    },
    {
     "name": "stdout",
     "output_type": "stream",
     "text": [
      "1/1 [==============================] - 1s 753ms/step\n"
     ]
    },
    {
     "name": "stderr",
     "output_type": "stream",
     "text": [
      "Action: gender:  50%|█████     | 2/4 [00:01<00:01,  1.69it/s]"
     ]
    },
    {
     "name": "stdout",
     "output_type": "stream",
     "text": [
      "1/1 [==============================] - 1s 743ms/step\n"
     ]
    },
    {
     "name": "stderr",
     "output_type": "stream",
     "text": [
      "Action: race:  75%|███████▌  | 3/4 [00:01<00:00,  1.41it/s]  "
     ]
    },
    {
     "name": "stdout",
     "output_type": "stream",
     "text": [
      "1/1 [==============================] - 1s 834ms/step\n"
     ]
    },
    {
     "name": "stderr",
     "output_type": "stream",
     "text": [
      "Action: race: 100%|██████████| 4/4 [00:02<00:00,  1.41it/s]"
     ]
    },
    {
     "name": "stdout",
     "output_type": "stream",
     "text": [
      "Deepface comparision\n",
      "----Deepface---\n",
      "Age:--- {33} ---\n",
      "Gender:--- {'Man'} ---\n",
      "Race:--- {'white'} ---\n",
      "Emotion:--- {'sad'} ---\n",
      "------------------------------------------- \n",
      "/home/manish/Documents/police/image18.jpg\n"
     ]
    },
    {
     "name": "stderr",
     "output_type": "stream",
     "text": [
      "\n"
     ]
    },
    {
     "name": "stdout",
     "output_type": "stream",
     "text": [
      "/home/manish/Documents/police/image43.jpg\n",
      "/home/manish/Documents/police/image28.jpg\n",
      "/home/manish/Documents/police/image88.jpg\n",
      "/home/manish/Documents/police/image38.jpg\n",
      "Number of people: 1\n"
     ]
    },
    {
     "name": "stderr",
     "output_type": "stream",
     "text": [
      "Action: emotion:   0%|          | 0/4 [00:00<?, ?it/s]"
     ]
    },
    {
     "name": "stdout",
     "output_type": "stream",
     "text": [
      "1/1 [==============================] - 0s 41ms/step\n"
     ]
    },
    {
     "name": "stderr",
     "output_type": "stream",
     "text": [
      "Action: age:  25%|██▌       | 1/4 [00:00<00:00,  6.44it/s]    "
     ]
    },
    {
     "name": "stdout",
     "output_type": "stream",
     "text": [
      "1/1 [==============================] - 1s 765ms/step\n"
     ]
    },
    {
     "name": "stderr",
     "output_type": "stream",
     "text": [
      "Action: gender:  50%|█████     | 2/4 [00:01<00:01,  1.60it/s]"
     ]
    },
    {
     "name": "stdout",
     "output_type": "stream",
     "text": [
      "1/1 [==============================] - 1s 702ms/step\n"
     ]
    },
    {
     "name": "stderr",
     "output_type": "stream",
     "text": [
      "Action: race:  75%|███████▌  | 3/4 [00:01<00:00,  1.40it/s]  "
     ]
    },
    {
     "name": "stdout",
     "output_type": "stream",
     "text": [
      "1/1 [==============================] - 1s 757ms/step\n"
     ]
    },
    {
     "name": "stderr",
     "output_type": "stream",
     "text": [
      "Action: race: 100%|██████████| 4/4 [00:02<00:00,  1.43it/s]"
     ]
    },
    {
     "name": "stdout",
     "output_type": "stream",
     "text": [
      "Deepface comparision\n",
      "----Deepface---\n",
      "Age:--- {23} ---\n",
      "Gender:--- {'Man'} ---\n",
      "Race:--- {'white'} ---\n",
      "Emotion:--- {'happy'} ---\n",
      "------------------------------------------- \n",
      "/home/manish/Documents/police/image35.jpg\n"
     ]
    },
    {
     "name": "stderr",
     "output_type": "stream",
     "text": [
      "\n"
     ]
    },
    {
     "name": "stdout",
     "output_type": "stream",
     "text": [
      "Number of people: 2\n"
     ]
    },
    {
     "name": "stderr",
     "output_type": "stream",
     "text": [
      "Action: emotion:   0%|          | 0/4 [00:00<?, ?it/s]"
     ]
    },
    {
     "name": "stdout",
     "output_type": "stream",
     "text": [
      "1/1 [==============================] - 0s 25ms/step\n"
     ]
    },
    {
     "name": "stderr",
     "output_type": "stream",
     "text": [
      "Action: age:  25%|██▌       | 1/4 [00:00<00:00,  7.58it/s]    "
     ]
    },
    {
     "name": "stdout",
     "output_type": "stream",
     "text": [
      "1/1 [==============================] - 1s 745ms/step\n"
     ]
    },
    {
     "name": "stderr",
     "output_type": "stream",
     "text": [
      "Action: gender:  50%|█████     | 2/4 [00:01<00:01,  1.65it/s]"
     ]
    },
    {
     "name": "stdout",
     "output_type": "stream",
     "text": [
      "1/1 [==============================] - 1s 693ms/step\n"
     ]
    },
    {
     "name": "stderr",
     "output_type": "stream",
     "text": [
      "Action: race:  75%|███████▌  | 3/4 [00:01<00:00,  1.45it/s]  "
     ]
    },
    {
     "name": "stdout",
     "output_type": "stream",
     "text": [
      "1/1 [==============================] - 1s 768ms/step\n"
     ]
    },
    {
     "name": "stderr",
     "output_type": "stream",
     "text": [
      "Action: race: 100%|██████████| 4/4 [00:02<00:00,  1.46it/s]\n"
     ]
    },
    {
     "name": "stdout",
     "output_type": "stream",
     "text": [
      "Deepface comparision\n",
      "----Deepface---\n",
      "Age:--- {28} ---\n",
      "Gender:--- {'Woman'} ---\n",
      "Race:--- {'latino hispanic'} ---\n",
      "Emotion:--- {'angry'} ---\n",
      "------------------------------------------- \n"
     ]
    },
    {
     "name": "stderr",
     "output_type": "stream",
     "text": [
      "Action: emotion:   0%|          | 0/4 [00:00<?, ?it/s]"
     ]
    },
    {
     "name": "stdout",
     "output_type": "stream",
     "text": [
      "1/1 [==============================] - 0s 31ms/step\n"
     ]
    },
    {
     "name": "stderr",
     "output_type": "stream",
     "text": [
      "Action: age:  25%|██▌       | 1/4 [00:00<00:00,  5.40it/s]    "
     ]
    },
    {
     "name": "stdout",
     "output_type": "stream",
     "text": [
      "1/1 [==============================] - 1s 767ms/step\n"
     ]
    },
    {
     "name": "stderr",
     "output_type": "stream",
     "text": [
      "Action: gender:  50%|█████     | 2/4 [00:01<00:01,  1.55it/s]"
     ]
    },
    {
     "name": "stdout",
     "output_type": "stream",
     "text": [
      "1/1 [==============================] - 1s 976ms/step\n"
     ]
    },
    {
     "name": "stderr",
     "output_type": "stream",
     "text": [
      "Action: race:  75%|███████▌  | 3/4 [00:02<00:00,  1.16it/s]  "
     ]
    },
    {
     "name": "stdout",
     "output_type": "stream",
     "text": [
      "1/1 [==============================] - 1s 838ms/step\n"
     ]
    },
    {
     "name": "stderr",
     "output_type": "stream",
     "text": [
      "Action: race: 100%|██████████| 4/4 [00:03<00:00,  1.07it/s]\n"
     ]
    },
    {
     "name": "stdout",
     "output_type": "stream",
     "text": [
      "Deepface comparision\n",
      "----Deepface---\n",
      "Age:--- {35} ---\n",
      "Gender:--- {'Man'} ---\n",
      "Race:--- {'black'} ---\n",
      "Emotion:--- {'angry'} ---\n",
      "------------------------------------------- \n",
      "/home/manish/Documents/police/image9.jpg\n",
      "/home/manish/Documents/police/image99.jpg\n",
      "/home/manish/Documents/police/image41.jpg\n",
      "/home/manish/Documents/police/image7.jpg\n",
      "/home/manish/Documents/police/image49.jpg\n",
      "Number of people: 1\n"
     ]
    },
    {
     "name": "stderr",
     "output_type": "stream",
     "text": [
      "Action: emotion:   0%|          | 0/4 [00:00<?, ?it/s]"
     ]
    },
    {
     "name": "stdout",
     "output_type": "stream",
     "text": [
      "1/1 [==============================] - 0s 32ms/step\n"
     ]
    },
    {
     "name": "stderr",
     "output_type": "stream",
     "text": [
      "Action: age:  25%|██▌       | 1/4 [00:00<00:00,  5.91it/s]    "
     ]
    },
    {
     "name": "stdout",
     "output_type": "stream",
     "text": [
      "1/1 [==============================] - 1s 700ms/step\n"
     ]
    },
    {
     "name": "stderr",
     "output_type": "stream",
     "text": [
      "Action: gender:  50%|█████     | 2/4 [00:01<00:01,  1.76it/s]"
     ]
    },
    {
     "name": "stdout",
     "output_type": "stream",
     "text": [
      "1/1 [==============================] - 1s 790ms/step\n"
     ]
    },
    {
     "name": "stderr",
     "output_type": "stream",
     "text": [
      "Action: race:  75%|███████▌  | 3/4 [00:01<00:00,  1.38it/s]  "
     ]
    },
    {
     "name": "stdout",
     "output_type": "stream",
     "text": [
      "1/1 [==============================] - 1s 787ms/step\n"
     ]
    },
    {
     "name": "stderr",
     "output_type": "stream",
     "text": [
      "Action: race: 100%|██████████| 4/4 [00:02<00:00,  1.42it/s]"
     ]
    },
    {
     "name": "stdout",
     "output_type": "stream",
     "text": [
      "Deepface comparision\n",
      "----Deepface---\n",
      "Age:--- {36} ---\n",
      "Gender:--- {'Man'} ---\n",
      "Race:--- {'middle eastern'} ---\n",
      "Emotion:--- {'fear'} ---\n",
      "------------------------------------------- \n",
      "/home/manish/Documents/police/image46.jpg\n"
     ]
    },
    {
     "name": "stderr",
     "output_type": "stream",
     "text": [
      "\n"
     ]
    },
    {
     "name": "stdout",
     "output_type": "stream",
     "text": [
      "/home/manish/Documents/police/image83.jpg\n",
      "/home/manish/Documents/police/image69.jpg\n",
      "Number of people: 3\n"
     ]
    },
    {
     "name": "stderr",
     "output_type": "stream",
     "text": [
      "Action: emotion:   0%|          | 0/4 [00:00<?, ?it/s]"
     ]
    },
    {
     "name": "stdout",
     "output_type": "stream",
     "text": [
      "1/1 [==============================] - 0s 36ms/step\n"
     ]
    },
    {
     "name": "stderr",
     "output_type": "stream",
     "text": [
      "Action: age:  25%|██▌       | 1/4 [00:00<00:00,  6.17it/s]    "
     ]
    },
    {
     "name": "stdout",
     "output_type": "stream",
     "text": [
      "1/1 [==============================] - 1s 757ms/step\n"
     ]
    },
    {
     "name": "stderr",
     "output_type": "stream",
     "text": [
      "Action: gender:  50%|█████     | 2/4 [00:01<00:01,  1.61it/s]"
     ]
    },
    {
     "name": "stdout",
     "output_type": "stream",
     "text": [
      "1/1 [==============================] - 1s 739ms/step\n"
     ]
    },
    {
     "name": "stderr",
     "output_type": "stream",
     "text": [
      "Action: race:  75%|███████▌  | 3/4 [00:01<00:00,  1.38it/s]  "
     ]
    },
    {
     "name": "stdout",
     "output_type": "stream",
     "text": [
      "1/1 [==============================] - 1s 711ms/step\n"
     ]
    },
    {
     "name": "stderr",
     "output_type": "stream",
     "text": [
      "Action: race: 100%|██████████| 4/4 [00:02<00:00,  1.45it/s]\n"
     ]
    },
    {
     "name": "stdout",
     "output_type": "stream",
     "text": [
      "Deepface comparision\n",
      "----Deepface---\n",
      "Age:--- {32} ---\n",
      "Gender:--- {'Man'} ---\n",
      "Race:--- {'black'} ---\n",
      "Emotion:--- {'fear'} ---\n",
      "------------------------------------------- \n"
     ]
    },
    {
     "name": "stderr",
     "output_type": "stream",
     "text": [
      "Action: emotion:   0%|          | 0/4 [00:00<?, ?it/s]"
     ]
    },
    {
     "name": "stdout",
     "output_type": "stream",
     "text": [
      "1/1 [==============================] - 0s 34ms/step\n"
     ]
    },
    {
     "name": "stderr",
     "output_type": "stream",
     "text": [
      "Action: age:  25%|██▌       | 1/4 [00:00<00:00,  4.55it/s]    "
     ]
    },
    {
     "name": "stdout",
     "output_type": "stream",
     "text": [
      "1/1 [==============================] - 1s 697ms/step\n"
     ]
    },
    {
     "name": "stderr",
     "output_type": "stream",
     "text": [
      "Action: gender:  50%|█████     | 2/4 [00:01<00:01,  1.58it/s]"
     ]
    },
    {
     "name": "stdout",
     "output_type": "stream",
     "text": [
      "1/1 [==============================] - 1s 843ms/step\n"
     ]
    },
    {
     "name": "stderr",
     "output_type": "stream",
     "text": [
      "Action: race:  75%|███████▌  | 3/4 [00:02<00:00,  1.29it/s]  "
     ]
    },
    {
     "name": "stdout",
     "output_type": "stream",
     "text": [
      "1/1 [==============================] - 1s 716ms/step\n"
     ]
    },
    {
     "name": "stderr",
     "output_type": "stream",
     "text": [
      "Action: race: 100%|██████████| 4/4 [00:02<00:00,  1.36it/s]\n"
     ]
    },
    {
     "name": "stdout",
     "output_type": "stream",
     "text": [
      "Deepface comparision\n",
      "----Deepface---\n",
      "Age:--- {32} ---\n",
      "Gender:--- {'Man'} ---\n",
      "Race:--- {'asian'} ---\n",
      "Emotion:--- {'neutral'} ---\n",
      "------------------------------------------- \n"
     ]
    },
    {
     "name": "stderr",
     "output_type": "stream",
     "text": [
      "Action: emotion:   0%|          | 0/4 [00:00<?, ?it/s]"
     ]
    },
    {
     "name": "stdout",
     "output_type": "stream",
     "text": [
      "1/1 [==============================] - 0s 28ms/step\n"
     ]
    },
    {
     "name": "stderr",
     "output_type": "stream",
     "text": [
      "Action: age:  25%|██▌       | 1/4 [00:00<00:00,  5.07it/s]    "
     ]
    },
    {
     "name": "stdout",
     "output_type": "stream",
     "text": [
      "1/1 [==============================] - 1s 671ms/step\n"
     ]
    },
    {
     "name": "stderr",
     "output_type": "stream",
     "text": [
      "Action: gender:  50%|█████     | 2/4 [00:01<00:01,  1.67it/s]"
     ]
    },
    {
     "name": "stdout",
     "output_type": "stream",
     "text": [
      "1/1 [==============================] - 1s 728ms/step\n"
     ]
    },
    {
     "name": "stderr",
     "output_type": "stream",
     "text": [
      "Action: race:  75%|███████▌  | 3/4 [00:01<00:00,  1.44it/s]  "
     ]
    },
    {
     "name": "stdout",
     "output_type": "stream",
     "text": [
      "1/1 [==============================] - 1s 720ms/step\n"
     ]
    },
    {
     "name": "stderr",
     "output_type": "stream",
     "text": [
      "Action: race: 100%|██████████| 4/4 [00:02<00:00,  1.47it/s]"
     ]
    },
    {
     "name": "stdout",
     "output_type": "stream",
     "text": [
      "Deepface comparision\n",
      "----Deepface---\n",
      "Age:--- {33} ---\n",
      "Gender:--- {'Man'} ---\n",
      "Race:--- {'black'} ---\n",
      "Emotion:--- {'neutral'} ---\n",
      "------------------------------------------- \n",
      "/home/manish/Documents/police/image86.jpg\n"
     ]
    },
    {
     "name": "stderr",
     "output_type": "stream",
     "text": [
      "\n"
     ]
    },
    {
     "name": "stdout",
     "output_type": "stream",
     "text": [
      "/home/manish/Documents/police/image65.jpg\n",
      "/home/manish/Documents/police/image64.jpg\n",
      "/home/manish/Documents/police/image2.jpg\n",
      "/home/manish/Documents/police/image0.jpg\n",
      "/home/manish/Documents/police/image47.jpg\n",
      "/home/manish/Documents/police/image8.jpg\n",
      "Number of people: 3\n"
     ]
    },
    {
     "name": "stderr",
     "output_type": "stream",
     "text": [
      "Action: emotion:   0%|          | 0/4 [00:00<?, ?it/s]"
     ]
    },
    {
     "name": "stdout",
     "output_type": "stream",
     "text": [
      "1/1 [==============================] - 0s 36ms/step\n"
     ]
    },
    {
     "name": "stderr",
     "output_type": "stream",
     "text": [
      "Action: age:  25%|██▌       | 1/4 [00:00<00:00,  4.97it/s]    "
     ]
    },
    {
     "name": "stdout",
     "output_type": "stream",
     "text": [
      "1/1 [==============================] - 1s 741ms/step\n"
     ]
    },
    {
     "name": "stderr",
     "output_type": "stream",
     "text": [
      "Action: gender:  50%|█████     | 2/4 [00:01<00:01,  1.52it/s]"
     ]
    },
    {
     "name": "stdout",
     "output_type": "stream",
     "text": [
      "1/1 [==============================] - 1s 753ms/step\n"
     ]
    },
    {
     "name": "stderr",
     "output_type": "stream",
     "text": [
      "Action: race:  75%|███████▌  | 3/4 [00:02<00:00,  1.33it/s]  "
     ]
    },
    {
     "name": "stdout",
     "output_type": "stream",
     "text": [
      "1/1 [==============================] - 1s 744ms/step\n"
     ]
    },
    {
     "name": "stderr",
     "output_type": "stream",
     "text": [
      "Action: race: 100%|██████████| 4/4 [00:02<00:00,  1.38it/s]\n"
     ]
    },
    {
     "name": "stdout",
     "output_type": "stream",
     "text": [
      "Deepface comparision\n",
      "----Deepface---\n",
      "Age:--- {33} ---\n",
      "Gender:--- {'Man'} ---\n",
      "Race:--- {'white'} ---\n",
      "Emotion:--- {'fear'} ---\n",
      "------------------------------------------- \n"
     ]
    },
    {
     "name": "stderr",
     "output_type": "stream",
     "text": [
      "Action: emotion:   0%|          | 0/4 [00:00<?, ?it/s]"
     ]
    },
    {
     "name": "stdout",
     "output_type": "stream",
     "text": [
      "1/1 [==============================] - 0s 29ms/step\n"
     ]
    },
    {
     "name": "stderr",
     "output_type": "stream",
     "text": [
      "Action: age:  25%|██▌       | 1/4 [00:00<00:00,  4.38it/s]    "
     ]
    },
    {
     "name": "stdout",
     "output_type": "stream",
     "text": [
      "1/1 [==============================] - 1s 819ms/step\n"
     ]
    },
    {
     "name": "stderr",
     "output_type": "stream",
     "text": [
      "Action: gender:  50%|█████     | 2/4 [00:01<00:01,  1.41it/s]"
     ]
    },
    {
     "name": "stdout",
     "output_type": "stream",
     "text": [
      "1/1 [==============================] - 1s 773ms/step\n"
     ]
    },
    {
     "name": "stderr",
     "output_type": "stream",
     "text": [
      "Action: race:  75%|███████▌  | 3/4 [00:02<00:00,  1.26it/s]  "
     ]
    },
    {
     "name": "stdout",
     "output_type": "stream",
     "text": [
      "1/1 [==============================] - 1s 700ms/step\n"
     ]
    },
    {
     "name": "stderr",
     "output_type": "stream",
     "text": [
      "Action: race: 100%|██████████| 4/4 [00:03<00:00,  1.33it/s]\n"
     ]
    },
    {
     "name": "stdout",
     "output_type": "stream",
     "text": [
      "Deepface comparision\n",
      "----Deepface---\n",
      "Age:--- {41} ---\n",
      "Gender:--- {'Man'} ---\n",
      "Race:--- {'white'} ---\n",
      "Emotion:--- {'sad'} ---\n",
      "------------------------------------------- \n"
     ]
    },
    {
     "name": "stderr",
     "output_type": "stream",
     "text": [
      "Action: emotion:   0%|          | 0/4 [00:00<?, ?it/s]"
     ]
    },
    {
     "name": "stdout",
     "output_type": "stream",
     "text": [
      "1/1 [==============================] - 0s 25ms/step\n"
     ]
    },
    {
     "name": "stderr",
     "output_type": "stream",
     "text": [
      "Action: age:  25%|██▌       | 1/4 [00:00<00:00,  5.39it/s]    "
     ]
    },
    {
     "name": "stdout",
     "output_type": "stream",
     "text": [
      "1/1 [==============================] - 1s 769ms/step\n"
     ]
    },
    {
     "name": "stderr",
     "output_type": "stream",
     "text": [
      "Action: gender:  50%|█████     | 2/4 [00:01<00:01,  1.57it/s]"
     ]
    },
    {
     "name": "stdout",
     "output_type": "stream",
     "text": [
      "1/1 [==============================] - 1s 871ms/step\n"
     ]
    },
    {
     "name": "stderr",
     "output_type": "stream",
     "text": [
      "Action: race:  75%|███████▌  | 3/4 [00:02<00:00,  1.25it/s]  "
     ]
    },
    {
     "name": "stdout",
     "output_type": "stream",
     "text": [
      "1/1 [==============================] - 1s 682ms/step\n"
     ]
    },
    {
     "name": "stderr",
     "output_type": "stream",
     "text": [
      "Action: race: 100%|██████████| 4/4 [00:02<00:00,  1.35it/s]"
     ]
    },
    {
     "name": "stdout",
     "output_type": "stream",
     "text": [
      "Deepface comparision\n",
      "----Deepface---\n",
      "Age:--- {29} ---\n",
      "Gender:--- {'Man'} ---\n",
      "Race:--- {'white'} ---\n",
      "Emotion:--- {'fear'} ---\n",
      "------------------------------------------- \n",
      "/home/manish/Documents/police/image75.jpg\n"
     ]
    },
    {
     "name": "stderr",
     "output_type": "stream",
     "text": [
      "\n"
     ]
    },
    {
     "name": "stdout",
     "output_type": "stream",
     "text": [
      "/home/manish/Documents/police/image39.jpg\n",
      "/home/manish/Documents/police/image10.jpg\n",
      "/home/manish/Documents/police/image19.jpg\n",
      "Number of people: 1\n"
     ]
    },
    {
     "name": "stderr",
     "output_type": "stream",
     "text": [
      "Action: emotion:   0%|          | 0/4 [00:00<?, ?it/s]"
     ]
    },
    {
     "name": "stdout",
     "output_type": "stream",
     "text": [
      "1/1 [==============================] - 0s 25ms/step\n"
     ]
    },
    {
     "name": "stderr",
     "output_type": "stream",
     "text": [
      "Action: age:  25%|██▌       | 1/4 [00:00<00:00,  5.48it/s]    "
     ]
    },
    {
     "name": "stdout",
     "output_type": "stream",
     "text": [
      "1/1 [==============================] - 1s 1s/step\n"
     ]
    },
    {
     "name": "stderr",
     "output_type": "stream",
     "text": [
      "Action: gender:  50%|█████     | 2/4 [00:01<00:01,  1.11it/s]"
     ]
    },
    {
     "name": "stdout",
     "output_type": "stream",
     "text": [
      "1/1 [==============================] - 1s 806ms/step\n"
     ]
    },
    {
     "name": "stderr",
     "output_type": "stream",
     "text": [
      "Action: race:  75%|███████▌  | 3/4 [00:02<00:00,  1.08it/s]  "
     ]
    },
    {
     "name": "stdout",
     "output_type": "stream",
     "text": [
      "1/1 [==============================] - 1s 752ms/step\n"
     ]
    },
    {
     "name": "stderr",
     "output_type": "stream",
     "text": [
      "Action: race: 100%|██████████| 4/4 [00:03<00:00,  1.18it/s]"
     ]
    },
    {
     "name": "stdout",
     "output_type": "stream",
     "text": [
      "Deepface comparision\n",
      "----Deepface---\n",
      "Age:--- {37} ---\n",
      "Gender:--- {'Man'} ---\n",
      "Race:--- {'latino hispanic'} ---\n",
      "Emotion:--- {'fear'} ---\n",
      "------------------------------------------- \n",
      "/home/manish/Documents/police/image63.jpg\n"
     ]
    },
    {
     "name": "stderr",
     "output_type": "stream",
     "text": [
      "\n"
     ]
    },
    {
     "name": "stdout",
     "output_type": "stream",
     "text": [
      "Number of people: 4\n"
     ]
    },
    {
     "name": "stderr",
     "output_type": "stream",
     "text": [
      "Action: emotion:   0%|          | 0/4 [00:00<?, ?it/s]"
     ]
    },
    {
     "name": "stdout",
     "output_type": "stream",
     "text": [
      "1/1 [==============================] - 0s 23ms/step\n"
     ]
    },
    {
     "name": "stderr",
     "output_type": "stream",
     "text": [
      "Action: age:  25%|██▌       | 1/4 [00:00<00:00,  5.39it/s]    "
     ]
    },
    {
     "name": "stdout",
     "output_type": "stream",
     "text": [
      "1/1 [==============================] - 1s 663ms/step\n"
     ]
    },
    {
     "name": "stderr",
     "output_type": "stream",
     "text": [
      "Action: gender:  50%|█████     | 2/4 [00:01<00:01,  1.67it/s]"
     ]
    },
    {
     "name": "stdout",
     "output_type": "stream",
     "text": [
      "1/1 [==============================] - 1s 714ms/step\n"
     ]
    },
    {
     "name": "stderr",
     "output_type": "stream",
     "text": [
      "Action: race:  75%|███████▌  | 3/4 [00:01<00:00,  1.43it/s]  "
     ]
    },
    {
     "name": "stdout",
     "output_type": "stream",
     "text": [
      "1/1 [==============================] - 1s 736ms/step\n"
     ]
    },
    {
     "name": "stderr",
     "output_type": "stream",
     "text": [
      "Action: race: 100%|██████████| 4/4 [00:02<00:00,  1.46it/s]\n"
     ]
    },
    {
     "name": "stdout",
     "output_type": "stream",
     "text": [
      "Deepface comparision\n",
      "----Deepface---\n",
      "Age:--- {47} ---\n",
      "Gender:--- {'Woman'} ---\n",
      "Race:--- {'white'} ---\n",
      "Emotion:--- {'happy'} ---\n",
      "------------------------------------------- \n"
     ]
    },
    {
     "name": "stderr",
     "output_type": "stream",
     "text": [
      "Action: emotion:   0%|          | 0/4 [00:00<?, ?it/s]"
     ]
    },
    {
     "name": "stdout",
     "output_type": "stream",
     "text": [
      "1/1 [==============================] - 0s 25ms/step\n"
     ]
    },
    {
     "name": "stderr",
     "output_type": "stream",
     "text": [
      "Action: age:  25%|██▌       | 1/4 [00:00<00:00,  5.31it/s]    "
     ]
    },
    {
     "name": "stdout",
     "output_type": "stream",
     "text": [
      "1/1 [==============================] - 1s 763ms/step\n"
     ]
    },
    {
     "name": "stderr",
     "output_type": "stream",
     "text": [
      "Action: gender:  50%|█████     | 2/4 [00:01<00:01,  1.64it/s]"
     ]
    },
    {
     "name": "stdout",
     "output_type": "stream",
     "text": [
      "1/1 [==============================] - 1s 852ms/step\n"
     ]
    },
    {
     "name": "stderr",
     "output_type": "stream",
     "text": [
      "Action: race:  75%|███████▌  | 3/4 [00:02<00:00,  1.32it/s]  "
     ]
    },
    {
     "name": "stdout",
     "output_type": "stream",
     "text": [
      "1/1 [==============================] - 1s 684ms/step\n"
     ]
    },
    {
     "name": "stderr",
     "output_type": "stream",
     "text": [
      "Action: race: 100%|██████████| 4/4 [00:02<00:00,  1.39it/s]\n"
     ]
    },
    {
     "name": "stdout",
     "output_type": "stream",
     "text": [
      "Deepface comparision\n",
      "----Deepface---\n",
      "Age:--- {29} ---\n",
      "Gender:--- {'Man'} ---\n",
      "Race:--- {'indian'} ---\n",
      "Emotion:--- {'neutral'} ---\n",
      "------------------------------------------- \n"
     ]
    },
    {
     "name": "stderr",
     "output_type": "stream",
     "text": [
      "Action: emotion:   0%|          | 0/4 [00:00<?, ?it/s]"
     ]
    },
    {
     "name": "stdout",
     "output_type": "stream",
     "text": [
      "1/1 [==============================] - 0s 28ms/step\n"
     ]
    },
    {
     "name": "stderr",
     "output_type": "stream",
     "text": [
      "Action: age:  25%|██▌       | 1/4 [00:00<00:00,  3.83it/s]    "
     ]
    },
    {
     "name": "stdout",
     "output_type": "stream",
     "text": [
      "1/1 [==============================] - 1s 740ms/step\n"
     ]
    },
    {
     "name": "stderr",
     "output_type": "stream",
     "text": [
      "Action: gender:  50%|█████     | 2/4 [00:01<00:01,  1.48it/s]"
     ]
    },
    {
     "name": "stdout",
     "output_type": "stream",
     "text": [
      "1/1 [==============================] - 1s 747ms/step\n"
     ]
    },
    {
     "name": "stderr",
     "output_type": "stream",
     "text": [
      "Action: race:  75%|███████▌  | 3/4 [00:02<00:00,  1.34it/s]  "
     ]
    },
    {
     "name": "stdout",
     "output_type": "stream",
     "text": [
      "1/1 [==============================] - 1s 659ms/step\n"
     ]
    },
    {
     "name": "stderr",
     "output_type": "stream",
     "text": [
      "Action: race: 100%|██████████| 4/4 [00:02<00:00,  1.42it/s]\n"
     ]
    },
    {
     "name": "stdout",
     "output_type": "stream",
     "text": [
      "Deepface comparision\n",
      "----Deepface---\n",
      "Age:--- {44} ---\n",
      "Gender:--- {'Man'} ---\n",
      "Race:--- {'black'} ---\n",
      "Emotion:--- {'happy'} ---\n",
      "------------------------------------------- \n"
     ]
    },
    {
     "name": "stderr",
     "output_type": "stream",
     "text": [
      "Action: emotion:   0%|          | 0/4 [00:00<?, ?it/s]"
     ]
    },
    {
     "name": "stdout",
     "output_type": "stream",
     "text": [
      "1/1 [==============================] - 0s 27ms/step\n"
     ]
    },
    {
     "name": "stderr",
     "output_type": "stream",
     "text": [
      "Action: age:  25%|██▌       | 1/4 [00:00<00:00,  6.08it/s]    "
     ]
    },
    {
     "name": "stdout",
     "output_type": "stream",
     "text": [
      "1/1 [==============================] - 1s 682ms/step\n"
     ]
    },
    {
     "name": "stderr",
     "output_type": "stream",
     "text": [
      "Action: gender:  50%|█████     | 2/4 [00:00<00:01,  1.83it/s]"
     ]
    },
    {
     "name": "stdout",
     "output_type": "stream",
     "text": [
      "1/1 [==============================] - 1s 773ms/step\n"
     ]
    },
    {
     "name": "stderr",
     "output_type": "stream",
     "text": [
      "Action: race:  75%|███████▌  | 3/4 [00:01<00:00,  1.43it/s]  "
     ]
    },
    {
     "name": "stdout",
     "output_type": "stream",
     "text": [
      "1/1 [==============================] - 1s 932ms/step\n"
     ]
    },
    {
     "name": "stderr",
     "output_type": "stream",
     "text": [
      "Action: race: 100%|██████████| 4/4 [00:02<00:00,  1.38it/s]"
     ]
    },
    {
     "name": "stdout",
     "output_type": "stream",
     "text": [
      "Deepface comparision\n",
      "----Deepface---\n",
      "Age:--- {32} ---\n",
      "Gender:--- {'Man'} ---\n",
      "Race:--- {'white'} ---\n",
      "Emotion:--- {'neutral'} ---\n",
      "------------------------------------------- \n",
      "/home/manish/Documents/police/image97.jpg\n"
     ]
    },
    {
     "name": "stderr",
     "output_type": "stream",
     "text": [
      "\n"
     ]
    },
    {
     "name": "stdout",
     "output_type": "stream",
     "text": [
      "/home/manish/Documents/police/image30.jpg\n",
      "Number of people: 1\n"
     ]
    },
    {
     "name": "stderr",
     "output_type": "stream",
     "text": [
      "Action: emotion:   0%|          | 0/4 [00:00<?, ?it/s]"
     ]
    },
    {
     "name": "stdout",
     "output_type": "stream",
     "text": [
      "1/1 [==============================] - 0s 23ms/step\n"
     ]
    },
    {
     "name": "stderr",
     "output_type": "stream",
     "text": [
      "Action: age:  25%|██▌       | 1/4 [00:00<00:00,  5.19it/s]    "
     ]
    },
    {
     "name": "stdout",
     "output_type": "stream",
     "text": [
      "1/1 [==============================] - 1s 819ms/step\n"
     ]
    },
    {
     "name": "stderr",
     "output_type": "stream",
     "text": [
      "Action: gender:  50%|█████     | 2/4 [00:01<00:01,  1.46it/s]"
     ]
    },
    {
     "name": "stdout",
     "output_type": "stream",
     "text": [
      "1/1 [==============================] - 1s 754ms/step\n"
     ]
    },
    {
     "name": "stderr",
     "output_type": "stream",
     "text": [
      "Action: race:  75%|███████▌  | 3/4 [00:02<00:00,  1.30it/s]  "
     ]
    },
    {
     "name": "stdout",
     "output_type": "stream",
     "text": [
      "1/1 [==============================] - 1s 927ms/step\n"
     ]
    },
    {
     "name": "stderr",
     "output_type": "stream",
     "text": [
      "Action: race: 100%|██████████| 4/4 [00:03<00:00,  1.27it/s]"
     ]
    },
    {
     "name": "stdout",
     "output_type": "stream",
     "text": [
      "Deepface comparision\n",
      "----Deepface---\n",
      "Age:--- {34} ---\n",
      "Gender:--- {'Man'} ---\n",
      "Race:--- {'white'} ---\n",
      "Emotion:--- {'neutral'} ---\n",
      "------------------------------------------- \n",
      "/home/manish/Documents/police/image72.jpg\n"
     ]
    },
    {
     "name": "stderr",
     "output_type": "stream",
     "text": [
      "\n"
     ]
    },
    {
     "name": "stdout",
     "output_type": "stream",
     "text": [
      "/home/manish/Documents/police/image78.jpg\n",
      "/home/manish/Documents/police/image5.jpg\n",
      "Number of people: 2\n"
     ]
    },
    {
     "name": "stderr",
     "output_type": "stream",
     "text": [
      "Action: emotion:   0%|          | 0/4 [00:00<?, ?it/s]"
     ]
    },
    {
     "name": "stdout",
     "output_type": "stream",
     "text": [
      "1/1 [==============================] - 0s 24ms/step\n"
     ]
    },
    {
     "name": "stderr",
     "output_type": "stream",
     "text": [
      "Action: age:  25%|██▌       | 1/4 [00:00<00:00,  6.62it/s]    "
     ]
    },
    {
     "name": "stdout",
     "output_type": "stream",
     "text": [
      "1/1 [==============================] - 1s 773ms/step\n"
     ]
    },
    {
     "name": "stderr",
     "output_type": "stream",
     "text": [
      "Action: gender:  50%|█████     | 2/4 [00:01<00:01,  1.51it/s]"
     ]
    },
    {
     "name": "stdout",
     "output_type": "stream",
     "text": [
      "1/1 [==============================] - 1s 910ms/step\n"
     ]
    },
    {
     "name": "stderr",
     "output_type": "stream",
     "text": [
      "Action: race:  75%|███████▌  | 3/4 [00:02<00:00,  1.18it/s]  "
     ]
    },
    {
     "name": "stdout",
     "output_type": "stream",
     "text": [
      "1/1 [==============================] - 1s 698ms/step\n"
     ]
    },
    {
     "name": "stderr",
     "output_type": "stream",
     "text": [
      "Action: race: 100%|██████████| 4/4 [00:03<00:00,  1.30it/s]\n"
     ]
    },
    {
     "name": "stdout",
     "output_type": "stream",
     "text": [
      "Deepface comparision\n",
      "----Deepface---\n",
      "Age:--- {39} ---\n",
      "Gender:--- {'Man'} ---\n",
      "Race:--- {'latino hispanic'} ---\n",
      "Emotion:--- {'happy'} ---\n",
      "------------------------------------------- \n"
     ]
    },
    {
     "name": "stderr",
     "output_type": "stream",
     "text": [
      "Action: emotion:   0%|          | 0/4 [00:00<?, ?it/s]"
     ]
    },
    {
     "name": "stdout",
     "output_type": "stream",
     "text": [
      "1/1 [==============================] - 0s 22ms/step\n"
     ]
    },
    {
     "name": "stderr",
     "output_type": "stream",
     "text": [
      "Action: age:  25%|██▌       | 1/4 [00:00<00:00,  4.34it/s]    "
     ]
    },
    {
     "name": "stdout",
     "output_type": "stream",
     "text": [
      "1/1 [==============================] - 1s 650ms/step\n"
     ]
    },
    {
     "name": "stderr",
     "output_type": "stream",
     "text": [
      "Action: gender:  50%|█████     | 2/4 [00:01<00:01,  1.67it/s]"
     ]
    },
    {
     "name": "stdout",
     "output_type": "stream",
     "text": [
      "1/1 [==============================] - 1s 711ms/step\n"
     ]
    },
    {
     "name": "stderr",
     "output_type": "stream",
     "text": [
      "Action: race:  75%|███████▌  | 3/4 [00:01<00:00,  1.44it/s]  "
     ]
    },
    {
     "name": "stdout",
     "output_type": "stream",
     "text": [
      "1/1 [==============================] - 1s 652ms/step\n"
     ]
    },
    {
     "name": "stderr",
     "output_type": "stream",
     "text": [
      "Action: race: 100%|██████████| 4/4 [00:02<00:00,  1.49it/s]"
     ]
    },
    {
     "name": "stdout",
     "output_type": "stream",
     "text": [
      "Deepface comparision\n",
      "----Deepface---\n",
      "Age:--- {32} ---\n",
      "Gender:--- {'Man'} ---\n",
      "Race:--- {'white'} ---\n",
      "Emotion:--- {'happy'} ---\n",
      "------------------------------------------- \n",
      "/home/manish/Documents/police/image11.jpg\n"
     ]
    },
    {
     "name": "stderr",
     "output_type": "stream",
     "text": [
      "\n"
     ]
    },
    {
     "name": "stdout",
     "output_type": "stream",
     "text": [
      "/home/manish/Documents/police/image95.jpg\n",
      "Number of people: 2\n"
     ]
    },
    {
     "name": "stderr",
     "output_type": "stream",
     "text": [
      "Action: emotion:   0%|          | 0/4 [00:00<?, ?it/s]"
     ]
    },
    {
     "name": "stdout",
     "output_type": "stream",
     "text": [
      "1/1 [==============================] - 0s 25ms/step\n"
     ]
    },
    {
     "name": "stderr",
     "output_type": "stream",
     "text": [
      "Action: age:  25%|██▌       | 1/4 [00:00<00:00,  6.70it/s]    "
     ]
    },
    {
     "name": "stdout",
     "output_type": "stream",
     "text": [
      "1/1 [==============================] - 1s 652ms/step\n"
     ]
    },
    {
     "name": "stderr",
     "output_type": "stream",
     "text": [
      "Action: gender:  50%|█████     | 2/4 [00:00<00:01,  1.81it/s]"
     ]
    },
    {
     "name": "stdout",
     "output_type": "stream",
     "text": [
      "1/1 [==============================] - 1s 1s/step\n"
     ]
    },
    {
     "name": "stderr",
     "output_type": "stream",
     "text": [
      "Action: race:  75%|███████▌  | 3/4 [00:02<00:00,  1.08it/s]  "
     ]
    },
    {
     "name": "stdout",
     "output_type": "stream",
     "text": [
      "1/1 [==============================] - 1s 656ms/step\n"
     ]
    },
    {
     "name": "stderr",
     "output_type": "stream",
     "text": [
      "Action: race: 100%|██████████| 4/4 [00:03<00:00,  1.28it/s]\n"
     ]
    },
    {
     "name": "stdout",
     "output_type": "stream",
     "text": [
      "Deepface comparision\n",
      "----Deepface---\n",
      "Age:--- {33} ---\n",
      "Gender:--- {'Woman'} ---\n",
      "Race:--- {'white'} ---\n",
      "Emotion:--- {'happy'} ---\n",
      "------------------------------------------- \n"
     ]
    },
    {
     "name": "stderr",
     "output_type": "stream",
     "text": [
      "Action: emotion:   0%|          | 0/4 [00:00<?, ?it/s]"
     ]
    },
    {
     "name": "stdout",
     "output_type": "stream",
     "text": [
      "1/1 [==============================] - 0s 22ms/step\n"
     ]
    },
    {
     "name": "stderr",
     "output_type": "stream",
     "text": [
      "Action: age:  25%|██▌       | 1/4 [00:00<00:00,  4.37it/s]    "
     ]
    },
    {
     "name": "stdout",
     "output_type": "stream",
     "text": [
      "1/1 [==============================] - 1s 671ms/step\n"
     ]
    },
    {
     "name": "stderr",
     "output_type": "stream",
     "text": [
      "Action: gender:  50%|█████     | 2/4 [00:01<00:01,  1.61it/s]"
     ]
    },
    {
     "name": "stdout",
     "output_type": "stream",
     "text": [
      "1/1 [==============================] - 1s 698ms/step\n"
     ]
    },
    {
     "name": "stderr",
     "output_type": "stream",
     "text": [
      "Action: race:  75%|███████▌  | 3/4 [00:01<00:00,  1.43it/s]  "
     ]
    },
    {
     "name": "stdout",
     "output_type": "stream",
     "text": [
      "1/1 [==============================] - 1s 666ms/step\n"
     ]
    },
    {
     "name": "stderr",
     "output_type": "stream",
     "text": [
      "Action: race: 100%|██████████| 4/4 [00:02<00:00,  1.48it/s]"
     ]
    },
    {
     "name": "stdout",
     "output_type": "stream",
     "text": [
      "Deepface comparision\n",
      "----Deepface---\n",
      "Age:--- {39} ---\n",
      "Gender:--- {'Man'} ---\n",
      "Race:--- {'middle eastern'} ---\n",
      "Emotion:--- {'angry'} ---\n",
      "------------------------------------------- \n",
      "/home/manish/Documents/police/image67.jpg\n"
     ]
    },
    {
     "name": "stderr",
     "output_type": "stream",
     "text": [
      "\n"
     ]
    },
    {
     "name": "stdout",
     "output_type": "stream",
     "text": [
      "/home/manish/Documents/police/image59.jpg\n",
      "Number of people: 1\n"
     ]
    },
    {
     "name": "stderr",
     "output_type": "stream",
     "text": [
      "Action: emotion:   0%|          | 0/4 [00:00<?, ?it/s]"
     ]
    },
    {
     "name": "stdout",
     "output_type": "stream",
     "text": [
      "1/1 [==============================] - 0s 22ms/step\n"
     ]
    },
    {
     "name": "stderr",
     "output_type": "stream",
     "text": [
      "Action: age:  25%|██▌       | 1/4 [00:00<00:00,  7.74it/s]    "
     ]
    },
    {
     "name": "stdout",
     "output_type": "stream",
     "text": [
      "1/1 [==============================] - 1s 681ms/step\n"
     ]
    },
    {
     "name": "stderr",
     "output_type": "stream",
     "text": [
      "Action: gender:  50%|█████     | 2/4 [00:00<00:01,  1.84it/s]"
     ]
    },
    {
     "name": "stdout",
     "output_type": "stream",
     "text": [
      "1/1 [==============================] - 1s 710ms/step\n"
     ]
    },
    {
     "name": "stderr",
     "output_type": "stream",
     "text": [
      "Action: race:  75%|███████▌  | 3/4 [00:01<00:00,  1.47it/s]  "
     ]
    },
    {
     "name": "stdout",
     "output_type": "stream",
     "text": [
      "1/1 [==============================] - 1s 675ms/step\n"
     ]
    },
    {
     "name": "stderr",
     "output_type": "stream",
     "text": [
      "Action: race: 100%|██████████| 4/4 [00:02<00:00,  1.55it/s]"
     ]
    },
    {
     "name": "stdout",
     "output_type": "stream",
     "text": [
      "Deepface comparision\n",
      "----Deepface---\n",
      "Age:--- {25} ---\n",
      "Gender:--- {'Man'} ---\n",
      "Race:--- {'white'} ---\n",
      "Emotion:--- {'neutral'} ---\n",
      "------------------------------------------- \n",
      "/home/manish/Documents/police/image53.jpg\n"
     ]
    },
    {
     "name": "stderr",
     "output_type": "stream",
     "text": [
      "\n"
     ]
    },
    {
     "name": "stdout",
     "output_type": "stream",
     "text": [
      "Number of people: 1\n"
     ]
    },
    {
     "name": "stderr",
     "output_type": "stream",
     "text": [
      "Action: emotion:   0%|          | 0/4 [00:00<?, ?it/s]"
     ]
    },
    {
     "name": "stdout",
     "output_type": "stream",
     "text": [
      "1/1 [==============================] - 0s 22ms/step\n"
     ]
    },
    {
     "name": "stderr",
     "output_type": "stream",
     "text": [
      "Action: age:  25%|██▌       | 1/4 [00:00<00:00,  7.79it/s]    "
     ]
    },
    {
     "name": "stdout",
     "output_type": "stream",
     "text": [
      "1/1 [==============================] - 1s 670ms/step\n"
     ]
    },
    {
     "name": "stderr",
     "output_type": "stream",
     "text": [
      "Action: gender:  50%|█████     | 2/4 [00:00<00:01,  1.82it/s]"
     ]
    },
    {
     "name": "stdout",
     "output_type": "stream",
     "text": [
      "1/1 [==============================] - 1s 725ms/step\n"
     ]
    },
    {
     "name": "stderr",
     "output_type": "stream",
     "text": [
      "Action: race:  75%|███████▌  | 3/4 [00:01<00:00,  1.47it/s]  "
     ]
    },
    {
     "name": "stdout",
     "output_type": "stream",
     "text": [
      "1/1 [==============================] - 1s 652ms/step\n"
     ]
    },
    {
     "name": "stderr",
     "output_type": "stream",
     "text": [
      "Action: race: 100%|██████████| 4/4 [00:02<00:00,  1.56it/s]"
     ]
    },
    {
     "name": "stdout",
     "output_type": "stream",
     "text": [
      "Deepface comparision\n",
      "----Deepface---\n",
      "Age:--- {30} ---\n",
      "Gender:--- {'Man'} ---\n",
      "Race:--- {'black'} ---\n",
      "Emotion:--- {'fear'} ---\n",
      "------------------------------------------- \n",
      "/home/manish/Documents/police/image87.jpg\n"
     ]
    },
    {
     "name": "stderr",
     "output_type": "stream",
     "text": [
      "\n"
     ]
    },
    {
     "name": "stdout",
     "output_type": "stream",
     "text": [
      "/home/manish/Documents/police/image36.jpg\n",
      "/home/manish/Documents/police/image23.jpg\n",
      "/home/manish/Documents/police/image55.jpg\n",
      "/home/manish/Documents/police/image57.jpg\n",
      "Number of people: 2\n"
     ]
    },
    {
     "name": "stderr",
     "output_type": "stream",
     "text": [
      "Action: emotion:   0%|          | 0/4 [00:00<?, ?it/s]"
     ]
    },
    {
     "name": "stdout",
     "output_type": "stream",
     "text": [
      "1/1 [==============================] - 0s 24ms/step\n"
     ]
    },
    {
     "name": "stderr",
     "output_type": "stream",
     "text": [
      "Action: age:  25%|██▌       | 1/4 [00:00<00:00,  7.78it/s]    "
     ]
    },
    {
     "name": "stdout",
     "output_type": "stream",
     "text": [
      "1/1 [==============================] - 1s 677ms/step\n"
     ]
    },
    {
     "name": "stderr",
     "output_type": "stream",
     "text": [
      "Action: gender:  50%|█████     | 2/4 [00:00<00:01,  1.87it/s]"
     ]
    },
    {
     "name": "stdout",
     "output_type": "stream",
     "text": [
      "1/1 [==============================] - 1s 724ms/step\n"
     ]
    },
    {
     "name": "stderr",
     "output_type": "stream",
     "text": [
      "Action: race:  75%|███████▌  | 3/4 [00:01<00:00,  1.50it/s]  "
     ]
    },
    {
     "name": "stdout",
     "output_type": "stream",
     "text": [
      "1/1 [==============================] - 1s 652ms/step\n"
     ]
    },
    {
     "name": "stderr",
     "output_type": "stream",
     "text": [
      "Action: race: 100%|██████████| 4/4 [00:02<00:00,  1.58it/s]\n"
     ]
    },
    {
     "name": "stdout",
     "output_type": "stream",
     "text": [
      "Deepface comparision\n",
      "----Deepface---\n",
      "Age:--- {27} ---\n",
      "Gender:--- {'Man'} ---\n",
      "Race:--- {'indian'} ---\n",
      "Emotion:--- {'angry'} ---\n",
      "------------------------------------------- \n"
     ]
    },
    {
     "name": "stderr",
     "output_type": "stream",
     "text": [
      "Action: emotion:   0%|          | 0/4 [00:00<?, ?it/s]"
     ]
    },
    {
     "name": "stdout",
     "output_type": "stream",
     "text": [
      "1/1 [==============================] - 0s 36ms/step\n"
     ]
    },
    {
     "name": "stderr",
     "output_type": "stream",
     "text": [
      "Action: age:  25%|██▌       | 1/4 [00:00<00:00,  4.45it/s]    "
     ]
    },
    {
     "name": "stdout",
     "output_type": "stream",
     "text": [
      "1/1 [==============================] - 1s 948ms/step\n"
     ]
    },
    {
     "name": "stderr",
     "output_type": "stream",
     "text": [
      "Action: gender:  50%|█████     | 2/4 [00:01<00:01,  1.29it/s]"
     ]
    },
    {
     "name": "stdout",
     "output_type": "stream",
     "text": [
      "1/1 [==============================] - 1s 715ms/step\n"
     ]
    },
    {
     "name": "stderr",
     "output_type": "stream",
     "text": [
      "Action: race:  75%|███████▌  | 3/4 [00:02<00:00,  1.27it/s]  "
     ]
    },
    {
     "name": "stdout",
     "output_type": "stream",
     "text": [
      "1/1 [==============================] - 1s 645ms/step\n"
     ]
    },
    {
     "name": "stderr",
     "output_type": "stream",
     "text": [
      "Action: race: 100%|██████████| 4/4 [00:02<00:00,  1.37it/s]"
     ]
    },
    {
     "name": "stdout",
     "output_type": "stream",
     "text": [
      "Deepface comparision\n",
      "----Deepface---\n",
      "Age:--- {38} ---\n",
      "Gender:--- {'Man'} ---\n",
      "Race:--- {'white'} ---\n",
      "Emotion:--- {'sad'} ---\n",
      "------------------------------------------- \n",
      "/home/manish/Documents/police/image12.jpg\n"
     ]
    },
    {
     "name": "stderr",
     "output_type": "stream",
     "text": [
      "\n"
     ]
    },
    {
     "name": "stdout",
     "output_type": "stream",
     "text": [
      "Number of people: 3\n"
     ]
    },
    {
     "name": "stderr",
     "output_type": "stream",
     "text": [
      "Action: emotion:   0%|          | 0/4 [00:00<?, ?it/s]"
     ]
    },
    {
     "name": "stdout",
     "output_type": "stream",
     "text": [
      "1/1 [==============================] - 0s 22ms/step\n"
     ]
    },
    {
     "name": "stderr",
     "output_type": "stream",
     "text": [
      "Action: age:  25%|██▌       | 1/4 [00:00<00:00,  7.58it/s]    "
     ]
    },
    {
     "name": "stdout",
     "output_type": "stream",
     "text": [
      "1/1 [==============================] - 1s 658ms/step\n"
     ]
    },
    {
     "name": "stderr",
     "output_type": "stream",
     "text": [
      "Action: gender:  50%|█████     | 2/4 [00:00<00:01,  1.77it/s]"
     ]
    },
    {
     "name": "stdout",
     "output_type": "stream",
     "text": [
      "1/1 [==============================] - 1s 711ms/step\n"
     ]
    },
    {
     "name": "stderr",
     "output_type": "stream",
     "text": [
      "Action: race:  75%|███████▌  | 3/4 [00:01<00:00,  1.49it/s]  "
     ]
    },
    {
     "name": "stdout",
     "output_type": "stream",
     "text": [
      "1/1 [==============================] - 1s 696ms/step\n"
     ]
    },
    {
     "name": "stderr",
     "output_type": "stream",
     "text": [
      "Action: race: 100%|██████████| 4/4 [00:02<00:00,  1.54it/s]\n"
     ]
    },
    {
     "name": "stdout",
     "output_type": "stream",
     "text": [
      "Deepface comparision\n",
      "----Deepface---\n",
      "Age:--- {46} ---\n",
      "Gender:--- {'Man'} ---\n",
      "Race:--- {'white'} ---\n",
      "Emotion:--- {'angry'} ---\n",
      "------------------------------------------- \n"
     ]
    },
    {
     "name": "stderr",
     "output_type": "stream",
     "text": [
      "Action: emotion:   0%|          | 0/4 [00:00<?, ?it/s]"
     ]
    },
    {
     "name": "stdout",
     "output_type": "stream",
     "text": [
      "1/1 [==============================] - 0s 22ms/step\n"
     ]
    },
    {
     "name": "stderr",
     "output_type": "stream",
     "text": [
      "Action: age:  25%|██▌       | 1/4 [00:00<00:00,  6.03it/s]    "
     ]
    },
    {
     "name": "stdout",
     "output_type": "stream",
     "text": [
      "1/1 [==============================] - 1s 700ms/step\n"
     ]
    },
    {
     "name": "stderr",
     "output_type": "stream",
     "text": [
      "Action: gender:  50%|█████     | 2/4 [00:01<00:01,  1.77it/s]"
     ]
    },
    {
     "name": "stdout",
     "output_type": "stream",
     "text": [
      "1/1 [==============================] - 1s 742ms/step\n"
     ]
    },
    {
     "name": "stderr",
     "output_type": "stream",
     "text": [
      "Action: race:  75%|███████▌  | 3/4 [00:01<00:00,  1.43it/s]  "
     ]
    },
    {
     "name": "stdout",
     "output_type": "stream",
     "text": [
      "1/1 [==============================] - 1s 685ms/step\n"
     ]
    },
    {
     "name": "stderr",
     "output_type": "stream",
     "text": [
      "Action: race: 100%|██████████| 4/4 [00:02<00:00,  1.51it/s]\n"
     ]
    },
    {
     "name": "stdout",
     "output_type": "stream",
     "text": [
      "Deepface comparision\n",
      "----Deepface---\n",
      "Age:--- {23} ---\n",
      "Gender:--- {'Man'} ---\n",
      "Race:--- {'asian'} ---\n",
      "Emotion:--- {'neutral'} ---\n",
      "------------------------------------------- \n"
     ]
    },
    {
     "name": "stderr",
     "output_type": "stream",
     "text": [
      "Action: emotion:   0%|          | 0/4 [00:00<?, ?it/s]"
     ]
    },
    {
     "name": "stdout",
     "output_type": "stream",
     "text": [
      "1/1 [==============================] - 0s 22ms/step\n"
     ]
    },
    {
     "name": "stderr",
     "output_type": "stream",
     "text": [
      "Action: age:  25%|██▌       | 1/4 [00:00<00:00,  4.24it/s]    "
     ]
    },
    {
     "name": "stdout",
     "output_type": "stream",
     "text": [
      "1/1 [==============================] - 1s 659ms/step\n"
     ]
    },
    {
     "name": "stderr",
     "output_type": "stream",
     "text": [
      "Action: gender:  50%|█████     | 2/4 [00:01<00:01,  1.68it/s]"
     ]
    },
    {
     "name": "stdout",
     "output_type": "stream",
     "text": [
      "1/1 [==============================] - 1s 718ms/step\n"
     ]
    },
    {
     "name": "stderr",
     "output_type": "stream",
     "text": [
      "Action: race:  75%|███████▌  | 3/4 [00:01<00:00,  1.45it/s]  "
     ]
    },
    {
     "name": "stdout",
     "output_type": "stream",
     "text": [
      "1/1 [==============================] - 1s 661ms/step\n"
     ]
    },
    {
     "name": "stderr",
     "output_type": "stream",
     "text": [
      "Action: race: 100%|██████████| 4/4 [00:02<00:00,  1.50it/s]"
     ]
    },
    {
     "name": "stdout",
     "output_type": "stream",
     "text": [
      "Deepface comparision\n",
      "----Deepface---\n",
      "Age:--- {27} ---\n",
      "Gender:--- {'Man'} ---\n",
      "Race:--- {'black'} ---\n",
      "Emotion:--- {'happy'} ---\n",
      "------------------------------------------- \n",
      "/home/manish/Documents/police/image73.jpg\n"
     ]
    },
    {
     "name": "stderr",
     "output_type": "stream",
     "text": [
      "\n"
     ]
    },
    {
     "name": "stdout",
     "output_type": "stream",
     "text": [
      "/home/manish/Documents/police/image6.jpg\n",
      "Number of people: 2\n"
     ]
    },
    {
     "name": "stderr",
     "output_type": "stream",
     "text": [
      "Action: emotion:   0%|          | 0/4 [00:00<?, ?it/s]"
     ]
    },
    {
     "name": "stdout",
     "output_type": "stream",
     "text": [
      "1/1 [==============================] - 0s 23ms/step\n"
     ]
    },
    {
     "name": "stderr",
     "output_type": "stream",
     "text": [
      "Action: age:  25%|██▌       | 1/4 [00:00<00:00,  8.49it/s]    "
     ]
    },
    {
     "name": "stdout",
     "output_type": "stream",
     "text": [
      "1/1 [==============================] - 1s 689ms/step\n"
     ]
    },
    {
     "name": "stderr",
     "output_type": "stream",
     "text": [
      "Action: gender:  50%|█████     | 2/4 [00:00<00:01,  1.85it/s]"
     ]
    },
    {
     "name": "stdout",
     "output_type": "stream",
     "text": [
      "1/1 [==============================] - 1s 711ms/step\n"
     ]
    },
    {
     "name": "stderr",
     "output_type": "stream",
     "text": [
      "Action: race:  75%|███████▌  | 3/4 [00:01<00:00,  1.51it/s]  "
     ]
    },
    {
     "name": "stdout",
     "output_type": "stream",
     "text": [
      "1/1 [==============================] - 1s 649ms/step\n"
     ]
    },
    {
     "name": "stderr",
     "output_type": "stream",
     "text": [
      "Action: race: 100%|██████████| 4/4 [00:02<00:00,  1.59it/s]\n"
     ]
    },
    {
     "name": "stdout",
     "output_type": "stream",
     "text": [
      "Deepface comparision\n",
      "----Deepface---\n",
      "Age:--- {23} ---\n",
      "Gender:--- {'Man'} ---\n",
      "Race:--- {'asian'} ---\n",
      "Emotion:--- {'happy'} ---\n",
      "------------------------------------------- \n"
     ]
    },
    {
     "name": "stderr",
     "output_type": "stream",
     "text": [
      "Action: emotion:   0%|          | 0/4 [00:00<?, ?it/s]"
     ]
    },
    {
     "name": "stdout",
     "output_type": "stream",
     "text": [
      "1/1 [==============================] - 0s 29ms/step\n"
     ]
    },
    {
     "name": "stderr",
     "output_type": "stream",
     "text": [
      "Action: age:  25%|██▌       | 1/4 [00:00<00:00,  4.31it/s]    "
     ]
    },
    {
     "name": "stdout",
     "output_type": "stream",
     "text": [
      "1/1 [==============================] - 1s 858ms/step\n"
     ]
    },
    {
     "name": "stderr",
     "output_type": "stream",
     "text": [
      "Action: gender:  50%|█████     | 2/4 [00:01<00:01,  1.40it/s]"
     ]
    },
    {
     "name": "stdout",
     "output_type": "stream",
     "text": [
      "1/1 [==============================] - 1s 805ms/step\n"
     ]
    },
    {
     "name": "stderr",
     "output_type": "stream",
     "text": [
      "Action: race:  75%|███████▌  | 3/4 [00:02<00:00,  1.23it/s]  "
     ]
    },
    {
     "name": "stdout",
     "output_type": "stream",
     "text": [
      "1/1 [==============================] - 1s 709ms/step\n"
     ]
    },
    {
     "name": "stderr",
     "output_type": "stream",
     "text": [
      "Action: race: 100%|██████████| 4/4 [00:02<00:00,  1.33it/s]"
     ]
    },
    {
     "name": "stdout",
     "output_type": "stream",
     "text": [
      "Deepface comparision\n",
      "----Deepface---\n",
      "Age:--- {23} ---\n",
      "Gender:--- {'Man'} ---\n",
      "Race:--- {'indian'} ---\n",
      "Emotion:--- {'angry'} ---\n",
      "------------------------------------------- \n",
      "/home/manish/Documents/police/image62.jpg\n"
     ]
    },
    {
     "name": "stderr",
     "output_type": "stream",
     "text": [
      "\n"
     ]
    },
    {
     "name": "stdout",
     "output_type": "stream",
     "text": [
      "Number of people: 1\n"
     ]
    },
    {
     "name": "stderr",
     "output_type": "stream",
     "text": [
      "Action: emotion:   0%|          | 0/4 [00:00<?, ?it/s]"
     ]
    },
    {
     "name": "stdout",
     "output_type": "stream",
     "text": [
      "1/1 [==============================] - 0s 26ms/step\n"
     ]
    },
    {
     "name": "stderr",
     "output_type": "stream",
     "text": [
      "Action: age:  25%|██▌       | 1/4 [00:00<00:00,  7.74it/s]    "
     ]
    },
    {
     "name": "stdout",
     "output_type": "stream",
     "text": [
      "1/1 [==============================] - 1s 659ms/step\n"
     ]
    },
    {
     "name": "stderr",
     "output_type": "stream",
     "text": [
      "Action: gender:  50%|█████     | 2/4 [00:00<00:01,  1.83it/s]"
     ]
    },
    {
     "name": "stdout",
     "output_type": "stream",
     "text": [
      "1/1 [==============================] - 1s 712ms/step\n"
     ]
    },
    {
     "name": "stderr",
     "output_type": "stream",
     "text": [
      "Action: race:  75%|███████▌  | 3/4 [00:01<00:00,  1.51it/s]  "
     ]
    },
    {
     "name": "stdout",
     "output_type": "stream",
     "text": [
      "1/1 [==============================] - 1s 668ms/step\n"
     ]
    },
    {
     "name": "stderr",
     "output_type": "stream",
     "text": [
      "Action: race: 100%|██████████| 4/4 [00:02<00:00,  1.57it/s]"
     ]
    },
    {
     "name": "stdout",
     "output_type": "stream",
     "text": [
      "Deepface comparision\n",
      "----Deepface---\n",
      "Age:--- {26} ---\n",
      "Gender:--- {'Woman'} ---\n",
      "Race:--- {'white'} ---\n",
      "Emotion:--- {'fear'} ---\n",
      "------------------------------------------- \n",
      "/home/manish/Documents/police/image74.jpg\n"
     ]
    },
    {
     "name": "stderr",
     "output_type": "stream",
     "text": [
      "\n"
     ]
    },
    {
     "name": "stdout",
     "output_type": "stream",
     "text": [
      "Number of people: 2\n"
     ]
    },
    {
     "name": "stderr",
     "output_type": "stream",
     "text": [
      "Action: emotion:   0%|          | 0/4 [00:00<?, ?it/s]"
     ]
    },
    {
     "name": "stdout",
     "output_type": "stream",
     "text": [
      "1/1 [==============================] - 0s 35ms/step\n"
     ]
    },
    {
     "name": "stderr",
     "output_type": "stream",
     "text": [
      "Action: age:  25%|██▌       | 1/4 [00:00<00:00,  5.89it/s]    "
     ]
    },
    {
     "name": "stdout",
     "output_type": "stream",
     "text": [
      "1/1 [==============================] - 1s 682ms/step\n"
     ]
    },
    {
     "name": "stderr",
     "output_type": "stream",
     "text": [
      "Action: gender:  50%|█████     | 2/4 [00:01<00:01,  1.64it/s]"
     ]
    },
    {
     "name": "stdout",
     "output_type": "stream",
     "text": [
      "1/1 [==============================] - 1s 698ms/step\n"
     ]
    },
    {
     "name": "stderr",
     "output_type": "stream",
     "text": [
      "Action: race:  75%|███████▌  | 3/4 [00:01<00:00,  1.43it/s]  "
     ]
    },
    {
     "name": "stdout",
     "output_type": "stream",
     "text": [
      "1/1 [==============================] - 1s 673ms/step\n"
     ]
    },
    {
     "name": "stderr",
     "output_type": "stream",
     "text": [
      "Action: race: 100%|██████████| 4/4 [00:02<00:00,  1.50it/s]\n"
     ]
    },
    {
     "name": "stdout",
     "output_type": "stream",
     "text": [
      "Deepface comparision\n",
      "----Deepface---\n",
      "Age:--- {28} ---\n",
      "Gender:--- {'Man'} ---\n",
      "Race:--- {'asian'} ---\n",
      "Emotion:--- {'fear'} ---\n",
      "------------------------------------------- \n"
     ]
    },
    {
     "name": "stderr",
     "output_type": "stream",
     "text": [
      "Action: emotion:   0%|          | 0/4 [00:00<?, ?it/s]"
     ]
    },
    {
     "name": "stdout",
     "output_type": "stream",
     "text": [
      "1/1 [==============================] - 0s 22ms/step\n"
     ]
    },
    {
     "name": "stderr",
     "output_type": "stream",
     "text": [
      "Action: age:  25%|██▌       | 1/4 [00:00<00:00,  4.30it/s]    "
     ]
    },
    {
     "name": "stdout",
     "output_type": "stream",
     "text": [
      "1/1 [==============================] - 1s 676ms/step\n"
     ]
    },
    {
     "name": "stderr",
     "output_type": "stream",
     "text": [
      "Action: gender:  50%|█████     | 2/4 [00:01<00:01,  1.64it/s]"
     ]
    },
    {
     "name": "stdout",
     "output_type": "stream",
     "text": [
      "1/1 [==============================] - 1s 730ms/step\n"
     ]
    },
    {
     "name": "stderr",
     "output_type": "stream",
     "text": [
      "Action: race:  75%|███████▌  | 3/4 [00:01<00:00,  1.41it/s]  "
     ]
    },
    {
     "name": "stdout",
     "output_type": "stream",
     "text": [
      "1/1 [==============================] - 1s 681ms/step\n"
     ]
    },
    {
     "name": "stderr",
     "output_type": "stream",
     "text": [
      "Action: race: 100%|██████████| 4/4 [00:02<00:00,  1.47it/s]"
     ]
    },
    {
     "name": "stdout",
     "output_type": "stream",
     "text": [
      "Deepface comparision\n",
      "----Deepface---\n",
      "Age:--- {27} ---\n",
      "Gender:--- {'Man'} ---\n",
      "Race:--- {'black'} ---\n",
      "Emotion:--- {'angry'} ---\n",
      "------------------------------------------- \n",
      "/home/manish/Documents/police/image56.jpg\n"
     ]
    },
    {
     "name": "stderr",
     "output_type": "stream",
     "text": [
      "\n"
     ]
    },
    {
     "name": "stdout",
     "output_type": "stream",
     "text": [
      "Number of people: 1\n"
     ]
    },
    {
     "name": "stderr",
     "output_type": "stream",
     "text": [
      "Action: emotion:   0%|          | 0/4 [00:00<?, ?it/s]"
     ]
    },
    {
     "name": "stdout",
     "output_type": "stream",
     "text": [
      "1/1 [==============================] - 0s 22ms/step\n"
     ]
    },
    {
     "name": "stderr",
     "output_type": "stream",
     "text": [
      "Action: age:  25%|██▌       | 1/4 [00:00<00:00,  8.83it/s]    "
     ]
    },
    {
     "name": "stdout",
     "output_type": "stream",
     "text": [
      "1/1 [==============================] - 1s 853ms/step\n"
     ]
    },
    {
     "name": "stderr",
     "output_type": "stream",
     "text": [
      "Action: gender:  50%|█████     | 2/4 [00:01<00:01,  1.52it/s]"
     ]
    },
    {
     "name": "stdout",
     "output_type": "stream",
     "text": [
      "1/1 [==============================] - 1s 955ms/step\n"
     ]
    },
    {
     "name": "stderr",
     "output_type": "stream",
     "text": [
      "Action: race:  75%|███████▌  | 3/4 [00:02<00:00,  1.16it/s]  "
     ]
    },
    {
     "name": "stdout",
     "output_type": "stream",
     "text": [
      "1/1 [==============================] - 1s 783ms/step\n"
     ]
    },
    {
     "name": "stderr",
     "output_type": "stream",
     "text": [
      "Action: race: 100%|██████████| 4/4 [00:03<00:00,  1.26it/s]"
     ]
    },
    {
     "name": "stdout",
     "output_type": "stream",
     "text": [
      "Deepface comparision\n",
      "----Deepface---\n",
      "Age:--- {24} ---\n",
      "Gender:--- {'Man'} ---\n",
      "Race:--- {'white'} ---\n",
      "Emotion:--- {'neutral'} ---\n",
      "------------------------------------------- \n",
      "/home/manish/Documents/police/image17.jpg\n"
     ]
    },
    {
     "name": "stderr",
     "output_type": "stream",
     "text": [
      "\n"
     ]
    },
    {
     "name": "stdout",
     "output_type": "stream",
     "text": [
      "/home/manish/Documents/police/image37.jpg\n",
      "Number of people: 1\n"
     ]
    },
    {
     "name": "stderr",
     "output_type": "stream",
     "text": [
      "Action: emotion:   0%|          | 0/4 [00:00<?, ?it/s]"
     ]
    },
    {
     "name": "stdout",
     "output_type": "stream",
     "text": [
      "1/1 [==============================] - 0s 24ms/step\n"
     ]
    },
    {
     "name": "stderr",
     "output_type": "stream",
     "text": [
      "Action: age:  25%|██▌       | 1/4 [00:00<00:00,  7.36it/s]    "
     ]
    },
    {
     "name": "stdout",
     "output_type": "stream",
     "text": [
      "1/1 [==============================] - 1s 670ms/step\n"
     ]
    },
    {
     "name": "stderr",
     "output_type": "stream",
     "text": [
      "Action: gender:  50%|█████     | 2/4 [00:00<00:01,  1.79it/s]"
     ]
    },
    {
     "name": "stdout",
     "output_type": "stream",
     "text": [
      "1/1 [==============================] - 1s 715ms/step\n"
     ]
    },
    {
     "name": "stderr",
     "output_type": "stream",
     "text": [
      "Action: race:  75%|███████▌  | 3/4 [00:01<00:00,  1.48it/s]  "
     ]
    },
    {
     "name": "stdout",
     "output_type": "stream",
     "text": [
      "1/1 [==============================] - 1s 674ms/step\n"
     ]
    },
    {
     "name": "stderr",
     "output_type": "stream",
     "text": [
      "Action: race: 100%|██████████| 4/4 [00:02<00:00,  1.55it/s]"
     ]
    },
    {
     "name": "stdout",
     "output_type": "stream",
     "text": [
      "Deepface comparision\n",
      "----Deepface---\n",
      "Age:--- {39} ---\n",
      "Gender:--- {'Man'} ---\n",
      "Race:--- {'black'} ---\n",
      "Emotion:--- {'fear'} ---\n",
      "------------------------------------------- \n",
      "/home/manish/Documents/police/image76.jpg\n"
     ]
    },
    {
     "name": "stderr",
     "output_type": "stream",
     "text": [
      "\n"
     ]
    },
    {
     "name": "stdout",
     "output_type": "stream",
     "text": [
      "/home/manish/Documents/police/image14.jpg\n",
      "/home/manish/Documents/police/image34.jpg\n",
      "/home/manish/Documents/police/image84.jpg\n",
      "Number of people: 1\n"
     ]
    },
    {
     "name": "stderr",
     "output_type": "stream",
     "text": [
      "Action: emotion:   0%|          | 0/4 [00:00<?, ?it/s]"
     ]
    },
    {
     "name": "stdout",
     "output_type": "stream",
     "text": [
      "1/1 [==============================] - 0s 23ms/step\n"
     ]
    },
    {
     "name": "stderr",
     "output_type": "stream",
     "text": [
      "Action: age:  25%|██▌       | 1/4 [00:00<00:00,  9.18it/s]    "
     ]
    },
    {
     "name": "stdout",
     "output_type": "stream",
     "text": [
      "1/1 [==============================] - 1s 759ms/step\n"
     ]
    },
    {
     "name": "stderr",
     "output_type": "stream",
     "text": [
      "Action: gender:  50%|█████     | 2/4 [00:01<00:01,  1.72it/s]"
     ]
    },
    {
     "name": "stdout",
     "output_type": "stream",
     "text": [
      "1/1 [==============================] - 1s 694ms/step\n"
     ]
    },
    {
     "name": "stderr",
     "output_type": "stream",
     "text": [
      "Action: race:  75%|███████▌  | 3/4 [00:01<00:00,  1.48it/s]  "
     ]
    },
    {
     "name": "stdout",
     "output_type": "stream",
     "text": [
      "1/1 [==============================] - 1s 670ms/step\n"
     ]
    },
    {
     "name": "stderr",
     "output_type": "stream",
     "text": [
      "Action: race: 100%|██████████| 4/4 [00:02<00:00,  1.55it/s]"
     ]
    },
    {
     "name": "stdout",
     "output_type": "stream",
     "text": [
      "Deepface comparision\n",
      "----Deepface---\n",
      "Age:--- {33} ---\n",
      "Gender:--- {'Man'} ---\n",
      "Race:--- {'black'} ---\n",
      "Emotion:--- {'neutral'} ---\n",
      "------------------------------------------- \n",
      "/home/manish/Documents/police/image85.jpg\n"
     ]
    },
    {
     "name": "stderr",
     "output_type": "stream",
     "text": [
      "\n"
     ]
    },
    {
     "name": "stdout",
     "output_type": "stream",
     "text": [
      "/home/manish/Documents/police/image61.jpg\n",
      "/home/manish/Documents/police/image48.jpg\n",
      "/home/manish/Documents/police/image89.jpg\n",
      "/home/manish/Documents/police/image40.jpg\n",
      "/home/manish/Documents/police/image70.jpg\n",
      "Number of people: 1\n"
     ]
    },
    {
     "name": "stderr",
     "output_type": "stream",
     "text": [
      "Action: emotion:   0%|          | 0/4 [00:00<?, ?it/s]"
     ]
    },
    {
     "name": "stdout",
     "output_type": "stream",
     "text": [
      "1/1 [==============================] - 0s 38ms/step\n"
     ]
    },
    {
     "name": "stderr",
     "output_type": "stream",
     "text": [
      "Action: age:  25%|██▌       | 1/4 [00:00<00:00,  5.83it/s]    "
     ]
    },
    {
     "name": "stdout",
     "output_type": "stream",
     "text": [
      "1/1 [==============================] - 1s 1s/step\n"
     ]
    },
    {
     "name": "stderr",
     "output_type": "stream",
     "text": [
      "Action: gender:  50%|█████     | 2/4 [00:01<00:01,  1.24it/s]"
     ]
    },
    {
     "name": "stdout",
     "output_type": "stream",
     "text": [
      "1/1 [==============================] - 1s 705ms/step\n"
     ]
    },
    {
     "name": "stderr",
     "output_type": "stream",
     "text": [
      "Action: race:  75%|███████▌  | 3/4 [00:02<00:00,  1.24it/s]  "
     ]
    },
    {
     "name": "stdout",
     "output_type": "stream",
     "text": [
      "1/1 [==============================] - 1s 661ms/step\n"
     ]
    },
    {
     "name": "stderr",
     "output_type": "stream",
     "text": [
      "Action: race: 100%|██████████| 4/4 [00:03<00:00,  1.32it/s]"
     ]
    },
    {
     "name": "stdout",
     "output_type": "stream",
     "text": [
      "Deepface comparision\n",
      "----Deepface---\n",
      "Age:--- {24} ---\n",
      "Gender:--- {'Man'} ---\n",
      "Race:--- {'white'} ---\n",
      "Emotion:--- {'neutral'} ---\n",
      "------------------------------------------- \n",
      "/home/manish/Documents/police/image81.jpg\n"
     ]
    },
    {
     "name": "stderr",
     "output_type": "stream",
     "text": [
      "\n"
     ]
    },
    {
     "name": "stdout",
     "output_type": "stream",
     "text": [
      "/home/manish/Documents/police/image92.jpg\n",
      "Number of people: 2\n"
     ]
    },
    {
     "name": "stderr",
     "output_type": "stream",
     "text": [
      "Action: emotion:   0%|          | 0/4 [00:00<?, ?it/s]"
     ]
    },
    {
     "name": "stdout",
     "output_type": "stream",
     "text": [
      "1/1 [==============================] - 0s 23ms/step\n"
     ]
    },
    {
     "name": "stderr",
     "output_type": "stream",
     "text": [
      "Action: age:  25%|██▌       | 1/4 [00:00<00:00,  8.50it/s]    "
     ]
    },
    {
     "name": "stdout",
     "output_type": "stream",
     "text": [
      "1/1 [==============================] - 1s 673ms/step\n"
     ]
    },
    {
     "name": "stderr",
     "output_type": "stream",
     "text": [
      "Action: gender:  50%|█████     | 2/4 [00:00<00:01,  1.82it/s]"
     ]
    },
    {
     "name": "stdout",
     "output_type": "stream",
     "text": [
      "1/1 [==============================] - 1s 700ms/step\n"
     ]
    },
    {
     "name": "stderr",
     "output_type": "stream",
     "text": [
      "Action: race:  75%|███████▌  | 3/4 [00:01<00:00,  1.47it/s]  "
     ]
    },
    {
     "name": "stdout",
     "output_type": "stream",
     "text": [
      "1/1 [==============================] - 1s 699ms/step\n"
     ]
    },
    {
     "name": "stderr",
     "output_type": "stream",
     "text": [
      "Action: race: 100%|██████████| 4/4 [00:02<00:00,  1.53it/s]\n"
     ]
    },
    {
     "name": "stdout",
     "output_type": "stream",
     "text": [
      "Deepface comparision\n",
      "----Deepface---\n",
      "Age:--- {26} ---\n",
      "Gender:--- {'Man'} ---\n",
      "Race:--- {'white'} ---\n",
      "Emotion:--- {'neutral'} ---\n",
      "------------------------------------------- \n"
     ]
    },
    {
     "name": "stderr",
     "output_type": "stream",
     "text": [
      "Action: emotion:   0%|          | 0/4 [00:00<?, ?it/s]"
     ]
    },
    {
     "name": "stdout",
     "output_type": "stream",
     "text": [
      "1/1 [==============================] - 0s 23ms/step\n"
     ]
    },
    {
     "name": "stderr",
     "output_type": "stream",
     "text": [
      "Action: age:  25%|██▌       | 1/4 [00:00<00:00,  5.41it/s]    "
     ]
    },
    {
     "name": "stdout",
     "output_type": "stream",
     "text": [
      "1/1 [==============================] - 1s 676ms/step\n"
     ]
    },
    {
     "name": "stderr",
     "output_type": "stream",
     "text": [
      "Action: gender:  50%|█████     | 2/4 [00:01<00:01,  1.68it/s]"
     ]
    },
    {
     "name": "stdout",
     "output_type": "stream",
     "text": [
      "1/1 [==============================] - 1s 703ms/step\n"
     ]
    },
    {
     "name": "stderr",
     "output_type": "stream",
     "text": [
      "Action: race:  75%|███████▌  | 3/4 [00:01<00:00,  1.43it/s]  "
     ]
    },
    {
     "name": "stdout",
     "output_type": "stream",
     "text": [
      "1/1 [==============================] - 1s 668ms/step\n"
     ]
    },
    {
     "name": "stderr",
     "output_type": "stream",
     "text": [
      "Action: race: 100%|██████████| 4/4 [00:02<00:00,  1.49it/s]"
     ]
    },
    {
     "name": "stdout",
     "output_type": "stream",
     "text": [
      "Deepface comparision\n",
      "----Deepface---\n",
      "Age:--- {32} ---\n",
      "Gender:--- {'Man'} ---\n",
      "Race:--- {'white'} ---\n",
      "Emotion:--- {'neutral'} ---\n",
      "------------------------------------------- \n",
      "/home/manish/Documents/police/image15.jpg\n"
     ]
    },
    {
     "name": "stderr",
     "output_type": "stream",
     "text": [
      "\n"
     ]
    },
    {
     "name": "stdout",
     "output_type": "stream",
     "text": [
      "/home/manish/Documents/police/image50.jpg\n",
      "/home/manish/Documents/police/image13.jpg\n",
      "/home/manish/Documents/police/image93.jpg\n",
      "/home/manish/Documents/police/image16.jpg\n",
      "/home/manish/Documents/police/image29.jpg\n",
      "/home/manish/Documents/police/image77.jpg\n",
      "Number of people: 1\n"
     ]
    },
    {
     "name": "stderr",
     "output_type": "stream",
     "text": [
      "Action: emotion:   0%|          | 0/4 [00:00<?, ?it/s]"
     ]
    },
    {
     "name": "stdout",
     "output_type": "stream",
     "text": [
      "1/1 [==============================] - 0s 23ms/step\n"
     ]
    },
    {
     "name": "stderr",
     "output_type": "stream",
     "text": [
      "Action: age:  25%|██▌       | 1/4 [00:00<00:00,  6.24it/s]    "
     ]
    },
    {
     "name": "stdout",
     "output_type": "stream",
     "text": [
      "1/1 [==============================] - 1s 673ms/step\n"
     ]
    },
    {
     "name": "stderr",
     "output_type": "stream",
     "text": [
      "Action: gender:  50%|█████     | 2/4 [00:01<00:01,  1.64it/s]"
     ]
    },
    {
     "name": "stdout",
     "output_type": "stream",
     "text": [
      "1/1 [==============================] - 1s 690ms/step\n"
     ]
    },
    {
     "name": "stderr",
     "output_type": "stream",
     "text": [
      "Action: race:  75%|███████▌  | 3/4 [00:01<00:00,  1.44it/s]  "
     ]
    },
    {
     "name": "stdout",
     "output_type": "stream",
     "text": [
      "1/1 [==============================] - 1s 675ms/step\n"
     ]
    },
    {
     "name": "stderr",
     "output_type": "stream",
     "text": [
      "Action: race: 100%|██████████| 4/4 [00:02<00:00,  1.51it/s]"
     ]
    },
    {
     "name": "stdout",
     "output_type": "stream",
     "text": [
      "Deepface comparision\n",
      "----Deepface---\n",
      "Age:--- {25} ---\n",
      "Gender:--- {'Man'} ---\n",
      "Race:--- {'white'} ---\n",
      "Emotion:--- {'sad'} ---\n",
      "------------------------------------------- \n",
      "/home/manish/Documents/police/image96.jpg\n"
     ]
    },
    {
     "name": "stderr",
     "output_type": "stream",
     "text": [
      "\n"
     ]
    },
    {
     "name": "stdout",
     "output_type": "stream",
     "text": [
      "Number of people: 1\n"
     ]
    },
    {
     "name": "stderr",
     "output_type": "stream",
     "text": [
      "Action: emotion:   0%|          | 0/4 [00:00<?, ?it/s]"
     ]
    },
    {
     "name": "stdout",
     "output_type": "stream",
     "text": [
      "1/1 [==============================] - 0s 24ms/step\n"
     ]
    },
    {
     "name": "stderr",
     "output_type": "stream",
     "text": [
      "Action: age:  25%|██▌       | 1/4 [00:00<00:00,  7.48it/s]    "
     ]
    },
    {
     "name": "stdout",
     "output_type": "stream",
     "text": [
      "1/1 [==============================] - 1s 674ms/step\n"
     ]
    },
    {
     "name": "stderr",
     "output_type": "stream",
     "text": [
      "Action: gender:  50%|█████     | 2/4 [00:00<00:01,  1.82it/s]"
     ]
    },
    {
     "name": "stdout",
     "output_type": "stream",
     "text": [
      "1/1 [==============================] - 1s 1s/step\n"
     ]
    },
    {
     "name": "stderr",
     "output_type": "stream",
     "text": [
      "Action: race:  75%|███████▌  | 3/4 [00:02<00:01,  1.02s/it]  "
     ]
    },
    {
     "name": "stdout",
     "output_type": "stream",
     "text": [
      "1/1 [==============================] - 1s 681ms/step\n"
     ]
    },
    {
     "name": "stderr",
     "output_type": "stream",
     "text": [
      "Action: race: 100%|██████████| 4/4 [00:03<00:00,  1.20it/s]"
     ]
    },
    {
     "name": "stdout",
     "output_type": "stream",
     "text": [
      "Deepface comparision\n",
      "----Deepface---\n",
      "Age:--- {24} ---\n",
      "Gender:--- {'Man'} ---\n",
      "Race:--- {'black'} ---\n",
      "Emotion:--- {'neutral'} ---\n",
      "------------------------------------------- \n",
      "/home/manish/Documents/police/image91.jpg\n"
     ]
    },
    {
     "name": "stderr",
     "output_type": "stream",
     "text": [
      "\n"
     ]
    },
    {
     "name": "stdout",
     "output_type": "stream",
     "text": [
      "/home/manish/Documents/police/image90.jpg\n",
      "/home/manish/Documents/police/image82.jpg\n",
      "Number of people: 3\n"
     ]
    },
    {
     "name": "stderr",
     "output_type": "stream",
     "text": [
      "Action: emotion:   0%|          | 0/4 [00:00<?, ?it/s]"
     ]
    },
    {
     "name": "stdout",
     "output_type": "stream",
     "text": [
      "1/1 [==============================] - 0s 23ms/step\n"
     ]
    },
    {
     "name": "stderr",
     "output_type": "stream",
     "text": [
      "Action: age:  25%|██▌       | 1/4 [00:00<00:00,  8.37it/s]    "
     ]
    },
    {
     "name": "stdout",
     "output_type": "stream",
     "text": [
      "1/1 [==============================] - 1s 766ms/step\n"
     ]
    },
    {
     "name": "stderr",
     "output_type": "stream",
     "text": [
      "Action: gender:  50%|█████     | 2/4 [00:01<00:01,  1.68it/s]"
     ]
    },
    {
     "name": "stdout",
     "output_type": "stream",
     "text": [
      "1/1 [==============================] - 1s 728ms/step\n"
     ]
    },
    {
     "name": "stderr",
     "output_type": "stream",
     "text": [
      "Action: race:  75%|███████▌  | 3/4 [00:01<00:00,  1.41it/s]  "
     ]
    },
    {
     "name": "stdout",
     "output_type": "stream",
     "text": [
      "1/1 [==============================] - 1s 791ms/step\n"
     ]
    },
    {
     "name": "stderr",
     "output_type": "stream",
     "text": [
      "Action: race: 100%|██████████| 4/4 [00:02<00:00,  1.44it/s]\n"
     ]
    },
    {
     "name": "stdout",
     "output_type": "stream",
     "text": [
      "Deepface comparision\n",
      "----Deepface---\n",
      "Age:--- {25} ---\n",
      "Gender:--- {'Man'} ---\n",
      "Race:--- {'white'} ---\n",
      "Emotion:--- {'fear'} ---\n",
      "------------------------------------------- \n"
     ]
    },
    {
     "name": "stderr",
     "output_type": "stream",
     "text": [
      "Action: emotion:   0%|          | 0/4 [00:00<?, ?it/s]"
     ]
    },
    {
     "name": "stdout",
     "output_type": "stream",
     "text": [
      "1/1 [==============================] - 0s 23ms/step\n"
     ]
    },
    {
     "name": "stderr",
     "output_type": "stream",
     "text": [
      "Action: age:  25%|██▌       | 1/4 [00:00<00:00,  5.40it/s]    "
     ]
    },
    {
     "name": "stdout",
     "output_type": "stream",
     "text": [
      "1/1 [==============================] - 1s 682ms/step\n"
     ]
    },
    {
     "name": "stderr",
     "output_type": "stream",
     "text": [
      "Action: gender:  50%|█████     | 2/4 [00:00<00:01,  1.81it/s]"
     ]
    },
    {
     "name": "stdout",
     "output_type": "stream",
     "text": [
      "1/1 [==============================] - 1s 708ms/step\n"
     ]
    },
    {
     "name": "stderr",
     "output_type": "stream",
     "text": [
      "Action: race:  75%|███████▌  | 3/4 [00:01<00:00,  1.48it/s]  "
     ]
    },
    {
     "name": "stdout",
     "output_type": "stream",
     "text": [
      "1/1 [==============================] - 1s 661ms/step\n"
     ]
    },
    {
     "name": "stderr",
     "output_type": "stream",
     "text": [
      "Action: race: 100%|██████████| 4/4 [00:02<00:00,  1.54it/s]\n"
     ]
    },
    {
     "name": "stdout",
     "output_type": "stream",
     "text": [
      "Deepface comparision\n",
      "----Deepface---\n",
      "Age:--- {28} ---\n",
      "Gender:--- {'Man'} ---\n",
      "Race:--- {'asian'} ---\n",
      "Emotion:--- {'neutral'} ---\n",
      "------------------------------------------- \n"
     ]
    },
    {
     "name": "stderr",
     "output_type": "stream",
     "text": [
      "Action: emotion:   0%|          | 0/4 [00:00<?, ?it/s]"
     ]
    },
    {
     "name": "stdout",
     "output_type": "stream",
     "text": [
      "1/1 [==============================] - 0s 27ms/step\n"
     ]
    },
    {
     "name": "stderr",
     "output_type": "stream",
     "text": [
      "Action: age:  25%|██▌       | 1/4 [00:00<00:00,  5.22it/s]    "
     ]
    },
    {
     "name": "stdout",
     "output_type": "stream",
     "text": [
      "1/1 [==============================] - 1s 701ms/step\n"
     ]
    },
    {
     "name": "stderr",
     "output_type": "stream",
     "text": [
      "Action: gender:  50%|█████     | 2/4 [00:01<00:01,  1.76it/s]"
     ]
    },
    {
     "name": "stdout",
     "output_type": "stream",
     "text": [
      "1/1 [==============================] - 1s 725ms/step\n"
     ]
    },
    {
     "name": "stderr",
     "output_type": "stream",
     "text": [
      "Action: race:  75%|███████▌  | 3/4 [00:01<00:00,  1.47it/s]  "
     ]
    },
    {
     "name": "stdout",
     "output_type": "stream",
     "text": [
      "1/1 [==============================] - 1s 787ms/step\n"
     ]
    },
    {
     "name": "stderr",
     "output_type": "stream",
     "text": [
      "Action: race: 100%|██████████| 4/4 [00:02<00:00,  1.48it/s]"
     ]
    },
    {
     "name": "stdout",
     "output_type": "stream",
     "text": [
      "Deepface comparision\n",
      "----Deepface---\n",
      "Age:--- {26} ---\n",
      "Gender:--- {'Man'} ---\n",
      "Race:--- {'black'} ---\n",
      "Emotion:--- {'happy'} ---\n",
      "------------------------------------------- \n",
      "/home/manish/Documents/police/image79.jpg\n"
     ]
    },
    {
     "name": "stderr",
     "output_type": "stream",
     "text": [
      "\n"
     ]
    },
    {
     "name": "stdout",
     "output_type": "stream",
     "text": [
      " Number of image analyzed: 72\n",
      "average age:30.27777777777778\n",
      "probability:  33.45000000000001\n",
      "-----------------Race------------------\n",
      "White: 32\n",
      "Black: 18\n",
      "Asian:9\n",
      "Indian: 6\n",
      "Unknown: 7\n",
      "---------Emotion------------------\n",
      "Angry: 8\n",
      "Disgust: 0\n",
      "fear: 0\n",
      "Hppy: 17\n",
      "sad: 8\n",
      "Suprise:0\n",
      "neutral: 39\n",
      " Number of image analyzed: 8\n",
      "average age:30.125\n",
      "probability:  3.5500000000000003\n",
      "-----------------Race------------------\n",
      "White: 6\n",
      "Black: 0\n",
      "Asian:0\n",
      "Indian: 0\n",
      "Unknown: 2\n",
      "---------Emotion------------------\n",
      "Angry: 1\n",
      "Disgust: 0\n",
      "fear: 0\n",
      "Hppy: 6\n",
      "sad: 0\n",
      "Suprise:0\n",
      "neutral: 1\n",
      "Time taken by deepface  is : 356seconds\n"
     ]
    }
   ],
   "source": [
    "import time\n",
    "\n",
    "\n",
    "dataset_dir = \"/home/manish/Documents/dataset\"\n",
    "save_dir = \"/home/manish/Documents/police\"\n",
    "tmp_dir = \"/home/manish/Documents\" # directory to store temporary created image\n",
    "\n",
    "\n",
    "wordSearch=[\" ceo \",\" CEO \",\"-ceo-\",\"-CEO-\",\"CHIEF EXECUTIVE OFFICER\",\"chief executive officer\"]\n",
    "\n",
    "wordSearch2=[\" police \",\"-police-\",\"/police-\"]\n",
    "index = 0\n",
    "\n",
    "\n",
    "for dataset in os.listdir(dataset_dir):\n",
    " \n",
    "    \n",
    "    datasetName = dataset_dir+\"/\"+dataset\n",
    "    print(\"datasetName: \"+ datasetName)\n",
    "    data = pd.read_parquet(datasetName, engine='pyarrow')\n",
    "    \n",
    "    dfn= data.to_numpy()\n",
    "    rows = dfn.shape[0]\n",
    "    cols = dfn.shape[1]\n",
    "    val = -1 # inital value no word match\n",
    "    \n",
    "    \n",
    "    \n",
    "    for x in range(0, rows-1): #for the end of the dataset \n",
    "        \n",
    "        if index == 100:\n",
    "            break\n",
    "        for s in wordSearch2:\n",
    "            val=dfn[x][1].lower().find(s)\n",
    "            if val != -1 :  #val takes -1 if the word is not encountered\n",
    "                break\n",
    "            \n",
    "        if val != -1:  # val has found the word\n",
    "            url = dfn[x][0]\n",
    "            print(\"url: \"+url)\n",
    "            print(\"+--------------------------------------+\")\n",
    "            print(\"Text: \"+dfn[x][1])\n",
    "            try:\n",
    "                request=urllib.request.Request(url,None,headers) #The assembled request\n",
    "                #resource = urllib.request.urlopen(request,context=ssl.create_default_context(cafile=certifi.where()))\n",
    "                resource = urllib.request.urlopen(request,context=context)\n",
    "                download_image_link= save_dir + \"/\" + \"image\"+ str(index) +\".jpg\"\n",
    "                output = open(download_image_link,\"wb\")\n",
    "                output.write(resource.read())\n",
    "                output.close()\n",
    "                index = index+1\n",
    "            except:\n",
    "                continue      \n",
    "    \n",
    "\n",
    "demostatsMen = Stats(\"democlassi\",\"men\")\n",
    "demostatsMen.race = Stats.Race()\n",
    "demostatsMen.emotion = Stats.Emotion()\n",
    "\n",
    "demostatsWomen= Stats(\"democlassi\",\"women\")\n",
    "demostatsWomen.race = Stats.Race()\n",
    "demostatsWomen.emotion = Stats.Emotion()\n",
    "\n",
    "##deepface statstics evaluation\n",
    "deepstatsMen = Stats(\"deepface\",\"men\")\n",
    "deepstatsMen.race = Stats.Race()\n",
    "deepstatsMen.emotion = Stats.Emotion()\n",
    "\n",
    "deepstatsWomen= Stats(\"deepface\",\"women\")\n",
    "deepstatsWomen.race = Stats.Race()\n",
    "deepstatsWomen.emotion = Stats.Emotion()\n",
    "\n",
    "\n",
    "\n",
    "st = time.time()\n",
    "evaluateDemoclassi(save_dir,tmp_dir,demostatsMen,demostatsWomen)\n",
    "et = time.time()\n",
    "\n",
    "\n",
    "printStats(demostatsMen)\n",
    "printStats(demostatsWomen)\n",
    "\n",
    "print(\"Time taken by democlassi  is : \"+ str(round(et-st)) + \"seconds\")\n",
    "\n",
    "\n",
    "st = time.time()\n",
    "evaluateDeepface(save_dir,tmp_dir,deepstatsMen,deepstatsWomen)\n",
    "et = time.time()\n",
    "\n",
    "printStats(deepstatsMen)\n",
    "printStats(deepstatsWomen)\n",
    "print(\"Time taken by deepface  is : \"+str(round(et-st))+ \"seconds\")\n",
    "\n"
   ]
  },
  {
   "cell_type": "code",
   "execution_count": null,
   "metadata": {},
   "outputs": [],
   "source": []
  }
 ],
 "metadata": {
  "kernelspec": {
   "display_name": "myenv",
   "language": "python",
   "name": "myenv"
  },
  "language_info": {
   "codemirror_mode": {
    "name": "ipython",
    "version": 3
   },
   "file_extension": ".py",
   "mimetype": "text/x-python",
   "name": "python",
   "nbconvert_exporter": "python",
   "pygments_lexer": "ipython3",
   "version": "3.7.15"
  }
 },
 "nbformat": 4,
 "nbformat_minor": 4
}
